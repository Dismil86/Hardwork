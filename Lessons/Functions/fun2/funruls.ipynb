{
 "cells": [
  {
   "cell_type": "markdown",
   "id": "3f6d3d50-ece0-4754-8204-ff1fd2f734a1",
   "metadata": {},
   "source": [
    "Правила хорошей функции\n",
    "\n",
    "\n",
    "•\tимеет читаемое название, нужную информацию получает в аргументах\n",
    "\n",
    "\n",
    "•\t- короткая/читаемая \n",
    "\n",
    "•\t- возвращает результат (NO PRINT!) \n",
    "\n",
    "•\t- независима (NO GLOBAL!!!), и не меняет ничего вне себя \n",
    "\n",
    "•\t- умеет делать что-то одно, но умеет это хорошо и знает все для этого\n",
    "\n",
    "•\t - если меняет пришедший аргумент, то возвращает None\n",
    "\n",
    "•\t - Тестируема!\n",
    "\n",
    "•\t используем встроенные функции # ловим конкретное исключение, пишем информацию в ветке except\n"
   ]
  }
 ],
 "metadata": {
  "kernelspec": {
   "display_name": "Python 3 (ipykernel)",
   "language": "python",
   "name": "python3"
  },
  "language_info": {
   "codemirror_mode": {
    "name": "ipython",
    "version": 3
   },
   "file_extension": ".py",
   "mimetype": "text/x-python",
   "name": "python",
   "nbconvert_exporter": "python",
   "pygments_lexer": "ipython3",
   "version": "3.9.13"
  }
 },
 "nbformat": 4,
 "nbformat_minor": 5
}
