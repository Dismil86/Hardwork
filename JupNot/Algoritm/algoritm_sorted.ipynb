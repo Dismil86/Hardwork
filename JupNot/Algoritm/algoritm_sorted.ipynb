{
 "cells": [
  {
   "cell_type": "code",
   "execution_count": 1,
   "metadata": {},
   "outputs": [
    {
     "name": "stdout",
     "output_type": "stream",
     "text": [
      "[1, 2, 3, 4, 5]\n"
     ]
    }
   ],
   "source": [
    "def insert_sort(s):\n",
    "    n = len(s)\n",
    "    for top in range(1, n):# считаем что нулвой элемент массива отсортирован,поэтому проходим остальные элементы и сравнивам с предыдущими элементами\n",
    "                           #  и вставляем в начало массива меньшие элементы\n",
    "        k = top # \n",
    "        while k > 0 and s[k - 1] > s[k]:# если индекс больше 0 и предыдщий элемент меньше текущего выполняем перестановки и спускаемся к началу массива\n",
    "            s[k - 1], s[k] = s[k], s[k - 1]\n",
    "            k -= 1\n",
    "    return s\n",
    "\n",
    "print(insert_sort(s = [2,3,5,1,4]))"
   ]
  },
  {
   "cell_type": "code",
   "execution_count": null,
   "metadata": {},
   "outputs": [],
   "source": []
  }
 ],
 "metadata": {
  "kernelspec": {
   "display_name": "Python 3.11.0 64-bit ('3.11.0')",
   "language": "python",
   "name": "python3"
  },
  "language_info": {
   "codemirror_mode": {
    "name": "ipython",
    "version": 3
   },
   "file_extension": ".py",
   "mimetype": "text/x-python",
   "name": "python",
   "nbconvert_exporter": "python",
   "pygments_lexer": "ipython3",
   "version": "3.11.0"
  },
  "orig_nbformat": 4,
  "vscode": {
   "interpreter": {
    "hash": "9e67aa080b8c1c4d6e24d2b5c9e4edecc235517ee5352f63b29e74ed8b9c94da"
   }
  }
 },
 "nbformat": 4,
 "nbformat_minor": 2
}
