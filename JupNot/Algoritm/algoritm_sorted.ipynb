{
 "cells": [
  {
   "cell_type": "markdown",
   "metadata": {},
   "source": [
    "Алогоритм сортировки методом вставками O(n**2)"
   ]
  },
  {
   "cell_type": "code",
   "execution_count": 1,
   "metadata": {},
   "outputs": [
    {
     "name": "stdout",
     "output_type": "stream",
     "text": [
      "[1, 2, 3, 4, 5]\n"
     ]
    }
   ],
   "source": [
    "def insert_sort(s):\n",
    "    n = len(s)\n",
    "    for top in range(1, n):# считаем что нулвой элемент массива отсортирован,поэтому проходим остальные элементы и сравнивам с предыдущими элементами\n",
    "                           #  и вставляем в начало массива меньшие элементы\n",
    "        k = top # \n",
    "        while k > 0 and s[k - 1] > s[k]:# если индекс больше 0 и предыдщий элемент меньше текущего выполняем перестановки и спускаемся к началу массива\n",
    "            s[k - 1], s[k] = s[k], s[k - 1]\n",
    "            k -= 1\n",
    "    return s\n",
    "\n",
    "print(insert_sort(s = [2,3,5,1,4]))"
   ]
  },
  {
   "cell_type": "markdown",
   "metadata": {},
   "source": [
    "Алгоритм сортировки методом выбора"
   ]
  },
  {
   "cell_type": "code",
   "execution_count": 1,
   "metadata": {},
   "outputs": [
    {
     "name": "stdout",
     "output_type": "stream",
     "text": [
      "[1, 2, 3, 4, 5]\n"
     ]
    }
   ],
   "source": [
    "def choise_sort(s):\n",
    "    n = len(s)\n",
    "    for poz in range(0, n):\n",
    "        for k in range(poz + 1, n):\n",
    "            if s[k] < s[poz]:\n",
    "                s[k], s[poz] = s[poz], s[k]\n",
    "    return s\n",
    "\n",
    "print(choise_sort(s = [2,3,5,1,4]))"
   ]
  },
  {
   "cell_type": "markdown",
   "metadata": {},
   "source": [
    "Алгоритм сортрировки методом пузырька "
   ]
  },
  {
   "cell_type": "code",
   "execution_count": 2,
   "metadata": {},
   "outputs": [
    {
     "name": "stdout",
     "output_type": "stream",
     "text": [
      "[1, 2, 3, 4, 5]\n"
     ]
    }
   ],
   "source": [
    "def bublle_sort(s):\n",
    "    n = len(s)\n",
    "    for bypass in range(1, n): #lДля каждого прохода \n",
    "        for k in range(0, n-bypass):\n",
    "            if s[k] > s[k+1]:\n",
    "                s[k],s[k + 1] = s[k + 1], s[k]\n",
    "    return s\n",
    "print(bublle_sort(s=[2,3,5,1,4]))"
   ]
  },
  {
   "cell_type": "markdown",
   "metadata": {},
   "source": [
    "Алгоритм быстрой сортировки. в качестве опорного элемента взят средний элемент "
   ]
  },
  {
   "cell_type": "code",
   "execution_count": 6,
   "metadata": {},
   "outputs": [
    {
     "name": "stdout",
     "output_type": "stream",
     "text": [
      "[-5, 3, 4, 8, 10, 11]\n"
     ]
    }
   ],
   "source": [
    "def quick_sort(s):\n",
    "    if len(s) < 2:\n",
    "        return s\n",
    "    else:\n",
    "        mid = len(s) // 2 # Выбрали опорный элемент \n",
    "        less = [i for i in s[:mid] if i <= s[mid]] + [i for i in s[mid + 1:] if i <= s[mid]]\n",
    "        greater = [i for i in s[:mid] if i > s[mid]] + [i for i in s[mid + 1:] if i > s[mid]]\n",
    "        return quick_sort(less) + [s[mid]] + quick_sort(greater)\n",
    "    \n",
    "s = [int(i) for i in input().split()]\n",
    "print(quick_sort(s))\n",
    "        \n",
    "        "
   ]
  },
  {
   "cell_type": "code",
   "execution_count": null,
   "metadata": {},
   "outputs": [],
   "source": []
  }
 ],
 "metadata": {
  "kernelspec": {
   "display_name": "Python 3.11.0 64-bit ('3.11.0')",
   "language": "python",
   "name": "python3"
  },
  "language_info": {
   "codemirror_mode": {
    "name": "ipython",
    "version": 3
   },
   "file_extension": ".py",
   "mimetype": "text/x-python",
   "name": "python",
   "nbconvert_exporter": "python",
   "pygments_lexer": "ipython3",
   "version": "3.11.0"
  },
  "orig_nbformat": 4,
  "vscode": {
   "interpreter": {
    "hash": "9e67aa080b8c1c4d6e24d2b5c9e4edecc235517ee5352f63b29e74ed8b9c94da"
   }
  }
 },
 "nbformat": 4,
 "nbformat_minor": 2
}
