{
 "cells": [
  {
   "cell_type": "markdown",
   "metadata": {},
   "source": [
    "Вот формальная структура того, что\n",
    "может встречаться в качестве цели подстановки в строке формата — все ее четыре части\n",
    "необязательны и должны задаваться без промежуточных пробелов:\n",
    "\n",
    "#####{имя__поля компонент ! флаг_преобразования : спецификатор_формата}\n",
    "\n",
    "имя_поля — необязательное число или ключевое слово, идентифицирующее аргумент, которое может быть опущено для применения относительной нумера\u0002ции аргументов в Python 2.7, 3.1 и более поздних версиях.\n",
    "Глава 7. Фундаментальные основы строк 253 Лутц  Книга 1\n",
    "\n",
    "• компонент — строка из нуля или большего числа ссылок .имя либо [индекс],\n",
    "используемых для извлечения атрибутов и индексированных значений аргумента, которая может быть опущена для применения всего значения аргумента.\n",
    "\n",
    "• флаг_преобразования, если присутствует, начинается с символа !, за которым\n",
    "следует г, s или а для вызова на значении встроенных функций герг, str или\n",
    "ascii соответственно.\n",
    "\n",
    "• спецификатор_формата, если присутствует, начинается с символа :, за которым\n",
    "следует текст, указывающий, каким образом значение должно быть представлено, в том числе такие детали, как ширина поля, выравнивание, дополнение, де\u0002сятичная точность и т.д., и в конце необязательный код типа данных.\n",
    "\n",
    "Часть спецификатор-формата после символа двоеточия имеет собственный расширенный формат и формально описывается так (квадратные скобки обозначают не\u0002обязательные компоненты и записываться буквально не должны):\n",
    "\n",
    "#####[[заполнение] выравнивание] [знак] [#] [0] [ширина] [,] [.точность] [код_типа]\n",
    "\n",
    "\n",
    "Escape-последовательности декодируются так же, как в обычных строковых литералах (за исключением случаев, когда литерал также помечен как необработанная строка). После декодирования грамматика для содержимого строки:\n",
    "```\n",
    "f_string ::= (literal_char | \"{{\" | \"}}\" | replacement_field)*\n",
    "replacement_field ::= \"{\" f_expression[\"=\"] [\"!\" conversion] [\":\" format_spec] \"}\"\n",
    "f_expression ::= (conditional_expression | \"*\" or_expr)\n",
    " (\",\" conditional_expression | \",\" \"*\" or_expr)* [\",\"]\n",
    " | yield_expression\n",
    "преобразование ::= \"s\" | \"r\" | \"a\" \n",
    "format_spec ::= (literal_char | NULL | replacement_field)*\n",
    "literal_char ::= <любая кодовая точка, кроме \"{\", \"}\" или NULL>\n",
    "```\n",
    "####Примеры использования fstrings:\n",
    "```\n",
    ">>> name = \"Fred\"\n",
    ">>> f\"He said his name is {name!r}.\"\n",
    "\"He said his name is 'Fred'.\"\n",
    ">>> f\"He said his name is {repr(name)}.\"  # repr() is equivalent to !r\n",
    "\"He said his name is 'Fred'.\"\n",
    ">>> width = 10\n",
    ">>> precision = 4\n",
    ">>> value = decimal.Decimal(\"12.34567\")\n",
    ">>> f\"result: {value:{width}.{precision}}\"  # nested fields\n",
    "'result:      12.35'\n",
    ">>> today = datetime(year=2017, month=1, day=27)\n",
    ">>> f\"{today:%B %d, %Y}\"  # using date format specifier\n",
    "'January 27, 2017'\n",
    ">>> f\"{today=:%B %d, %Y}\" # using date format specifier and debugging\n",
    "'today=January 27, 2017'\n",
    ">>> number = 1024\n",
    ">>> f\"{number:#0x}\"  # using integer format specifier\n",
    "'0x400'\n",
    ">>> foo = \"bar\"\n",
    ">>> f\"{ foo = }\" # preserves whitespace\n",
    "\" foo = 'bar'\"\n",
    ">>> line = \"The mill's closed\"\n",
    ">>> f\"{line = }\"\n",
    "'line = \"The mill\\'s closed\"'\n",
    ">>> f\"{line = :20}\"\n",
    "\"line = The mill's closed   \"\n",
    ">>> f\"{line = !r:20}\"\n",
    "'line = \"The mill\\'s closed\" '\n",
    "s = \"The mill's closed\"\n",
    "print(f\"'{s = :20}'\")\n",
    ">>>'s = The mill's closed   '\n",
    "```\n",
    "Общая форма спецификатора стандартного формата:\n",
    "```\n",
    "format_spec ::= [[fill]align][sign][#][0][width][grouping_option][.precision][type]\n",
    "заполнить ::= <любой символ>\n",
    "выровнять ::= \"<\" | \">\" | \"=\" | \"^\" \n",
    "знак ::= \"+\" | \"-\" | \" \"\n",
    "ширина ::= digit+\n",
    "группировка_опция ::= \"_\" | \",\"\n",
    "точность ::= digit+ \n",
    "тип ::= \"b\" | \"c\" | \"d\" | \"e\" | \"E\" | \"f\" | \"F\" | \"g\" | \"G\" | \"n\" | \"o\" | \"s\" | \"x\" | \"X\" | \"%\"\n",
    "```"
   ]
  },
  {
   "cell_type": "code",
   "execution_count": 5,
   "metadata": {},
   "outputs": [
    {
     "name": "stdout",
     "output_type": "stream",
     "text": [
      "'s = ***The mill's closed'\n"
     ]
    }
   ],
   "source": [
    "s = \"The mill's closed\"\n",
    "print(f\"'{s = :*>20}'\")"
   ]
  },
  {
   "cell_type": "code",
   "execution_count": 13,
   "metadata": {},
   "outputs": [
    {
     "name": "stdout",
     "output_type": "stream",
     "text": [
      "4334, вам исполняется 77 лет в 290\n"
     ]
    }
   ],
   "source": [
    "name = input()\n",
    "years_birth = int(input())\n",
    "print(f\"{name}, вам исполняется 77 лет в {years_birth + 77}\")"
   ]
  },
  {
   "cell_type": "markdown",
   "metadata": {},
   "source": [
    "                                     Cчитывание данных  в одну строку от программы(теста)\n",
    "                                     "
   ]
  },
  {
   "cell_type": "code",
   "execution_count": 21,
   "metadata": {},
   "outputs": [
    {
     "ename": "SyntaxError",
     "evalue": "invalid syntax (350831900.py, line 1)",
     "output_type": "error",
     "traceback": [
      "\u001b[1;36m  Input \u001b[1;32mIn [21]\u001b[1;36m\u001b[0m\n\u001b[1;33m    s, h = int(i) for i in input().split()\u001b[0m\n\u001b[1;37m                  ^\u001b[0m\n\u001b[1;31mSyntaxError\u001b[0m\u001b[1;31m:\u001b[0m invalid syntax\n"
     ]
    }
   ],
   "source": [
    "s, h = [int(i) for i in input().split()]\n",
    "print(f\"Разрешение экрана: {s} x {h}.\\nОбщее количество пикселей = {s * h}.\")\n",
    "print(s,h)"
   ]
  },
  {
   "cell_type": "markdown",
   "metadata": {},
   "source": [
    "Форматирование времени. \n",
    "Напишите программу для перевода натурального значения секунд в значение минут определенного формата."
   ]
  },
  {
   "cell_type": "code",
   "execution_count": 1,
   "metadata": {},
   "outputs": [
    {
     "name": "stdout",
     "output_type": "stream",
     "text": [
      "432 сек - это 7 мин. 12 сек.\n"
     ]
    }
   ],
   "source": [
    "from time import gmtime\n",
    "\n",
    "sec = int(input())\n",
    "timer = gmtime(sec)\n",
    "print(f'{sec} сек - это {timer.tm_min} мин. {timer.tm_sec} сек.')"
   ]
  },
  {
   "cell_type": "markdown",
   "metadata": {},
   "source": [
    "Нашей программе поступает на вход x, y, z - три целых числа, обозначающие координаты вектора А. Затем необходимо найти координаты вектора B, путем увеличения на 5 каждой из координаты вектора А.\n",
    "Оба вектора необходимо распечатать в определенном формате"
   ]
  },
  {
   "cell_type": "code",
   "execution_count": 39,
   "metadata": {},
   "outputs": [
    {
     "name": "stdout",
     "output_type": "stream",
     "text": [
      "Vector A(2, 4, 5)\n",
      "Vector B(7, 9, 10)\n"
     ]
    }
   ],
   "source": [
    "a,b,c = [int(input()) for i in range(3)]\n",
    "print(f\"Vector A{a, b, c}\\nVector B({a + 5}, {b + 5}, {c + 5})\")"
   ]
  },
  {
   "cell_type": "code",
   "execution_count": 27,
   "metadata": {},
   "outputs": [
    {
     "name": "stdout",
     "output_type": "stream",
     "text": [
      "[23, 465, 4564]\n"
     ]
    }
   ],
   "source": [
    "# сохраняет введенные данные от пользователя в список. Окончание ввода наступает после ввода пустой строки\n",
    "s = [int(i) for i in iter(input,'')]\n",
    "print(s)"
   ]
  },
  {
   "cell_type": "code",
   "execution_count": 3,
   "metadata": {},
   "outputs": [
    {
     "name": "stdout",
     "output_type": "stream",
     "text": [
      "Vector A(2, 4, 5)\n",
      "Vector B10, 20, 25)\n",
      "2 5\n"
     ]
    }
   ],
   "source": [
    "a,b,c = (int(i) for i in iter(input,''))\n",
    "print(f\"Vector A{a, b, c}\\nVector B({a * 5}, {b * 5}, {c * 5})\")\n",
    "print(a,c)"
   ]
  },
  {
   "cell_type": "markdown",
   "metadata": {},
   "source": [
    "######Мы знаем теперь как при помощи f-строки вывести имя переменной и ее значение. Вот можете полюбоваться примером ниже:\n",
    "```\n",
    "x = 14\n",
    "y = 17\n",
    "print(f\"x = {x}, y = {y}\")\n",
    "x = 14, y = 17\n",
    "```\n",
    "######Но начиная с версии Python 3.8 функционал f-строк был дополнен новой возможностью по выводу имён переменных и их значений. Посмотрите как теперь это можно сделать:\n",
    "```\n",
    "x = 11\n",
    "y = 98\n",
    "print(f\"{x=}, {y=}\")\n",
    "#пробелы будут учтены\n",
    "print(f\"{x  =}, {y= }\")\n",
    "x=11, y=98\n",
    "x  =11, y= 98\n",
    "\n",
    "```\n",
    "На вход вашей программе поступают координаты точки x и y - два целых числа, каждое вводится на отдельной строчке. \n",
    "\n",
    "Ваша задача обязательно сохранить поступающие на вход значения в переменные x и y соответственно, и затем вывести строку вида Точка(x = {значение}, y = {значение})\n",
    "Sample Input 1: \n",
    "5\n",
    "9\n",
    "Sample Output 1:\n",
    "Точка(x = 5, y = 9)\n",
    "\n",
    "```\n",
    "x,y = [int(input()) for i in range(2)]\n",
    "print(f\"Точка({x = }, {y = })\")\n",
    "Точка(x = 5, y = 9)\n",
    "```\n",
    "\n"
   ]
  },
  {
   "cell_type": "code",
   "execution_count": 11,
   "metadata": {},
   "outputs": [
    {
     "name": "stdout",
     "output_type": "stream",
     "text": [
      "Точка(x = 5, y = 9)\n"
     ]
    }
   ],
   "source": [
    "x,y = [int(input()) for i in range(2)]\n",
    "print(f\"Точка({x = }, {y = })\")"
   ]
  },
  {
   "cell_type": "markdown",
   "metadata": {},
   "source": [
    "Целочисленные литералы описываются следующими лексическими определениями:\n",
    "```\n",
    "целое число ::= decinteger| bininteger| octinteger| hexinteger\n",
    "decinteger ::= nonzerodigit([\"_\"] digit)* | \"0\"+ ([\"_\"] \"0\")*\n",
    "bininteger ::= \"0\" (\"b\" | \"B\") ([\"_\"] bindigit)+ \n",
    "восьмиугольник ::= \"0\" (\"o\" | \"O\") ([\"_\"] octdigit)+\n",
    "hexinteger ::= \"0\" (\"x\" | \"X\") ([\"_\"] hexdigit)+ \n",
    "нецеродигит ::= \"1\"...\"9\"\n",
    "цифра ::= \"0\"...\"9\"\n",
    "bindigit ::= \"0\" | \"1\" \n",
    "восьмиразрядный ::= \"0\"...\"7\"\n",
    "шестнадцатеричный ::= digit| \"a\"...\"f\" | \"A\"...\"F\"\n",
    "```\n",
    "Общая форма спецификатора стандартного формата:\n",
    "```\n",
    "format_spec ::= [[fill]align][sign][#][0][width][grouping_option][.precision][type]\n",
    "заполнить ::= <любой символ>\n",
    "выровнять ::= \"<\" | \">\" | \"=\" | \"^\" \n",
    "знак ::= \"+\" | \"-\" | \" \"\n",
    "ширина ::= digit+\n",
    "группировка_опция ::= \"_\" | \",\"\n",
    "точность ::= digit+ \n",
    "тип ::= \"b\" | \"c\" | \"d\" | \"e\" | \"E\" | \"f\" | \"F\" | \"g\" | \"G\" | \"n\" | \"o\" | \"s\" | \"x\" | \"X\" | \"%\"\n",
    "```"
   ]
  },
  {
   "cell_type": "markdown",
   "metadata": {},
   "source": [
    "Ответ простой - форматировать. F-строки поддерживают функционал форматирования. Мы указываем специальным образом после имени переменной сколько символов ожидаем увидеть.\n",
    "```\n",
    "a = 1/8\n",
    "b = 1/2\n",
    "c = 1/3\n",
    "print(f'{a = :.3f}')\n",
    "print(f'{b = :.3f}')\n",
    "print(f'{c = :.3f}')\n",
    "print('------')\n",
    "print(f'{c:.3f}')\n",
    "print(f'{c:.1f}')\n",
    "print(f'{c:.2f}')\n",
    "print(f'{c:.10f}')\n",
    "\n",
    "a = 0.125\n",
    "b = 0.500\n",
    "c = 0.333\n",
    "------\n",
    "0.333\n",
    "0.3\n",
    "0.33\n",
    "0.3333333333\n",
    "```\n",
    "Запись c:.3f говорит, что  переменную c нужно представить в вещественном виде (это знак f) и отобразить три символа после запятой. Если у переменной c не хватает символов для трех знаков, проставятся нули. Если символов в избытке, произойдет округление до третьего символа после запятой.\n",
    "\n",
    "Над целыми числами тоже можно так издеваться)\n",
    "```\n",
    "100.0\n",
    "100.00\n",
    "100.000\n",
    "```\n",
    "Допишите программу, чтобы выводилось только шесть знаков после запятой\n",
    "```\n",
    "number_pi = 3.141592653589793\n",
    "print(f'{number_pi:.6f}')\n",
    "3.141593\n",
    "\n",
    "print(f\"{34:0>10}\")\n",
    "0000000034\n",
    "```\n",
    "вам необходимо подправить код ниже так, чтобы он выравнивал\n",
    "\n",
    "первый print по центру\n",
    "второй print по правому краю\n",
    "третий print по левому краю\n",
    "Количество знаков для выравнивания 20 символов, знак разделителя - &\n",
    "Input:\n",
    "hello\n",
    "Output:\n",
    "|&&&&&&&hello&&&&&&&&|\n",
    "|&&&&&&&&&&&&&&&hello|\n",
    "|hello&&&&&&&&&&&&&&&|\n",
    "```\n",
    "text = input()\n",
    "print(f\"|{text:&^20}|\")\n",
    "print(f\"|{text:&>20}|\")\n",
    "print(f\"|{text:&<20}|\")\n",
    "```"
   ]
  },
  {
   "cell_type": "code",
   "execution_count": 23,
   "metadata": {},
   "outputs": [
    {
     "ename": "ValueError",
     "evalue": "Unknown format code 'x' for object of type 'float'",
     "output_type": "error",
     "traceback": [
      "\u001b[1;31m---------------------------------------------------------------------------\u001b[0m",
      "\u001b[1;31mValueError\u001b[0m                                Traceback (most recent call last)",
      "\u001b[1;32mf:\\ProgramProjects\\LearnPython\\JupNot\\Fstrings.ipynb Ячейка 16\u001b[0m in \u001b[0;36m<cell line: 2>\u001b[1;34m()\u001b[0m\n\u001b[0;32m      <a href='vscode-notebook-cell:/f%3A/ProgramProjects/LearnPython/JupNot/Fstrings.ipynb#X31sZmlsZQ%3D%3D?line=0'>1</a>\u001b[0m number_pi \u001b[39m=\u001b[39m \u001b[39m3.141592653589793\u001b[39m\n\u001b[1;32m----> <a href='vscode-notebook-cell:/f%3A/ProgramProjects/LearnPython/JupNot/Fstrings.ipynb#X31sZmlsZQ%3D%3D?line=1'>2</a>\u001b[0m \u001b[39mprint\u001b[39m(\u001b[39mf\u001b[39m\u001b[39m'\u001b[39m\u001b[39m{\u001b[39;00mnumber_pi\u001b[39m:\u001b[39;00m\u001b[39mx\u001b[39m\u001b[39m}\u001b[39;00m\u001b[39m'\u001b[39m)\n",
      "\u001b[1;31mValueError\u001b[0m: Unknown format code 'x' for object of type 'float'"
     ]
    }
   ],
   "source": [
    "number_pi = 3.141592653589793# Тип числа float\n",
    "print(f'{number_pi:x}')# Преобразование к целым числам(int) не возможно: Ошибка\n"
   ]
  },
  {
   "cell_type": "code",
   "execution_count": 31,
   "metadata": {},
   "outputs": [
    {
     "name": "stdout",
     "output_type": "stream",
     "text": [
      "0xff\n"
     ]
    }
   ],
   "source": [
    "number_pi = 255\n",
    "print(f'{number_pi:#x}') # Преобразование в целое 16 число"
   ]
  },
  {
   "cell_type": "code",
   "execution_count": 32,
   "metadata": {},
   "outputs": [
    {
     "name": "stdout",
     "output_type": "stream",
     "text": [
      "0000000034\n"
     ]
    }
   ],
   "source": [
    "print(f\"{int(input()):0>10}\")"
   ]
  },
  {
   "cell_type": "code",
   "execution_count": 36,
   "metadata": {},
   "outputs": [
    {
     "name": "stdout",
     "output_type": "stream",
     "text": [
      "|&&&&&&&hello&&&&&&&&|\n",
      "|&&&&&&&&&&&&&&&hello|\n",
      "|hello&&&&&&&&&&&&&&&|\n"
     ]
    }
   ],
   "source": [
    "text = input()\n",
    "print(f\"|{text:&^20}|\") #  по центру\n",
    "print(f\"|{text:&>20}|\") #  по правому\n",
    "print(f\"|{text:&<20}|\") # по левому краю"
   ]
  },
  {
   "cell_type": "markdown",
   "metadata": {},
   "source": [
    "Работа с датой и временем\n"
   ]
  },
  {
   "cell_type": "code",
   "execution_count": 14,
   "metadata": {},
   "outputs": [
    {
     "name": "stdout",
     "output_type": "stream",
     "text": [
      "06-09-2022  15:43:58\n"
     ]
    }
   ],
   "source": [
    "import datetime\n",
    "today = datetime.datetime.now()\n",
    "print(f'{today:%d-%m-%Y  %H:%M:%S}')"
   ]
  },
  {
   "cell_type": "code",
   "execution_count": null,
   "metadata": {},
   "outputs": [],
   "source": []
  }
 ],
 "metadata": {
  "kernelspec": {
   "display_name": "Python 3.10.0 ('virtLearnPython': venv)",
   "language": "python",
   "name": "python3"
  },
  "language_info": {
   "codemirror_mode": {
    "name": "ipython",
    "version": 3
   },
   "file_extension": ".py",
   "mimetype": "text/x-python",
   "name": "python",
   "nbconvert_exporter": "python",
   "pygments_lexer": "ipython3",
   "version": "3.10.0"
  },
  "orig_nbformat": 4,
  "vscode": {
   "interpreter": {
    "hash": "60320100e61b6abca5e8fa8813d7fca326eec3cbf4dd3d414f82d819f5069e7b"
   }
  }
 },
 "nbformat": 4,
 "nbformat_minor": 2
}
