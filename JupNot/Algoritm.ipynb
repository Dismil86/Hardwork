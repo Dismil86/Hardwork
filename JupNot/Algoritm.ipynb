{
 "cells": [
  {
   "cell_type": "markdown",
   "metadata": {},
   "source": [
    "Алгоритм Бинарного поиска. \n",
    "Условия работы бинарного поиска это упорядоченность элементов коллекции\n"
   ]
  },
  {
   "cell_type": "code",
   "execution_count": 20,
   "metadata": {},
   "outputs": [
    {
     "data": {
      "text/plain": [
       "1"
      ]
     },
     "execution_count": 20,
     "metadata": {},
     "output_type": "execute_result"
    }
   ],
   "source": [
    "def bin_find(list,item):\n",
    "    \"\"\"Args:list(list) -> list : Коллекция в которой будет осуществляться поиск\n",
    "       index(int): число (элемент коллекции), которое будем искать в коллекции \n",
    "    Функция возвращает  индекс искомого элемента  коллекции. \n",
    "    \"\"\"\n",
    "    low = 0 # задаем нижнее значение колличества элементов в списке, нулевой индекс\n",
    "    high = len(list) - 1 # Верхнее значение колличества элементов в списке,индекс последнего элемента\n",
    "    while low <= high: # Будем искать пока нижний порог не приравняется с вверхним\n",
    "        mid = (low + high) // 2 # Средний элемент в коллекции\n",
    "        answer = list[mid]# Ответ равен числу со среднем индексом\n",
    "        if answer == item: # Сравниваем число со средним индксом в коллекции с заданным числом\n",
    "            return mid # возвращаем наше число искомое \n",
    "        if answer > item:# Если ответ больше искомого числа\n",
    "            high = mid - 1  # Изменем верхний порог поиска на один индекс\n",
    "        else: \n",
    "            low = mid + 1 # если ответ меньше искомого числа,то увеличиваем нижний порог индека на один\n",
    "    return None\n",
    "\n",
    "\n",
    "bin_find([2,4,6,8,10,13,16,20], 4)"
   ]
  },
  {
   "cell_type": "code",
   "execution_count": null,
   "metadata": {},
   "outputs": [],
   "source": []
  }
 ],
 "metadata": {
  "kernelspec": {
   "display_name": "Python 3.10.0 ('virtLearnPython': venv)",
   "language": "python",
   "name": "python3"
  },
  "language_info": {
   "codemirror_mode": {
    "name": "ipython",
    "version": 3
   },
   "file_extension": ".py",
   "mimetype": "text/x-python",
   "name": "python",
   "nbconvert_exporter": "python",
   "pygments_lexer": "ipython3",
   "version": "3.10.0"
  },
  "orig_nbformat": 4,
  "vscode": {
   "interpreter": {
    "hash": "60320100e61b6abca5e8fa8813d7fca326eec3cbf4dd3d414f82d819f5069e7b"
   }
  }
 },
 "nbformat": 4,
 "nbformat_minor": 2
}
