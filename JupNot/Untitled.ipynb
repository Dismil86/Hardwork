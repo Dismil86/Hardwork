{
 "cells": [
  {
   "cell_type": "markdown",
   "id": "46b25f5f-09eb-4f47-a3a7-24ee7293ace7",
   "metadata": {},
   "source": [
    "Методы классов"
   ]
  },
  {
   "cell_type": "code",
   "execution_count": null,
   "id": "6af560b8-c311-4df3-846c-0dbf1a45a021",
   "metadata": {},
   "outputs": [],
   "source": []
  }
 ],
 "metadata": {
  "kernelspec": {
   "display_name": "Python 3 (ipykernel)",
   "language": "python",
   "name": "python3"
  },
  "language_info": {
   "codemirror_mode": {
    "name": "ipython",
    "version": 3
   },
   "file_extension": ".py",
   "mimetype": "text/x-python",
   "name": "python",
   "nbconvert_exporter": "python",
   "pygments_lexer": "ipython3",
   "version": "3.9.13"
  }
 },
 "nbformat": 4,
 "nbformat_minor": 5
}
