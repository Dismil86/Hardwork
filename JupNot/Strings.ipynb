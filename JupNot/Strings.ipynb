{
 "cells": [
  {
   "cell_type": "markdown",
   "id": "f893c50d",
   "metadata": {},
   "source": [
    "Строка - это упорядоченная последовательность символов. Можно даже \n",
    "сказать, что строка - это массив символов, поскольку массив - это и есть \n",
    "упорядоченная последовательность. \n",
    "Строки поддерживают обращение по индексу, конкатенацию ( + ), повторение(*), проверку на вхождение (in).\n",
    "\n",
    "Неизменяемые типы (числа, строки, кортежи, фиксированные множества)\n",
    "Типы объектов в категории неизменяемых не поддерживают модификацию на\n",
    "месте, но мы всегда можем выполнять выражения для создания новых объектов\n",
    "и присваивать их результаты переменным по мере надобности."
   ]
  },
  {
   "cell_type": "markdown",
   "id": "c7918f09-30c2-469f-9d79-6c57a6965d40",
   "metadata": {},
   "source": [
    "                                                                          Считывание данных :\n"
   ]
  },
  {
   "cell_type": "code",
   "execution_count": null,
   "id": "b0af7c70-6ac6-42ec-bb54-4a552a558677",
   "metadata": {
    "tags": []
   },
   "outputs": [],
   "source": [
    "print(*reversed([input() for _ in range(3)]), sep='\\n')# Создание списка и распаковка в обратном порядке эл-ов списка\n",
    "print('\\n'.join([input() for i in '123'][::-1]))# присоединение \"\\n\" к каждому вводу строки списка в обратном порядке\n",
    "print(*[input() for _ in range(3)][::-1], sep='\\n') # распаковка элементов списка в обратном направлении"
   ]
  },
  {
   "cell_type": "code",
   "execution_count": null,
   "id": "7021433b-20f7-46ba-b579-fc38cdd09489",
   "metadata": {
    "collapsed": true,
    "jupyter": {
     "outputs_hidden": true,
     "source_hidden": true
    },
    "tags": []
   },
   "outputs": [
    {
     "name": "stdout",
     "output_type": "stream",
     "text": [
      " xa\n",
      "xa xa xa xa \n"
     ]
    }
   ],
   "source": [
    "x = input()\n",
    "s = f\"{x} \"\n",
    "print(s * 4)"
   ]
  },
  {
   "cell_type": "code",
   "execution_count": null,
   "id": "e2ac3080-a97e-4c0e-89cc-376d16d09fc2",
   "metadata": {
    "collapsed": true,
    "jupyter": {
     "outputs_hidden": true
    },
    "tags": []
   },
   "outputs": [
    {
     "name": "stdout",
     "output_type": "stream",
     "text": [
      " xa\n",
      "['xa', 'xa', 'xa', 'xa']\n",
      "xa xa xa xa\n"
     ]
    }
   ],
   "source": [
    "a = input()\n",
    "s = [a for i in range(4)]\n",
    "print(s)\n",
    "print(*s)"
   ]
  },
  {
   "cell_type": "code",
   "execution_count": null,
   "id": "501cd420-8907-4ec0-87f2-3b18a78fded4",
   "metadata": {
    "collapsed": true,
    "jupyter": {
     "outputs_hidden": true
    },
    "tags": []
   },
   "outputs": [
    {
     "name": "stdout",
     "output_type": "stream",
     "text": [
      " hello\n",
      " World\n",
      " Great Python\n",
      "['hello', 'World', 'Great Python']\n",
      "['Great Python', 'World', 'hello']\n",
      "Great Python\n",
      "World\n",
      "hello\n"
     ]
    }
   ],
   "source": [
    "s = [input() for i in range(3)]\n",
    "print(s)\n",
    "print(s[::-1])\n",
    "print(*s[::-1],sep='\\n')\n"
   ]
  },
  {
   "cell_type": "code",
   "execution_count": null,
   "id": "861fbe91-5559-4861-84c9-7ba2d3725ce8",
   "metadata": {
    "collapsed": true,
    "jupyter": {
     "outputs_hidden": true
    },
    "tags": []
   },
   "outputs": [
    {
     "name": "stdout",
     "output_type": "stream",
     "text": [
      " hi\n",
      " hello\n",
      " world\n",
      "world\n",
      "hello\n",
      "hi\n"
     ]
    }
   ],
   "source": [
    "print(*[input() for i in range(3)][::-1],sep='\\n')\n"
   ]
  },
  {
   "cell_type": "code",
   "execution_count": null,
   "id": "90dba9d3-14a5-470a-81cc-88accb994b77",
   "metadata": {
    "collapsed": true,
    "jupyter": {
     "outputs_hidden": true
    },
    "tags": []
   },
   "outputs": [
    {
     "name": "stdout",
     "output_type": "stream",
     "text": [
      " one\n",
      " two\n",
      "twoone\n"
     ]
    }
   ],
   "source": [
    "print(*[input() for i in range(2)][::-1],sep='')"
   ]
  },
  {
   "cell_type": "markdown",
   "id": "302fcf98-9d8d-4fb2-be71-0432830b1acc",
   "metadata": {
    "tags": []
   },
   "source": [
    "Программа принимает на вход три символа через пробел в одну строку. Необходимо вывести код каждого символа при помощи функции ord в определенном формате.\n",
    "\n",
    "Sample Input 1:\n",
    "A , y\n",
    "Sample Output 1:\n",
    "Simvol code A is 65.\n",
    "Simvol code , is 44.\n",
    "Simvol code y is 121.\n",
    "\n",
    "Sample Input 2:\n",
    "q w e\n",
    "Sample Output 2:\n",
    "Simvol code q is 113.\n",
    "Simvol code w is 119.\n",
    "Simvol code e is 101."
   ]
  },
  {
   "cell_type": "code",
   "execution_count": null,
   "id": "c5b41c9b-5fd2-470f-a133-ffc85bd9b5f5",
   "metadata": {
    "collapsed": true,
    "jupyter": {
     "outputs_hidden": true
    },
    "tags": []
   },
   "outputs": [
    {
     "name": "stdout",
     "output_type": "stream",
     "text": [
      " A , h\n",
      "Simvol code A is 65.\n",
      "Simvol code , is 44.\n",
      "Simvol code h is 104.\n"
     ]
    }
   ],
   "source": [
    "s = input().split(' ')\n",
    "text = 'Simvol code'\n",
    "for i in s:\n",
    "    print(f'{text} {i} is {ord(i)}.')\n"
   ]
  },
  {
   "cell_type": "code",
   "execution_count": null,
   "id": "bd9193fb-cb3b-47f2-82ce-e9c82ade12bb",
   "metadata": {
    "tags": []
   },
   "outputs": [
    {
     "name": "stdout",
     "output_type": "stream",
     "text": [
      " g l d\n",
      "Simvol code g is 103.\n",
      "Simvol code l is 108.\n",
      "Simvol code d is 100.\n"
     ]
    },
    {
     "data": {
      "text/plain": [
       "[None, None, None]"
      ]
     },
     "execution_count": 3,
     "metadata": {},
     "output_type": "execute_result"
    }
   ],
   "source": [
    "[*map(lambda x: print(f\"Simvol code {x} is {ord(x)}.\"), input().split())]\n"
   ]
  },
  {
   "cell_type": "code",
   "execution_count": null,
   "id": "97e26e36-9cdf-41fc-8264-78bcc88ca7cb",
   "metadata": {},
   "outputs": [],
   "source": [
    "[print(f'Simvol code {el} is {ord(el)}.') for el in input().split()]\n"
   ]
  },
  {
   "cell_type": "code",
   "execution_count": null,
   "id": "904f6927-0872-4483-9c42-a094a887950a",
   "metadata": {},
   "outputs": [],
   "source": [
    "print(*[f\"Simvol code {c} is {ord(c)}.\" for c in input().split()], sep=\"\\n\")"
   ]
  },
  {
   "cell_type": "markdown",
   "id": "e46b940b-9650-4b59-8e9b-a4c2fa89ff39",
   "metadata": {},
   "source": [
    "                                           Извлечнение из строки среза и присваивание этого среза переменной"
   ]
  },
  {
   "cell_type": "code",
   "execution_count": null,
   "id": "80df29cf-6a9a-4b6e-b842-85069fdc4401",
   "metadata": {
    "collapsed": true,
    "jupyter": {
     "outputs_hidden": true
    },
    "tags": []
   },
   "outputs": [
    {
     "name": "stdout",
     "output_type": "stream",
     "text": [
      "pa\n"
     ]
    }
   ],
   "source": [
    "s = 's,pa,m'\n",
    "n = s.split(',')[1]\n",
    "print(n)\n"
   ]
  },
  {
   "cell_type": "markdown",
   "id": "a2ccaf8f-a5dd-4f45-8da0-34e1bd1f25a0",
   "metadata": {},
   "source": [
    "Программа получает на вход строку. Ваша задача вывести все символы этой строки, которые имеют четные индексы"
   ]
  },
  {
   "cell_type": "code",
   "execution_count": null,
   "id": "f1fd0652-2a08-4fb9-85e9-1d37040113e3",
   "metadata": {
    "collapsed": true,
    "jupyter": {
     "outputs_hidden": true
    },
    "tags": []
   },
   "outputs": [
    {
     "name": "stdout",
     "output_type": "stream",
     "text": [
      " very hard\n",
      "vr ad\n"
     ]
    }
   ],
   "source": [
    "a = input()\n",
    "print(''.join([a[i] for i in range(len(a)) if i % 2 == 0]))"
   ]
  },
  {
   "cell_type": "markdown",
   "id": "6220c281-ee1d-44cc-b587-d8008f988312",
   "metadata": {},
   "source": [
    "Новый символ \"удобнго присваивания\"  ```:=\"``` позволяет присвоить значение переменной и сразу использовать эту переменную:\n",
    "\n",
    "На вход подается строка. Ваша задача отформатировать строку так, чтобы первые 3 и последние 3 символа были заглавными, а оставшиеся строчные."
   ]
  },
  {
   "cell_type": "code",
   "execution_count": null,
   "id": "0b4e92ea-83fb-4a0a-bcd8-e1559c4b9cd2",
   "metadata": {
    "collapsed": true,
    "jupyter": {
     "outputs_hidden": true
    },
    "tags": []
   },
   "outputs": [
    {
     "name": "stdout",
     "output_type": "stream",
     "text": [
      " fdf\n",
      "FDFFDF\n"
     ]
    }
   ],
   "source": [
    "print((x:=input())[:3].upper() + x[3:-3].lower() + x[-3::].upper())"
   ]
  },
  {
   "cell_type": "code",
   "execution_count": null,
   "id": "b6f8c499-78f0-45cc-a803-c4e7326d9769",
   "metadata": {},
   "outputs": [
    {
     "name": "stdout",
     "output_type": "stream",
     "text": [
      "a\n",
      "b\n",
      "c\n"
     ]
    }
   ],
   "source": [
    "my_items = ['a', 'b', 'c'] \n",
    "for elem in my_items:\n",
    "    print(elem)"
   ]
  },
  {
   "cell_type": "code",
   "execution_count": 1,
   "id": "c2cc678d-150d-473c-a893-a299bc08efa5",
   "metadata": {},
   "outputs": [
    {
     "name": "stdout",
     "output_type": "stream",
     "text": [
      "0: a\n",
      "1: b\n",
      "2: c\n"
     ]
    }
   ],
   "source": [
    "my_items = ['a', 'b', 'c'] \n",
    "for i, elem in enumerate(my_items):\n",
    "    print(f'{i}: {elem}')"
   ]
  },
  {
   "cell_type": "markdown",
   "id": "3488f669-5c42-47fd-89c4-af25c72d9b48",
   "metadata": {},
   "source": [
    "Реализуйте функцию filter_string(), принимающую на вход строку и символ, и возвращающую новую строку, в которой удален переданный символ во всех его позициях."
   ]
  },
  {
   "cell_type": "code",
   "execution_count": 1,
   "id": "96166146",
   "metadata": {},
   "outputs": [
    {
     "data": {
      "text/plain": [
       "'If I look back I am lost'"
      ]
     },
     "execution_count": 1,
     "metadata": {},
     "output_type": "execute_result"
    }
   ],
   "source": [
    "# Тут используем метод ``count`` and ``count``\n",
    "def filter_string(text,chr):\n",
    "    num = text.count(chr) # Сохраняем в переменной кол-во вхождений субстроки в строку\n",
    "    n_str = text.replace(chr,'',num) # Заменяем совпадающие элементы на пустую строку\n",
    "    return n_str\n",
    "\n",
    "filter_string('If I look back I am lost','w')"
   ]
  },
  {
   "cell_type": "code",
   "execution_count": 9,
   "id": "c2a1a608",
   "metadata": {},
   "outputs": [
    {
     "data": {
      "text/plain": [
       "'f  look back  am lost'"
      ]
     },
     "execution_count": 9,
     "metadata": {},
     "output_type": "execute_result"
    }
   ],
   "source": [
    "# Здесь решаем задачу с помощью цикла ``for``\n",
    "def filter_string(text,chr):\n",
    "    n_str = text\n",
    "    for i in text:\n",
    "        if i == chr:\n",
    "            n_str = text.replace(i,'')\n",
    "    return n_str\n",
    "filter_string('If I look back I am lost', 'I')"
   ]
  },
  {
   "cell_type": "code",
   "execution_count": null,
   "id": "2ec9eea9",
   "metadata": {},
   "outputs": [],
   "source": [
    "Решение с помощью цикла ``while``\n",
    "def filter_string(text, char):\n",
    "    index = 0\n",
    "    result = ''\n",
    "    while index < len(text):\n",
    "        current_char = text[index]\n",
    "        if current_char != char:\n",
    "            result = f'{result}{current_char}' # Конкатенирует текущий элемент с пустой строкой и сохраняет результат в переменной\n",
    "        index += 1\n",
    "    return result"
   ]
  },
  {
   "cell_type": "code",
   "execution_count": 10,
   "id": "81708453",
   "metadata": {},
   "outputs": [],
   "source": [
    "#Тестируем написанные функции:\n",
    "def test1():\n",
    "\n",
    "    text = 'If I look back I am lost'\n",
    "\n",
    "    assert index.filter_string(text, 'w') == 'If I look back I am lost'\n",
    "\n",
    "    assert index.filter_string(text, 'I') == 'f  look back  am lost'\n",
    "\n",
    "    assert index.filter_string('zz zorro', 'z') == ' orro'\n"
   ]
  },
  {
   "cell_type": "markdown",
   "id": "4c4e9fb5",
   "metadata": {},
   "source": [
    "Программа должна делать следующее: в заданной строке, которая состоит из прописных и строчных латинских букв, она:\n",
    "удаляет все гласные буквы,\n",
    "перед каждой согласной буквой ставит символ \".\",\n",
    "все прописные согласные буквы заменяет на строчные.\n"
   ]
  },
  {
   "cell_type": "code",
   "execution_count": 49,
   "id": "0b6638b5",
   "metadata": {},
   "outputs": [
    {
     "data": {
      "text/plain": [
       "'.c.d.f.r.c.s'"
      ]
     },
     "execution_count": 49,
     "metadata": {},
     "output_type": "execute_result"
    }
   ],
   "source": [
    "def re_vowels():\n",
    "    \"\"\"Функция удаляет гласнные буквы из заданной строки и создает новую строку\n",
    "       прибавляя к каждому элементу \".\" и выводит все элементы в нижнем регистре\n",
    "    \"\"\"\n",
    "    string = input().upper() # введунную строку переводим в нижний регистр\n",
    "    vowels = [\"A\", \"O\", \"Y\", \"E\", \"U\", \"I\"]\n",
    "    letters = [i for i in string if i not in vowels] # создаем список из элементов согласно условия,что они не входят в заданный список\n",
    "    new_string = ''\n",
    "    for i in letters: # Итерируем список и добавляем каждый его элемент в новую строку\n",
    "        cur_let = i\n",
    "        new_string = f'{new_string}.{cur_let}'# создаем новую строку из  точки и каждого элемента\n",
    "    return new_string.lower()\n",
    "\n",
    "re_vowels()\n"
   ]
  },
  {
   "cell_type": "code",
   "execution_count": 54,
   "id": "83faef38",
   "metadata": {},
   "outputs": [
    {
     "name": "stdout",
     "output_type": "stream",
     "text": [
      ".c.d.f.r.c.s\n"
     ]
    }
   ],
   "source": [
    "s = [i for i in input().lower() if i not in 'aoyeui']\n",
    "print(end='.')\n",
    "print(*s,sep='.') # Распаковка эдемнетов коллекции"
   ]
  },
  {
   "cell_type": "markdown",
   "id": "908396b2",
   "metadata": {},
   "source": [
    "Перевотрот строки задом наперед"
   ]
  },
  {
   "cell_type": "code",
   "execution_count": 1,
   "id": "8ab498b6",
   "metadata": {},
   "outputs": [
    {
     "name": "stdout",
     "output_type": "stream",
     "text": [
      "woksom katraps"
     ]
    }
   ],
   "source": [
    "# С помощью цикла `for`` нам не надо в ручную задавать условия окончания цикла\n",
    "s = 'spartak moskow'\n",
    "for i in s[::-1]:\n",
    "    print(i,end='')"
   ]
  },
  {
   "cell_type": "code",
   "execution_count": 4,
   "id": "5dc32a88",
   "metadata": {},
   "outputs": [
    {
     "name": "stdout",
     "output_type": "stream",
     "text": [
      "woksom katraps"
     ]
    }
   ],
   "source": [
    "# цикл while\n",
    "s = 'spartak moskow'\n",
    "i = len(s) - 1\n",
    "while i >= 0:\n",
    "    print(s[i],end='')\n",
    "    i -= 1\n"
   ]
  },
  {
   "cell_type": "code",
   "execution_count": 3,
   "id": "99202bec",
   "metadata": {},
   "outputs": [
    {
     "name": "stdout",
     "output_type": "stream",
     "text": [
      "Для числа 99 предыдущим будет число 98.\n",
      "Для числа 99 следующим будет число 100.\n"
     ]
    }
   ],
   "source": [
    "num = int(input())\n",
    "next_num = num + 1\n",
    "pred_num = num -1\n",
    "text = \"\"\"Для числа {0} предыдущим будет число {1}.\n",
    "Для числа {0} следующим будет число {2}.\"\"\".format(num,pred_num,next_num)\n",
    "print(text)\n"
   ]
  },
  {
   "cell_type": "markdown",
   "id": "338b6675",
   "metadata": {},
   "source": []
  },
  {
   "cell_type": "code",
   "execution_count": null,
   "id": "45336526",
   "metadata": {},
   "outputs": [],
   "source": []
  }
 ],
 "metadata": {
  "kernelspec": {
   "display_name": "Python 3.9.13 ('env': venv)",
   "language": "python",
   "name": "python3"
  },
  "language_info": {
   "codemirror_mode": {
    "name": "ipython",
    "version": 3
   },
   "file_extension": ".py",
   "mimetype": "text/x-python",
   "name": "python",
   "nbconvert_exporter": "python",
   "pygments_lexer": "ipython3",
   "version": "3.9.13"
  },
  "toc-autonumbering": true,
  "toc-showcode": true,
  "vscode": {
   "interpreter": {
    "hash": "713c5f5b1c06c1c09e1e39ce8a970317c0d96c3b2a0e9676cb325435c8df9c5c"
   }
  }
 },
 "nbformat": 4,
 "nbformat_minor": 5
}
