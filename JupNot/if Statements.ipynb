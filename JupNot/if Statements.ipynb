{
 "cells": [
  {
   "cell_type": "markdown",
   "metadata": {},
   "source": [
    "#####Ваша программа принимает на вход предложение и ваша задача определить является ли оно вопросом?\n",
    "\n",
    "Если последний символ предложения это знак ?, то в переменную sentence сохраните строку Вопросительное, иначе запишите строку Обычное\n",
    "```\n",
    "x=input()\n",
    "print('Обычное' if x[-1].isalpha() else 'Вопросительное') # провека методом isalpha, проверяет буква ли последний символ строки\n",
    "\n",
    "print('Вопросительное' if input().endswith('?') else 'Обычное')# проверка методом endswith, проверяет заданное колличетво последних элеметов\n",
    "\n",
    "print(sentence := 'Вопросительное' if input()[-1] in '?' else 'Обычное')#  проверка входит ли последний элемент в элемент \"?\"\n",
    "```\n",
    "#####Ваша программа получает два значения в разных строках - полярности магнитов, которые могут иметь значения либо N ( север) либо S (юг)\n",
    "\n",
    "Ваша задача сохранить в переменную experiment строку Притягиваются, если магниты имеют разную полярность, в противном случае сохраните строку Отталкиваются\n",
    "```\n",
    "print('Отталкиваются' if (len(set(input() for x in range(2)))) == 1 else 'Притягиваются')# применяем генератор множеста, в который входят только уникальные элементы. Соответственно если занчения элементов одинаковы то длина множества равна \"1\"  \n",
    "print((experiment := 'Отталкиваются' if input() == input() else 'Притягиваются'))#  Применение нового оператора присваивания \":=\",который позволяет использовать перепенную в одной строке с ее присваиванием\n",
    "```\n",
    "#####Оператор match-case имеет следующий синтаксис:\n",
    "```\n",
    "match value:\n",
    "  case <pattern_1>:\n",
    "    <action_1>\n",
    "  case <pattern_2>:\n",
    "    <action_2>\n",
    "  case <pattern_3>:\n",
    "    <action_3>\n",
    "  case _:\n",
    "    <action_wildcard>\n",
    "    ```\n",
    "##### Примненение моржевого оператора присваивания:\n",
    "```\n",
    "while (phrase := input('Введите фразу: ')) != 'стоп': # Создаем и сразу присваеваем значение от пользователя и сразу создаем условие\n",
    "  print('Продолжаем веселиться!')\n",
    "print('Закончили вечеринку!')\n",
    "```"
   ]
  },
  {
   "cell_type": "code",
   "execution_count": 1,
   "metadata": {},
   "outputs": [
    {
     "ename": "SyntaxError",
     "evalue": "expected 'else' after 'if' expression (2099797380.py, line 3)",
     "output_type": "error",
     "traceback": [
      "\u001b[1;36m  Input \u001b[1;32mIn [1]\u001b[1;36m\u001b[0m\n\u001b[1;33m    print('<' if a < b else '>' or '=' if a == b)\u001b[0m\n\u001b[1;37m                            ^\u001b[0m\n\u001b[1;31mSyntaxError\u001b[0m\u001b[1;31m:\u001b[0m expected 'else' after 'if' expression\n"
     ]
    }
   ],
   "source": [
    "a = int(input())\n",
    "b = int(input())\n",
    "if a < b:\n",
    "    print('<')\n",
    "elif a > b:\n",
    "    print('>')\n",
    "else:\n",
    "    print('=')"
   ]
  },
  {
   "cell_type": "code",
   "execution_count": 4,
   "metadata": {},
   "outputs": [
    {
     "name": "stdout",
     "output_type": "stream",
     "text": [
      "True\n",
      "97 65\n"
     ]
    }
   ],
   "source": [
    "s = 'aaba'\n",
    "b = 'aabA'\n",
    "print(s > b)\n",
    "print(ord('a'),ord('A'))"
   ]
  },
  {
   "cell_type": "markdown",
   "metadata": {},
   "source": [
    "Напишите программу, которая считывает подряд две строки, после чего выводит «Good», если последний символ первой строки совпадает с первым символом второй (с учётом правила про мягкий знак), и «Bad» в противном случае."
   ]
  },
  {
   "cell_type": "code",
   "execution_count": null,
   "metadata": {},
   "outputs": [],
   "source": [
    "# метод rstrip удаляет символ 'ь' если он последний элемент в строке\n",
    "c1, c2 = input().lower().rstrip('ь'), input().lower() #\n",
    "print('Good' if c1[-1] == c2[0] else 'Bad')"
   ]
  },
  {
   "cell_type": "code",
   "execution_count": 10,
   "metadata": {},
   "outputs": [
    {
     "name": "stdout",
     "output_type": "stream",
     "text": [
      "парамет\n"
     ]
    }
   ],
   "source": [
    "s = 'параметры'\n",
    "s = s.rstrip('ры')\n",
    "print(s)"
   ]
  },
  {
   "cell_type": "code",
   "execution_count": 19,
   "metadata": {},
   "outputs": [
    {
     "name": "stdout",
     "output_type": "stream",
     "text": [
      "Джун-студент\n"
     ]
    }
   ],
   "source": [
    "num = input('Введите номер курса, на котором вы учитесь: ')\n",
    "match num:\n",
    "    case '1':\n",
    "        print(\"Совсем еще зеленый студентик\")\n",
    "    case '2':\n",
    "        print(\"Джун-студент\")\n",
    "    case '3':\n",
    "        print(\"Мидл-студент\")\n",
    "    case '4':\n",
    "        print(\"Сеньер-студент\")\n",
    "    case '5':\n",
    "        print(\"Босс качалки\")\n",
    "    case _:\n",
    "        print(\"Неизвестный курс\")\n"
   ]
  },
  {
   "cell_type": "code",
   "execution_count": 1,
   "metadata": {},
   "outputs": [],
   "source": [
    "\n"
   ]
  }
 ],
 "metadata": {
  "kernelspec": {
   "display_name": "Python 3.10.0 ('virtLearnPython': venv)",
   "language": "python",
   "name": "python3"
  },
  "language_info": {
   "codemirror_mode": {
    "name": "ipython",
    "version": 3
   },
   "file_extension": ".py",
   "mimetype": "text/x-python",
   "name": "python",
   "nbconvert_exporter": "python",
   "pygments_lexer": "ipython3",
   "version": "3.10.0"
  },
  "orig_nbformat": 4,
  "vscode": {
   "interpreter": {
    "hash": "60320100e61b6abca5e8fa8813d7fca326eec3cbf4dd3d414f82d819f5069e7b"
   }
  }
 },
 "nbformat": 4,
 "nbformat_minor": 2
}
