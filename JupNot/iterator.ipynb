{
 "cells": [
  {
   "cell_type": "markdown",
   "metadata": {},
   "source": [
    "Что на самом деле происходит \"под капотом\" во время работы цикла for"
   ]
  },
  {
   "cell_type": "code",
   "execution_count": 6,
   "metadata": {},
   "outputs": [
    {
     "name": "stdout",
     "output_type": "stream",
     "text": [
      "<list_iterator object at 0x000001FFB5945F90>\n",
      "1\n",
      "23\n",
      "44\n",
      "iterator is over\n",
      "ciсle is complete\n"
     ]
    }
   ],
   "source": [
    "a = [1,23,44] # Дана посдедовательность поддерживающая метод __iter__\n",
    "it = iter(a) # Преобразуем последовательность в объкт - генератор\n",
    "while True: начинаем бесконечный цикл\n",
    "    try:\n",
    "        item = next(it) # Применяем к объекту генратору фукцию next\n",
    "\n",
    "    except StopIteration: # ловим исключение стоп итерация\n",
    "        print('iterator is over')\n",
    "        break  # Принудительно завершаем цикл\n",
    "    print(item)\n",
    "print('ciсle is complete')"
   ]
  },
  {
   "cell_type": "code",
   "execution_count": 20,
   "metadata": {},
   "outputs": [
    {
     "name": "stdout",
     "output_type": "stream",
     "text": [
      "НЕТ\n",
      "НЕТ\n",
      "НЕТ\n",
      "3\n"
     ]
    }
   ],
   "source": [
    "n = int(input())\n",
    "i = 2\n",
    "count = 0\n",
    "while i ** count <= n:\n",
    "    x = i ** count\n",
    "    if x == n:\n",
    "        print(count)\n",
    "    count += 1\n",
    "        print('НЕТ')    #print(\"НЕТ\")\n"
   ]
  },
  {
   "cell_type": "code",
   "execution_count": 21,
   "metadata": {},
   "outputs": [
    {
     "name": "stdout",
     "output_type": "stream",
     "text": [
      "Гвидо*Ван*Россум-Основатель_Питона!"
     ]
    }
   ],
   "source": [
    "print('Гвидо', 'Ван', 'Россум', sep='*', end='-')\n",
    "print('Основатель', 'Питона', sep='_', end='!')"
   ]
  },
  {
   "cell_type": "code",
   "execution_count": 30,
   "metadata": {},
   "outputs": [
    {
     "name": "stdout",
     "output_type": "stream",
     "text": [
      "1152\n"
     ]
    }
   ],
   "source": [
    "n = int(input())\n",
    "count = 1\n",
    "pr = n * n\n",
    "first_dig = pr // (10 ** count)\n",
    "while first_dig != 1:\n",
    "    pr = first_dig * pr\n",
    "    count += 1\n",
    "    first_dig = pr // (10 ** count)\n",
    "print(pr)\n"
   ]
  },
  {
   "cell_type": "code",
   "execution_count": 38,
   "metadata": {},
   "outputs": [
    {
     "name": "stdout",
     "output_type": "stream",
     "text": [
      "2500000000\n"
     ]
    }
   ],
   "source": [
    "a = int(input())\n",
    "while (str(a)[0] != '1' and a <= 1000000000):\n",
    "    a = a*int(str(a)[0])\n",
    "print(a)"
   ]
  },
  {
   "cell_type": "code",
   "execution_count": null,
   "metadata": {},
   "outputs": [],
   "source": []
  }
 ],
 "metadata": {
  "kernelspec": {
   "display_name": "Python 3.10.0 ('virtLearnPython': venv)",
   "language": "python",
   "name": "python3"
  },
  "language_info": {
   "codemirror_mode": {
    "name": "ipython",
    "version": 3
   },
   "file_extension": ".py",
   "mimetype": "text/x-python",
   "name": "python",
   "nbconvert_exporter": "python",
   "pygments_lexer": "ipython3",
   "version": "3.10.0"
  },
  "orig_nbformat": 4,
  "vscode": {
   "interpreter": {
    "hash": "60320100e61b6abca5e8fa8813d7fca326eec3cbf4dd3d414f82d819f5069e7b"
   }
  }
 },
 "nbformat": 4,
 "nbformat_minor": 2
}
