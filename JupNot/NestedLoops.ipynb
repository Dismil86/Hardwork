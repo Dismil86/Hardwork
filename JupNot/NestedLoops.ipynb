{
 "cells": [
  {
   "cell_type": "markdown",
   "metadata": {},
   "source": [
    "Вам нужно посчитать сумму элементов двумерного квадратного (NxN) списка, которые расположены на главной диагонали.\n",
    "\n",
    "Под главной диагональю матрицы подразумевается диагональ, проведённая из левого верхнего угла в правый нижний.\n",
    "\n",
    "Программа сперва принимает на вход число N (N<=15) - количество строк и столбцов в списке, а затем в N строках записаны элементы списка.\n",
    "\n",
    "Sample Input 2:\n",
    "\n",
    "3\n",
    "\n",
    "1 2 3\n",
    "\n",
    "4 5 6\n",
    "\n",
    "7 8 9"
   ]
  },
  {
   "cell_type": "code",
   "execution_count": 3,
   "metadata": {},
   "outputs": [
    {
     "name": "stdout",
     "output_type": "stream",
     "text": [
      "15\n"
     ]
    }
   ],
   "source": [
    "n = int(input())\n",
    "total = 0\n",
    "for i in range(n):\n",
    "    x = [int(x) for x in input().split()]\n",
    "    total += x[i]\n",
    "print(total)"
   ]
  },
  {
   "cell_type": "markdown",
   "metadata": {},
   "source": [
    "Ваша задача состоит в том, чтобы решить несколько более общую задачу – а именно по числу n найти количество простых чисел p из интервала n < p < 2n.\n",
    "\n",
    "Напомним, что число называется простым, если оно делится только само на себя и на единицу.\n",
    "Простое число не делится без остатка на (квадртаный корень из себя и прибавить 1). Тоесть если  n % (n ** 0.5 + 1) == 0 То это число простое!!!!"
   ]
  },
  {
   "cell_type": "code",
   "execution_count": 39,
   "metadata": {},
   "outputs": [
    {
     "name": "stdout",
     "output_type": "stream",
     "text": [
      "1\n"
     ]
    }
   ],
   "source": [
    "n = int(input())\n",
    "s = [i for i in range(n + 1, 2 * n)]\n",
    "num = 0\n",
    "for i in s:\n",
    "    count = 0\n",
    "    for j in range(2, int(i ** 0.5) + 1):# Задаем границы от 2 , так как на  1 все числа делятся, до округленного корня из числа прибавить единицу\n",
    "        if i % j == 0:\n",
    "            count += 1\n",
    "    if count == 0:\n",
    "        num += 1      \n",
    "print(num)"
   ]
  },
  {
   "cell_type": "markdown",
   "metadata": {},
   "source": [
    "Задана целочисленная квадратная матрица размером N x N. Необходимо обойти элементы этой матрицы сверху вниз слева направо и вывести элементы именно в таком порядке в виде таблицы. \n",
    "\n",
    "Программа принимает на вход натуральное число N – количество строк и столбцов матрицы. В каждой из последующих N строк записаны N целых чисел – элементы матрицы. Все числа во входных данных не превышают 100 по абсолютной величине.\n",
    "5\n",
    "3 4 9 1 2\n",
    "8 2 0 5 1\n",
    "4 7 4 8 7\n",
    "7 1 3 3 8\n",
    "5 6 3 7 0"
   ]
  },
  {
   "cell_type": "code",
   "execution_count": null,
   "metadata": {},
   "outputs": [],
   "source": [
    "# Мое решение через ручное добавление в список элементов \n",
    "n = int(input())\n",
    "s = []\n",
    "for x in range(n):\n",
    "    a = [int(i) for i in input().split()]\n",
    "    s.append(a)\n",
    "for i in range(n):\n",
    "    for j in range(n):\n",
    "        print(s[j][i],end=' ')\n",
    "    print()"
   ]
  },
  {
   "cell_type": "code",
   "execution_count": 83,
   "metadata": {},
   "outputs": [
    {
     "name": "stdout",
     "output_type": "stream",
     "text": [
      "3 8 4 7 5\n",
      "4 2 7 1 6\n",
      "9 0 4 3 3\n",
      "1 5 8 3 7\n",
      "2 1 7 8 0\n"
     ]
    }
   ],
   "source": [
    "# Понравившееся решение через списковое включение\n",
    "n = int(input())\n",
    "m = [[int(j) for j in input().split()] for i in range(n)]\n",
    "for i in range(n):\n",
    "    print(*[m[j][i] for j in range(n)])"
   ]
  },
  {
   "cell_type": "code",
   "execution_count": 87,
   "metadata": {},
   "outputs": [
    {
     "name": "stdout",
     "output_type": "stream",
     "text": [
      "19 13 6 \n",
      "17 9 4 \n",
      "10 5 2 \n",
      "3 1 0 \n"
     ]
    }
   ],
   "source": [
    "a = [\n",
    "  [0, 2, 4, 6], \n",
    "  [1, 5, 9, 13],\n",
    "  [3, 10, 17, 19]\n",
    "]\n",
    "for i in range(3, -1, -1):\n",
    "    for j in range(2,- 1, -1):\n",
    "        print(a[j][i], end=' ')\n",
    "    print()\n",
    "        \n",
    "    \n",
    "        \n"
   ]
  },
  {
   "cell_type": "code",
   "execution_count": 56,
   "metadata": {},
   "outputs": [
    {
     "name": "stdout",
     "output_type": "stream",
     "text": [
      "[2, 9, 5, 1, 9, 4]\n",
      "9 4 1 6 2 2\n",
      "8 6 5 6 3 1\n",
      "4 7 3 4 9 7\n",
      "2 9 2 6 4 7\n"
     ]
    }
   ],
   "source": [
    "import random\n",
    "n = 4\n",
    "m = 6\n",
    "a = [random.randint(1,9) for i in range(m)]\n",
    "print(a)\n",
    "b = [[random.randint(1, 9) for i in range(m)] for j in range(n)]\n",
    "for i in b:\n",
    "    print(*i)"
   ]
  },
  {
   "cell_type": "code",
   "execution_count": 62,
   "metadata": {},
   "outputs": [
    {
     "name": "stdout",
     "output_type": "stream",
     "text": [
      "[9, 7, 8, 5, 7, 9]\n",
      "[3, 2, 8, 3, 9, 2]\n",
      "[9, 3, 6, 7, 7, 8]\n",
      "[6, 6, 1, 7, 2, 4]\n",
      "[2, 1, 3, 7, 6, 7]\n",
      "[9, 2, 6, 7, 6] find diagonal\n",
      "[7, 2, 3, 6, 1] find column\n",
      "[3, 2, 8, 3, 9, 2] find string\n"
     ]
    }
   ],
   "source": [
    "b = [[random.randint(1, 9) for i in range(m)] for j in range(n)]\n",
    "# в качестве элемента списка создаем список из n = 4 случайных элементов от 1 до 10 в колличестве m = 5 раз.\n",
    "for i in b:  # перебераем каждый элемент списка\n",
    "    print(i)\n",
    "c = [b[i][j] for i in range(m) for j in range(n) if i == j]\n",
    "d = [b[i][1] for i in range(n)]\n",
    "g = [b[1][j] for j in range(m)]\n",
    "print(c,'find diagonal')\n",
    "print(d,'find column')\n",
    "print(g,'find string')"
   ]
  },
  {
   "cell_type": "markdown",
   "metadata": {},
   "source": [
    "Задана целочисленная квадратная матрица размером N x N. Необходимо обойти элементы этой матрицы снизу вверх справо налево и вывести элементы именно в таком порядке в виде таблицы. \n",
    "\n",
    "Программа принимает на вход натуральное число N – количество строк и столбцов матрицы. В каждой из последующих N строк записаны N целых чисел – элементы матрицы. \n",
    "5\n",
    "3 4 9 6 2\n",
    "8 2 0 5 1\n",
    "4 7 4 8 7\n",
    "7 1 3 3 8\n",
    "5 6 3 7 0\n",
    "\n",
    "Sample Output 1:\n",
    "\n",
    "0 8 7 1 2\n",
    "7 3 8 5 6\n",
    "3 3 4 0 9\n",
    "6 1 7 2 4\n",
    "5 7 4 8 3"
   ]
  },
  {
   "cell_type": "code",
   "execution_count": 90,
   "metadata": {},
   "outputs": [
    {
     "name": "stdout",
     "output_type": "stream",
     "text": [
      "0 8 7 1 2\n",
      "7 3 8 5 6\n",
      "3 3 4 0 9\n",
      "6 1 7 2 4\n",
      "5 7 4 8 3\n"
     ]
    }
   ],
   "source": [
    "n = int(input())\n",
    "a =[[int(i) for i in input().split()] for j in range(n)]\n",
    "for column in range(n - 1, -1, -1):\n",
    "    print(*[a[line][column] for line in range(n - 1, -1, -1)])"
   ]
  },
  {
   "cell_type": "markdown",
   "metadata": {},
   "source": [
    "Задана система уравнений:\n",
    "\n",
    "\n",
    "\n",
    "Нужно посчитать количество пар целых чисел (a, b) (0 ≤ a, b), которые удовлетворяют системе.\n",
    "\n",
    "Входные данные\n",
    "\n",
    "В единственной строке заданы два целых числа n, m (1 ≤ n, m ≤ 1000) — параметры системы. Числа в строке разделены пробелом.\n",
    "\n",
    "Выходные данные\n",
    "\n",
    "В единственную строку выведите ответ на задачу."
   ]
  },
  {
   "cell_type": "code",
   "execution_count": null,
   "metadata": {},
   "outputs": [],
   "source": [
    "n, m = [int(i) for i in input().split()]\n",
    "count = 0\n",
    "for a in range(0,n):\n",
    "    for b in range(0, n):\n",
    "        if (a ** 2) + b == n and a + (b ** 2) == m:\n",
    "            count += 1\n",
    "print(count)"
   ]
  },
  {
   "cell_type": "markdown",
   "metadata": {},
   "source": [
    "3 4\n",
    "5 9 2 6\n",
    "6 2 4 3\n",
    "1 2 8 7"
   ]
  },
  {
   "cell_type": "code",
   "execution_count": 2,
   "metadata": {},
   "outputs": [
    {
     "name": "stdout",
     "output_type": "stream",
     "text": [
      "3 4\n",
      "[[5, 9, 2, 6], [6, 2, 4, 3], [1, 2, 8, 7]]\n",
      "6 2 9 5\n",
      "3 4 2 6\n",
      "7 8 2 1\n"
     ]
    }
   ],
   "source": [
    "line, column = [int(i) for i in input().split()]\n",
    "print(line, column)\n",
    "s = [[int(i) for i in input().split()] for j in range(line)]\n",
    "print(s)\n",
    "for j in range(line):\n",
    "    #for i in range(column - 1, -1, -1):\n",
    "    print(*[s[j][i] for i in range(column - 1, -1, -1)])\n",
    "    "
   ]
  }
 ],
 "metadata": {
  "kernelspec": {
   "display_name": "Python 3.9.13 ('env': venv)",
   "language": "python",
   "name": "python3"
  },
  "language_info": {
   "codemirror_mode": {
    "name": "ipython",
    "version": 3
   },
   "file_extension": ".py",
   "mimetype": "text/x-python",
   "name": "python",
   "nbconvert_exporter": "python",
   "pygments_lexer": "ipython3",
   "version": "3.9.13"
  },
  "orig_nbformat": 4,
  "vscode": {
   "interpreter": {
    "hash": "713c5f5b1c06c1c09e1e39ce8a970317c0d96c3b2a0e9676cb325435c8df9c5c"
   }
  }
 },
 "nbformat": 4,
 "nbformat_minor": 2
}
