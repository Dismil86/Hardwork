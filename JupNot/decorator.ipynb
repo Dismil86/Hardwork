{
 "cells": [
  {
   "cell_type": "markdown",
   "metadata": {},
   "source": [
    "\n",
    "\n",
    "Подвиг 3. На вход программы поступает строка из целых чисел, записанных через пробел. Напишите функцию get_list, которая преобразовывает эту строку в список из целых чисел и возвращает его. Определите декоратор для этой функции, который сортирует список чисел по возрастанию. Результат сортировки должен возвращаться при вызове декоратора.\n",
    "\n",
    "Вызовите декорированную функцию get_list и отобразите полученный отсортированный список lst командой:\n",
    "\n",
    "print(*lst)\n",
    "\n",
    "Sample Input:\n",
    "\n",
    "8 11 -5 4 3 10\n",
    "\n",
    "Sample Output:\n",
    "\n",
    "-5 3 4 8 10 11\n",
    "\n"
   ]
  },
  {
   "cell_type": "code",
   "execution_count": 5,
   "metadata": {},
   "outputs": [
    {
     "name": "stdout",
     "output_type": "stream",
     "text": [
      "-5 3 4 8 10 11\n",
      "<function sort_list.<locals>.wrapper_quick_sort at 0x7fb07496eb90>\n"
     ]
    }
   ],
   "source": [
    "\n",
    "\n",
    "def sort_list(get_list):\n",
    "    def wrapper_quick_sort(lst):\n",
    "        lst = get_list(lst)\n",
    "        lst.sort()\n",
    "        return lst\n",
    "        \n",
    "    return wrapper_quick_sort\n",
    "\n",
    "@sort_list\n",
    "def get_list(s):\n",
    "    lst = [int(i) for i in s.split()]\n",
    "    return lst\n",
    "lst = get_list(input())\n",
    "print(*lst)\n",
    "print(get_list)"
   ]
  },
  {
   "cell_type": "code",
   "execution_count": 12,
   "metadata": {},
   "outputs": [
    {
     "name": "stdout",
     "output_type": "stream",
     "text": [
      "[8, 11, -5, 4, 3, 10]\n"
     ]
    }
   ],
   "source": [
    "def get_list(s):\n",
    "    s = [int(i) for i in s.split()]\n",
    "    return s\n",
    "s = input()\n",
    "print(get_list(s))"
   ]
  },
  {
   "cell_type": "code",
   "execution_count": 24,
   "metadata": {},
   "outputs": [
    {
     "name": "stdout",
     "output_type": "stream",
     "text": [
      "[8, 11, -5, 4, 3, 10]\n"
     ]
    }
   ],
   "source": [
    "def wrapper_quick_sort(lst):\n",
    "        lst = get_list(s)\n",
    "        if len(lst) < 2:\n",
    "            return lst\n",
    "        else:\n",
    "            mid = len(lst) // 2 # Выбрали опорный элемент \n",
    "            less = [i for i in lst[:mid] if i <= lst[mid]] + [i for i in lst[mid + 1:] if i <= lst[mid]]\n",
    "            greater = [i for i in lst[:mid] if i > lst[mid]] + [i for i in lst[mid + 1:] if i > lst[mid]]\n",
    "            return wrapper_quick_sort(less) + [lst[mid]] + wrapper_quick_sort(greater)\n",
    "        \n",
    "#lst =  [8, 11, -5, 4, 3, 10]      \n",
    "#print(wrapper_quick_sort(lst))\n",
    "def get_list(s):\n",
    "    lst = [int(i) for i in s.split()]\n",
    "    return lst       \n",
    "\n",
    "lst = get_list(input())\n",
    "print(*lst)"
   ]
  },
  {
   "cell_type": "code",
   "execution_count": 4,
   "metadata": {},
   "outputs": [
    {
     "data": {
      "text/plain": [
       "0.14864246999991337"
      ]
     },
     "execution_count": 4,
     "metadata": {},
     "output_type": "execute_result"
    }
   ],
   "source": [
    "import timeit\n",
    "\n",
    "timeit.timeit('a = [8,11,-5,4,3,10]; a.sort()')"
   ]
  },
  {
   "cell_type": "code",
   "execution_count": 11,
   "metadata": {},
   "outputs": [
    {
     "data": {
      "text/plain": [
       "0.24089509199984604"
      ]
     },
     "execution_count": 11,
     "metadata": {},
     "output_type": "execute_result"
    }
   ],
   "source": [
    "import timeit\n",
    "\n",
    "timeit.timeit(\"\"\"def quick_sort(s = [8,11,-5,4,3,10]):\n",
    "    if len(s) < 2:\n",
    "        return s\n",
    "    else:\n",
    "        mid = len(s) // 2 # Выбрали опорный элемент \n",
    "        less = [i for i in s[:mid] if i <= s[mid]] + [i for i in s[mid + 1:] if i <= s[mid]]\n",
    "        greater = [i for i in s[:mid] if i > s[mid]] + [i for i in s[mid + 1:] if i > s[mid]]\n",
    "        return quick_sort(less) + [s[mid]] + quick_sort(greater)\"\"\")"
   ]
  },
  {
   "cell_type": "code",
   "execution_count": 12,
   "metadata": {},
   "outputs": [
    {
     "name": "stdout",
     "output_type": "stream",
     "text": [
      "         5 function calls in 0.000 seconds\n",
      "\n",
      "   Ordered by: standard name\n",
      "\n",
      "   ncalls  tottime  percall  cumtime  percall filename:lineno(function)\n",
      "        1    0.000    0.000    0.000    0.000 234251660.py:11(bublle_sort)\n",
      "        1    0.000    0.000    0.000    0.000 <string>:1(<module>)\n",
      "        1    0.000    0.000    0.000    0.000 {built-in method builtins.exec}\n",
      "        1    0.000    0.000    0.000    0.000 {built-in method builtins.len}\n",
      "        1    0.000    0.000    0.000    0.000 {method 'disable' of '_lsprof.Profiler' objects}\n",
      "\n",
      "\n",
      "         33 function calls (25 primitive calls) in 0.000 seconds\n",
      "\n",
      "   Ordered by: standard name\n",
      "\n",
      "   ncalls  tottime  percall  cumtime  percall filename:lineno(function)\n",
      "      9/1    0.000    0.000    0.000    0.000 234251660.py:2(quick_sort)\n",
      "        4    0.000    0.000    0.000    0.000 234251660.py:7(<listcomp>)\n",
      "        4    0.000    0.000    0.000    0.000 234251660.py:8(<listcomp>)\n",
      "        1    0.000    0.000    0.000    0.000 <string>:1(<module>)\n",
      "        1    0.000    0.000    0.000    0.000 {built-in method builtins.exec}\n",
      "       13    0.000    0.000    0.000    0.000 {built-in method builtins.len}\n",
      "        1    0.000    0.000    0.000    0.000 {method 'disable' of '_lsprof.Profiler' objects}\n",
      "\n",
      "\n"
     ]
    }
   ],
   "source": [
    "import timeit,cProfile\n",
    "def quick_sort(s):\n",
    "    if len(s) < 2:\n",
    "        return s\n",
    "    else:\n",
    "        mid = len(s) // 2 # Выбрали опорный элемент \n",
    "        less = [i for i in s[:mid] if i <= s[mid]] + [i for i in s[mid + 1:] if i <= s[mid]]\n",
    "        greater = [i for i in s[:mid] if i > s[mid]] + [i for i in s[mid + 1:] if i > s[mid]]\n",
    "        return quick_sort(less) + [s[mid]] + quick_sort(greater)\n",
    "    \n",
    "def bublle_sort(s):\n",
    "    n = len(s)\n",
    "    for bypass in range(1, n): #lДля каждого прохода \n",
    "        for k in range(0, n-bypass):\n",
    "            if s[k] > s[k+1]:\n",
    "                s[k],s[k + 1] = s[k + 1], s[k]\n",
    "    return s\n",
    "\n",
    "cProfile.run('bublle_sort(s = [8, 11, -5, 4, 3, 10])')\n",
    "cProfile.run('quick_sort(s = [8, 11, -5, 4, 3, 10])')"
   ]
  },
  {
   "cell_type": "markdown",
   "metadata": {},
   "source": [
    "\n",
    "\n",
    "Подвиг 4. Вводятся две строки из слов (слова записаны через пробел). Объявите функцию, которая преобразовывает эти две строки в два списка слов и возвращает эти списки.\n",
    "\n",
    "Определите декоратор для этой функции, который из двух списков формирует словарь, в котором ключами являются слова из первого списка, а значениями - соответствующие элементы из второго списка. Полученный словарь должен возвращаться при вызове декоратора.\n",
    "\n",
    "Примените декоратор к первой функции и вызовите ее для введенных строк. Результат (словарь d) отобразите на экране командой:\n",
    "\n",
    "print(*sorted(d.items()))\n",
    "\n",
    "Sample Input:\n",
    "\n",
    "house river tree car\n",
    "дом река дерево машина\n",
    "\n",
    "Sample Output:\n",
    "\n",
    "('car', 'машина') ('house', 'дом') ('river', 'река') ('tree', 'дерево')\n",
    "\n"
   ]
  },
  {
   "cell_type": "code",
   "execution_count": 29,
   "metadata": {},
   "outputs": [
    {
     "name": "stdout",
     "output_type": "stream",
     "text": [
      "('дерево', 'tree') ('дом', 'house') ('машина', 'car') ('река', 'river')\n"
     ]
    }
   ],
   "source": [
    "def make_dict(make_list):\n",
    "    def wrapper_dict(l_keys,l_values):\n",
    "        l_keys,l_values = make_list(l_keys, l_values)\n",
    "        d = {}\n",
    "        for i, k in enumerate(l_keys):\n",
    "            d[k] = l_values[i] \n",
    "        return d\n",
    "        \n",
    "    return wrapper_dict\n",
    "\n",
    "@make_dict\n",
    "def make_list(string_keys:str, string_values:str) -> list:\n",
    "    l_keys = [i for i in string_keys.split()]\n",
    "    l_values =[i for i in string_values.split()]\n",
    "    return l_keys, l_values\n",
    "\n",
    "l_keys,l_values = input(), input()\n",
    "print(*sorted(make_list(l_keys, l_values).items()))    "
   ]
  },
  {
   "cell_type": "code",
   "execution_count": 36,
   "metadata": {},
   "outputs": [
    {
     "name": "stdout",
     "output_type": "stream",
     "text": [
      "['дом', 'река', 'дерево', 'машина']\n",
      "['house', 'river', 'tree', 'car']\n",
      "{'дом': 'дом', 'река': 'река', 'дерево': 'дерево', 'машина': 'машина'}\n",
      "['PrettyPrinter',\n",
      " '_StringIO',\n",
      " '__all__',\n",
      " '__builtins__',\n",
      " '__cached__',\n",
      " '__doc__',\n",
      " '__file__',\n",
      " '__loader__',\n",
      " '__name__',\n",
      " '__package__',\n",
      " '__spec__',\n",
      " '_builtin_scalars',\n",
      " '_collections',\n",
      " '_dataclasses',\n",
      " '_perfcheck',\n",
      " '_recursion',\n",
      " '_safe_key',\n",
      " '_safe_tuple',\n",
      " '_sys',\n",
      " '_types',\n",
      " '_wrap_bytes_repr',\n",
      " 'isreadable',\n",
      " 'isrecursive',\n",
      " 'pformat',\n",
      " 'pp',\n",
      " 'pprint',\n",
      " 're',\n",
      " 'saferepr']\n"
     ]
    }
   ],
   "source": [
    "import pprint\n",
    "def make_list(string_keys:str, string_values:str) -> list:\n",
    "    l_keys = [i for i in string_keys.split()]\n",
    "    l_values =[i for i in string_values.split()]\n",
    "    return l_keys, l_values\n",
    "l_keys,l_values = make_list(input(),input())\n",
    "print(k,v,sep='\\n')\n",
    "#print(make_list(input(),input()))\n",
    "def wrapper_dict(l_keys,l_values):\n",
    "        #l_keys,l_values = make_list(l_keys, l_values)\n",
    "        d = {}\n",
    "        for i, k in enumerate(l_keys):\n",
    "            d[k] = l_values[i] \n",
    "        return d\n",
    "print(wrapper_dict(l_keys,l_values))\n",
    "#pprint.pprint(locals())\n",
    "pprint.pprint(dir(pprint))"
   ]
  },
  {
   "cell_type": "code",
   "execution_count": 14,
   "metadata": {},
   "outputs": [],
   "source": [
    "def wrapper_dict(l_keys,l_values):\n",
    "        l_keys,l_values = make_list(l_keys, l_values)\n",
    "        d = {}\n",
    "        d = d.fromkeys(l_keys,l_values)\n",
    "        return d"
   ]
  }
 ],
 "metadata": {
  "kernelspec": {
   "display_name": "Python 3.10.8 64-bit ('workenv3.10')",
   "language": "python",
   "name": "python3"
  },
  "language_info": {
   "codemirror_mode": {
    "name": "ipython",
    "version": 3
   },
   "file_extension": ".py",
   "mimetype": "text/x-python",
   "name": "python",
   "nbconvert_exporter": "python",
   "pygments_lexer": "ipython3",
   "version": "3.10.8"
  },
  "orig_nbformat": 4,
  "vscode": {
   "interpreter": {
    "hash": "26b4996cd3467b114e8c29eef76c6165ac584fd4bc9cc1c8693779099c4e15d4"
   }
  }
 },
 "nbformat": 4,
 "nbformat_minor": 2
}
