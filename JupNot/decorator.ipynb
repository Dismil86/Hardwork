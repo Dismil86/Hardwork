{
 "cells": [
  {
   "cell_type": "markdown",
   "metadata": {},
   "source": [
    "\n",
    "\n",
    "Подвиг 3. На вход программы поступает строка из целых чисел, записанных через пробел. Напишите функцию get_list, которая преобразовывает эту строку в список из целых чисел и возвращает его. Определите декоратор для этой функции, который сортирует список чисел по возрастанию. Результат сортировки должен возвращаться при вызове декоратора.\n",
    "\n",
    "Вызовите декорированную функцию get_list и отобразите полученный отсортированный список lst командой:\n",
    "\n",
    "print(*lst)\n",
    "\n",
    "Sample Input:\n",
    "\n",
    "8 11 -5 4 3 10\n",
    "\n",
    "Sample Output:\n",
    "\n",
    "-5 3 4 8 10 11\n",
    "\n"
   ]
  },
  {
   "cell_type": "code",
   "execution_count": 2,
   "metadata": {},
   "outputs": [
    {
     "name": "stdout",
     "output_type": "stream",
     "text": [
      "-5 3 4 8 10 11\n"
     ]
    }
   ],
   "source": [
    "\n",
    "\n",
    "def sort_list(get_list):\n",
    "    def wrapper_quick_sort(lst):\n",
    "        lst = get_list(lst)\n",
    "        lst.sort()\n",
    "        return lst\n",
    "        \n",
    "    return wrapper_quick_sort\n",
    "\n",
    "@sort_list\n",
    "def get_list(s):\n",
    "    lst = [int(i) for i in s.split()]\n",
    "    return lst\n",
    "lst = get_list(input())\n",
    "print(*lst)"
   ]
  },
  {
   "cell_type": "code",
   "execution_count": 12,
   "metadata": {},
   "outputs": [
    {
     "name": "stdout",
     "output_type": "stream",
     "text": [
      "[8, 11, -5, 4, 3, 10]\n"
     ]
    }
   ],
   "source": [
    "def get_list(s):\n",
    "    s = [int(i) for i in s.split()]\n",
    "    return s\n",
    "s = input()\n",
    "print(get_list(s))"
   ]
  },
  {
   "cell_type": "code",
   "execution_count": 24,
   "metadata": {},
   "outputs": [
    {
     "name": "stdout",
     "output_type": "stream",
     "text": [
      "[8, 11, -5, 4, 3, 10]\n"
     ]
    }
   ],
   "source": [
    "def wrapper_quick_sort(lst):\n",
    "        lst = get_list(s)\n",
    "        if len(lst) < 2:\n",
    "            return lst\n",
    "        else:\n",
    "            mid = len(lst) // 2 # Выбрали опорный элемент \n",
    "            less = [i for i in lst[:mid] if i <= lst[mid]] + [i for i in lst[mid + 1:] if i <= lst[mid]]\n",
    "            greater = [i for i in lst[:mid] if i > lst[mid]] + [i for i in lst[mid + 1:] if i > lst[mid]]\n",
    "            return wrapper_quick_sort(less) + [lst[mid]] + wrapper_quick_sort(greater)\n",
    "        \n",
    "#lst =  [8, 11, -5, 4, 3, 10]      \n",
    "#print(wrapper_quick_sort(lst))\n",
    "def get_list(s):\n",
    "    lst = [int(i) for i in s.split()]\n",
    "    return lst       \n",
    "\n",
    "lst = get_list(input())\n",
    "print(lst)"
   ]
  },
  {
   "cell_type": "code",
   "execution_count": 4,
   "metadata": {},
   "outputs": [
    {
     "data": {
      "text/plain": [
       "0.14864246999991337"
      ]
     },
     "execution_count": 4,
     "metadata": {},
     "output_type": "execute_result"
    }
   ],
   "source": [
    "import timeit\n",
    "\n",
    "timeit.timeit('a = [8,11,-5,4,3,10]; a.sort()')"
   ]
  },
  {
   "cell_type": "code",
   "execution_count": 7,
   "metadata": {},
   "outputs": [
    {
     "data": {
      "text/plain": [
       "0.1252695959999528"
      ]
     },
     "execution_count": 7,
     "metadata": {},
     "output_type": "execute_result"
    }
   ],
   "source": [
    "import timeit\n",
    "\n",
    "timeit.timeit(\"\"\"def quick_sort(s):\n",
    "    if len(s) < 2:\n",
    "        return s\n",
    "    else:\n",
    "        mid = len(s) // 2 # Выбрали опорный элемент \n",
    "        less = [i for i in s[:mid] if i <= s[mid]] + [i for i in s[mid + 1:] if i <= s[mid]]\n",
    "        greater = [i for i in s[:mid] if i > s[mid]] + [i for i in s[mid + 1:] if i > s[mid]]\n",
    "        return quick_sort(less) + [s[mid]] + quick_sort(greater)\"\"\")"
   ]
  },
  {
   "cell_type": "code",
   "execution_count": 10,
   "metadata": {},
   "outputs": [
    {
     "name": "stdout",
     "output_type": "stream",
     "text": [
      "         5 function calls in 0.000 seconds\n",
      "\n",
      "   Ordered by: standard name\n",
      "\n",
      "   ncalls  tottime  percall  cumtime  percall filename:lineno(function)\n",
      "        1    0.000    0.000    0.000    0.000 1602679508.py:11(bublle_sort)\n",
      "        1    0.000    0.000    0.000    0.000 <string>:1(<module>)\n",
      "        1    0.000    0.000    0.000    0.000 {built-in method builtins.exec}\n",
      "        1    0.000    0.000    0.000    0.000 {built-in method builtins.len}\n",
      "        1    0.000    0.000    0.000    0.000 {method 'disable' of '_lsprof.Profiler' objects}\n",
      "\n",
      "\n",
      "         33 function calls (25 primitive calls) in 0.000 seconds\n",
      "\n",
      "   Ordered by: standard name\n",
      "\n",
      "   ncalls  tottime  percall  cumtime  percall filename:lineno(function)\n",
      "      9/1    0.000    0.000    0.000    0.000 1602679508.py:2(quick_sort)\n",
      "        4    0.000    0.000    0.000    0.000 1602679508.py:7(<listcomp>)\n",
      "        4    0.000    0.000    0.000    0.000 1602679508.py:8(<listcomp>)\n",
      "        1    0.000    0.000    0.000    0.000 <string>:1(<module>)\n",
      "        1    0.000    0.000    0.000    0.000 {built-in method builtins.exec}\n",
      "       13    0.000    0.000    0.000    0.000 {built-in method builtins.len}\n",
      "        1    0.000    0.000    0.000    0.000 {method 'disable' of '_lsprof.Profiler' objects}\n",
      "\n",
      "\n"
     ]
    }
   ],
   "source": [
    "import timeit,cProfile\n",
    "def quick_sort(s):\n",
    "    if len(s) < 2:\n",
    "        return s\n",
    "    else:\n",
    "        mid = len(s) // 2 # Выбрали опорный элемент \n",
    "        less = [i for i in s[:mid] if i <= s[mid]] + [i for i in s[mid + 1:] if i <= s[mid]]\n",
    "        greater = [i for i in s[:mid] if i > s[mid]] + [i for i in s[mid + 1:] if i > s[mid]]\n",
    "        return quick_sort(less) + [s[mid]] + quick_sort(greater)\n",
    "    \n",
    "def bublle_sort(s):\n",
    "    n = len(s)\n",
    "    for bypass in range(1, n): #lДля каждого прохода \n",
    "        for k in range(0, n-bypass):\n",
    "            if s[k] > s[k+1]:\n",
    "                s[k],s[k + 1] = s[k + 1], s[k]\n",
    "    return s\n",
    "\n",
    "cProfile.run('bublle_sort([8, 11, -5, 4, 3, 10])')\n",
    "cProfile.run('quick_sort([8, 11, -5, 4, 3, 10])')"
   ]
  },
  {
   "cell_type": "code",
   "execution_count": null,
   "metadata": {},
   "outputs": [],
   "source": []
  }
 ],
 "metadata": {
  "kernelspec": {
   "display_name": "Python 3.11.0 64-bit ('3.11.0')",
   "language": "python",
   "name": "python3"
  },
  "language_info": {
   "codemirror_mode": {
    "name": "ipython",
    "version": 3
   },
   "file_extension": ".py",
   "mimetype": "text/x-python",
   "name": "python",
   "nbconvert_exporter": "python",
   "pygments_lexer": "ipython3",
   "version": "3.11.0"
  },
  "orig_nbformat": 4,
  "vscode": {
   "interpreter": {
    "hash": "9e67aa080b8c1c4d6e24d2b5c9e4edecc235517ee5352f63b29e74ed8b9c94da"
   }
  }
 },
 "nbformat": 4,
 "nbformat_minor": 2
}
