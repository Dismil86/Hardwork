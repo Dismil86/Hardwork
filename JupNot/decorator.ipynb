{
 "cells": [
  {
   "cell_type": "markdown",
   "metadata": {},
   "source": [
    "\n",
    "\n",
    "Подвиг 3. На вход программы поступает строка из целых чисел, записанных через пробел. Напишите функцию get_list, которая преобразовывает эту строку в список из целых чисел и возвращает его. Определите декоратор для этой функции, который сортирует список чисел по возрастанию. Результат сортировки должен возвращаться при вызове декоратора.\n",
    "\n",
    "Вызовите декорированную функцию get_list и отобразите полученный отсортированный список lst командой:\n",
    "\n",
    "print(*lst)\n",
    "\n",
    "Sample Input:\n",
    "\n",
    "8 11 -5 4 3 10\n",
    "\n",
    "Sample Output:\n",
    "\n",
    "-5 3 4 8 10 11\n",
    "\n"
   ]
  },
  {
   "cell_type": "code",
   "execution_count": 32,
   "metadata": {},
   "outputs": [
    {
     "name": "stdout",
     "output_type": "stream",
     "text": [
      "-5 3 4 8 10 11\n"
     ]
    }
   ],
   "source": [
    "\n",
    "\n",
    "def sort_list(get_list):\n",
    "    def wrapper_quick_sort(lst):\n",
    "        #lst = get_list(lst)\n",
    "        #lst.sort()\n",
    "        #return lst\n",
    "        if len(lst) < 2:\n",
    "            return lst\n",
    "        else:\n",
    "            mid = len(lst) // 2 # Выбрали опорный элемент \n",
    "            less = [i for i in lst[:mid] if i <= lst[mid]] + [i for i in lst[mid + 1:] if i <= lst[mid]]\n",
    "            greater = [i for i in lst[:mid] if i > lst[mid]] + [i for i in lst[mid + 1:] if i > lst[mid]]\n",
    "            return wrapper_quick_sort(less) + [lst[mid]] + wrapper_quick_sort(greater)\n",
    "    return wrapper_quick_sort\n",
    "\n",
    "@sort_list\n",
    "def get_list(s):\n",
    "    lst = [int(i) for i in s.split()]\n",
    "    return lst\n",
    "lst = get_list(input())\n",
    "print(*lst)"
   ]
  },
  {
   "cell_type": "code",
   "execution_count": 12,
   "metadata": {},
   "outputs": [
    {
     "name": "stdout",
     "output_type": "stream",
     "text": [
      "[8, 11, -5, 4, 3, 10]\n"
     ]
    }
   ],
   "source": [
    "def get_list(s):\n",
    "    s = [int(i) for i in s.split()]\n",
    "    return s\n",
    "s = input()\n",
    "print(get_list(s))"
   ]
  },
  {
   "cell_type": "code",
   "execution_count": 24,
   "metadata": {},
   "outputs": [
    {
     "name": "stdout",
     "output_type": "stream",
     "text": [
      "[8, 11, -5, 4, 3, 10]\n"
     ]
    }
   ],
   "source": [
    "def wrapper_quick_sort(lst):\n",
    "        lst = get_list(s)\n",
    "        if len(lst) < 2:\n",
    "            return lst\n",
    "        else:\n",
    "            mid = len(lst) // 2 # Выбрали опорный элемент \n",
    "            less = [i for i in lst[:mid] if i <= lst[mid]] + [i for i in lst[mid + 1:] if i <= lst[mid]]\n",
    "            greater = [i for i in lst[:mid] if i > lst[mid]] + [i for i in lst[mid + 1:] if i > lst[mid]]\n",
    "            return wrapper_quick_sort(less) + [lst[mid]] + wrapper_quick_sort(greater)\n",
    "        \n",
    "#lst =  [8, 11, -5, 4, 3, 10]      \n",
    "#print(wrapper_quick_sort(lst))\n",
    "def get_list(s):\n",
    "    lst = [int(i) for i in s.split()]\n",
    "    return lst       \n",
    "\n",
    "lst = get_list(input())\n",
    "print(lst)"
   ]
  },
  {
   "cell_type": "code",
   "execution_count": null,
   "metadata": {},
   "outputs": [],
   "source": []
  }
 ],
 "metadata": {
  "kernelspec": {
   "display_name": "Python 3.11.0 64-bit ('3.11.0')",
   "language": "python",
   "name": "python3"
  },
  "language_info": {
   "codemirror_mode": {
    "name": "ipython",
    "version": 3
   },
   "file_extension": ".py",
   "mimetype": "text/x-python",
   "name": "python",
   "nbconvert_exporter": "python",
   "pygments_lexer": "ipython3",
   "version": "3.11.0"
  },
  "orig_nbformat": 4,
  "vscode": {
   "interpreter": {
    "hash": "9e67aa080b8c1c4d6e24d2b5c9e4edecc235517ee5352f63b29e74ed8b9c94da"
   }
  }
 },
 "nbformat": 4,
 "nbformat_minor": 2
}
