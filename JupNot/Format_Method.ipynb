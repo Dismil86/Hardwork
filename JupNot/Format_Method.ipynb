{
 "cells": [
  {
   "cell_type": "code",
   "execution_count": null,
   "metadata": {},
   "outputs": [],
   "source": []
  }
 ],
 "metadata": {
  "kernelspec": {
   "display_name": "Python 3.10.0 ('virtLearnPython': venv)",
   "language": "python",
   "name": "python3"
  },
  "language_info": {
   "name": "python",
   "version": "3.10.0"
  },
  "orig_nbformat": 4,
  "vscode": {
   "interpreter": {
    "hash": "60320100e61b6abca5e8fa8813d7fca326eec3cbf4dd3d414f82d819f5069e7b"
   }
  }
 },
 "nbformat": 4,
 "nbformat_minor": 2
}
