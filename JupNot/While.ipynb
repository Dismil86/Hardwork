{
 "cells": [
  {
   "cell_type": "markdown",
   "id": "4c74f114-bd39-442e-bb02-f7eba5026c68",
   "metadata": {},
   "source": [
    "Цикл While означает,что делай пока условие истина\n",
    "Оператор while — самая универсальная конструкция для итераций в языке Python.\n",
    "Выражаясь простыми терминами, он многократно выполняет блок операторов (обычно с отступом) до тех пор, пока проверка в заголовочной части оценивается как истинное значение. Это называется “циклом”, потому что управление продолжает возвращаться к началу оператора, пока проверка не даст ложное значение. Когда результат\n",
    "проверки становится ложным, управление переходит на оператор, следующий после\n",
    "блока while. Совокупный эффект в том, что тело цикла выполняется многократно,\n",
    "пока проверка в заголовочной части дает истинное значение. Если проверка оценивается в ложное значение с самого начала, тогда тело цикла никогда не выполнится и \n",
    "оператор while пропускается\n",
    "Оператор continue вызывает немедленный переход в начало цикла. Иногда он\n",
    "также позволяет избежать вложения операторов. В приведенном далее примере оператор continue используется для пропуска вывода нечетных чисел. Код выводит все\n",
    "четные числа, которые меньше 10 и больше или равны 0. Вспомните, что 0 означает\n",
    "ложь, а % — операцию получения остатка от деления (модуля), поэтому данный цикл\n",
    "делает обратный отсчет до 0, пропуская числа, которые не являются множителями\n",
    "2 — он выводит 8 6 4 2 0:\n",
    "```\n",
    "х - 10\n",
    "while х:\n",
    "х = х-1 # Либо х -= 1\n",
    "if х % 2 != 0: continue # Нечетное? Тогда пропустить print\n",
    "print(х, end=’ ')\n",
    "```\n",
    "#####Переворот строки (запись её задом-наперёд) — простейшая алгоритмическая задача, которую иногда задают на собеседованиях.\\\n",
    "```\n",
    "def reverse_string(string):\n",
    "    index = len(string) - 1  # определяем начальную точку итерирования строки\n",
    "    r_string = '' # Начальное значение строки новой строки\n",
    "    while index >= 0:\n",
    "       cur_chr = string[index]  текущий символ равен символ с начальным индексом(12)\n",
    "       r_string = f'{r_string}{cur_chr}' \n",
    "       index -= 1\n",
    "    return r_string\n",
    "\n",
    "reverse_string('string')\n",
    "```\n",
    "#####Моржовый опертор\n",
    "Он продолжает заставлять пользователя вводить значения до тех пор пока не введут слово стоп. Теперь подключаем моржевый оператор и смотрите какую красоту мы получаем\n",
    "```\n",
    "while (phrase := input('Введите фразу: ')) != 'стоп':\n",
    "  print('Продолжаем веселиться!')\n",
    "print('Закончили вечеринку!')\n",
    "```"
   ]
  },
  {
   "cell_type": "code",
   "execution_count": 15,
   "id": "8220fd62-d47c-421c-ac70-d58bde0d7a3b",
   "metadata": {},
   "outputs": [
    {
     "name": "stdout",
     "output_type": "stream",
     "text": [
      "5\n",
      "4\n",
      "3\n",
      "2\n",
      "1\n",
      "finished!\n"
     ]
    }
   ],
   "source": [
    " def print_numbers(num):\n",
    "        i = num\n",
    "        while i >= 1:\n",
    "            print(i)\n",
    "            i -= 1\n",
    "        print(\"finished!\")\n",
    "print_numbers(5)"
   ]
  },
  {
   "cell_type": "code",
   "execution_count": 16,
   "id": "deeaeffd-7e79-4121-9156-cf3a1dc2da43",
   "metadata": {},
   "outputs": [
    {
     "name": "stdout",
     "output_type": "stream",
     "text": [
      "Congratulates, 0000 you are log in!\n"
     ]
    }
   ],
   "source": [
    " def input_pass():\n",
    "        x = ''\n",
    "        while not x:\n",
    "            x = input(\"Введите ваш логин: \")\n",
    "            \n",
    "        print(f\"Congratulates, {x.title()} you are log in!\")\n",
    "input_pass()"
   ]
  },
  {
   "cell_type": "code",
   "execution_count": 1,
   "id": "1d4b222f-abd1-4177-aa7f-5172b5d5ef4a",
   "metadata": {},
   "outputs": [
    {
     "name": "stdout",
     "output_type": "stream",
     "text": [
      "вы выбрали USD !\n"
     ]
    }
   ],
   "source": [
    "\n",
    "    \"\"\"Конвертирует валюту\n",
    "    \"\"\"\n",
    "    a = ['USD','RUB','EUR','GBR']\n",
    "    x = True\n",
    "    while x:\n",
    "        x = input(f'Введите валюту из списка {a}, котоую хотите обменять: ').upper()\n",
    "        print(f\"вы выбрали {x.upper()} !\")\n",
    "        if x in a:\n",
    "            x = False\n",
    "    \n",
    "        else: \n",
    "            print(\"вы ввели валюту, которая отсуствует в списке! Попробуйте еще раз\")"
   ]
  },
  {
   "cell_type": "markdown",
   "id": "0b7f880a",
   "metadata": {},
   "source": [
    "Представьте себе функцию, которая считает, сколько раз входит буква в предложение. Пример её работы:"
   ]
  },
  {
   "cell_type": "code",
   "execution_count": 21,
   "id": "016feea2-f3f2-4d95-aeff-24f8fe144a39",
   "metadata": {},
   "outputs": [
    {
     "name": "stdout",
     "output_type": "stream",
     "text": [
      "2\n"
     ]
    }
   ],
   "source": [
    "def character_counter(text,char):\n",
    "    \"\"\" Функция принимает в качестве аргумента предложение(str)\n",
    "        и элемент строки, который надо посчитать\n",
    "    \"\"\"\n",
    "    index = 0 # Задаем начальную точку отсчета для итерирования коллекции, последовательности(str)\n",
    "    count = 0 # Счетчик колличесва вхождений субстроки(sub) в посдедоватьность\n",
    "    while index < len(text): # Создаем цикл с условием делать до того пока условие: индекс элемента последовательности меньше длины последовательности \n",
    "        if text[index] == char:#Если элемент строки(sub) равен заданному элементу(sub): ..\n",
    "            count += 1#  ....прибаляем к нашему счетчику 1\n",
    "        index += 1\n",
    "    return count # возвращаем подсчитанное колличество\n",
    "\n",
    "print(character_counter(' We lOve spartak moscow','o'))"
   ]
  },
  {
   "cell_type": "code",
   "execution_count": 19,
   "id": "96079788",
   "metadata": {},
   "outputs": [
    {
     "name": "stdout",
     "output_type": "stream",
     "text": [
      "3\n"
     ]
    }
   ],
   "source": [
    "# Сделали тоже самое, только применили цикл ``for``  см.6.1. Написание питоновских циклов \"Chisty_Python__Den_Beyder\"\n",
    "x = 'We love spartak moscow'\n",
    "count = 0\n",
    "for letter in x: # Цикл ``for`` работае по приципу \"Для каждого\"\n",
    "    if letter == 'o':\n",
    "        count += 1\n",
    "print(count)"
   ]
  },
  {
   "cell_type": "markdown",
   "id": "06fee3b8",
   "metadata": {},
   "source": [
    "функция из теории учитывает регистр букв. То есть 'A' и 'a' с её точки зрения разные символы. \n",
    "Реализуйте вариант этой же функции, так чтобы регистр букв был не важен:"
   ]
  },
  {
   "cell_type": "code",
   "execution_count": 1,
   "id": "f1b72a81",
   "metadata": {},
   "outputs": [
    {
     "name": "stdout",
     "output_type": "stream",
     "text": [
      "3\n"
     ]
    }
   ],
   "source": [
    "def character_counter(text,char):\n",
    "    \"\"\" Функция принимает в качестве аргумента строку (str)\n",
    "        и элемент строки, который надо посчитать и возвращает колличество вхождений символа в введеной строке\n",
    "    \"\"\"\n",
    "    index = 0 \n",
    "    count = 0\n",
    "    while index < len(text): \n",
    "        if text[index].lower() == char.lower(): # Теперь, с помощью методов строки переводим проверяемые элементы последовательности в нижний регистр\n",
    "            count += 1\n",
    "        index += 1\n",
    "    return count \n",
    "\n",
    "print(character_counter(' We lOve spartak moscow','o'))"
   ]
  },
  {
   "cell_type": "code",
   "execution_count": 34,
   "id": "672efabe",
   "metadata": {},
   "outputs": [
    {
     "data": {
      "text/plain": [
       "3"
      ]
     },
     "execution_count": 34,
     "metadata": {},
     "output_type": "execute_result"
    }
   ],
   "source": [
    "# А теперь с применением цикла ``for``\n",
    "def count_chars(text,sub):\n",
    "    \"\"\"Счетчик вхождения элемента в строку.\n",
    "    Args:\n",
    "    text(str): Проверяемая стрка\n",
    "    suv(str): Что будем искать в строке\n",
    "    \"\"\"\n",
    "    count = 0 \n",
    "    for letter in text:\n",
    "        if letter.lower() == sub.lower():\n",
    "            count += 1\n",
    "    return count\n",
    "count_chars('Never give up','E')"
   ]
  },
  {
   "cell_type": "markdown",
   "id": "4fec52e1",
   "metadata": {},
   "source": [
    "Переворот строки (запись её задом-наперёд) — простейшая алгоритмическая задача, которую иногда задают на собеседованиях."
   ]
  },
  {
   "cell_type": "code",
   "execution_count": 30,
   "id": "bcf740e5",
   "metadata": {},
   "outputs": [
    {
     "data": {
      "text/plain": [
       "'gnirts'"
      ]
     },
     "execution_count": 30,
     "metadata": {},
     "output_type": "execute_result"
    }
   ],
   "source": [
    "# Решение с помощью цикла ``for`` с помощью метода строки ``join``\n",
    "def reverse_string(string):\n",
    "    new_string = []\n",
    "    for i in string[::-1]:\n",
    "        new_string.append(i)\n",
    "    x = ''.join(new_string)\n",
    "    return x\n",
    "reverse_string('string')"
   ]
  },
  {
   "cell_type": "code",
   "execution_count": 39,
   "id": "9dd1471f",
   "metadata": {},
   "outputs": [
    {
     "data": {
      "text/plain": [
       "'gnirts'"
      ]
     },
     "execution_count": 39,
     "metadata": {},
     "output_type": "execute_result"
    }
   ],
   "source": [
    "# Цикл ``While`` с помощью метода словаря ``join``\n",
    "def reverse_string(string):\n",
    "    index = len(string) - 1\n",
    "    rstring = []\n",
    "    while index >= 0:\n",
    "        rstring.append(string[index])\n",
    "        index -= 1\n",
    "    return ''.join(rstring)\n",
    "        \n",
    "reverse_string('string')"
   ]
  },
  {
   "cell_type": "code",
   "execution_count": 45,
   "id": "fbd8ef5a",
   "metadata": {},
   "outputs": [
    {
     "data": {
      "text/plain": [
       "'gnirts'"
      ]
     },
     "execution_count": 45,
     "metadata": {},
     "output_type": "execute_result"
    }
   ],
   "source": [
    "# решение с применнением цикла ``while`` путем создание новой строки и интерполяции(сложения) конкатенации сиволов строки\n",
    "def reverse_string(string):\n",
    "    index = len(string) - 1 \n",
    "    r_string = ''\n",
    "    while index >= 0:\n",
    "       cur_chr = string[index] \n",
    "       r_string = f'{r_string}{cur_chr}' \n",
    "       index -= 1\n",
    "    return r_string\n",
    "\n",
    "reverse_string('string')"
   ]
  },
  {
   "cell_type": "markdown",
   "id": "38930e36",
   "metadata": {},
   "source": [
    "Реализуйте функцию my_substr(), которая извлекает из строки подстроку указанной длины. Она принимает на вход два аргумента: строку и длину, и возвращает подстроку, начиная с первого символа:"
   ]
  },
  {
   "cell_type": "code",
   "execution_count": 46,
   "id": "1310c727",
   "metadata": {},
   "outputs": [
    {
     "data": {
      "text/plain": [
       "'Param'"
      ]
     },
     "execution_count": 46,
     "metadata": {},
     "output_type": "execute_result"
    }
   ],
   "source": [
    "def my_substr(text, num):\n",
    "    \"\"\"Args\n",
    "    \"\"\"\n",
    "    nstr = text[:num]\n",
    "    return nstr\n",
    "\n",
    "my_substr('Paramparam', 5)"
   ]
  },
  {
   "cell_type": "code",
   "execution_count": 48,
   "id": "bb1e0b0e",
   "metadata": {},
   "outputs": [
    {
     "data": {
      "text/plain": [
       "'Param'"
      ]
     },
     "execution_count": 48,
     "metadata": {},
     "output_type": "execute_result"
    }
   ],
   "source": [
    "# Теперь с применением цикла while и  интерполяции\n",
    "def my_substr(text, num):\n",
    "    index = 0\n",
    "    nstr = ''\n",
    "    while index <= num - 1:\n",
    "        cur_chr = text[index]\n",
    "        nstr = f'{nstr}{cur_chr}'\n",
    "        index += 1\n",
    "    return nstr\n",
    "my_substr('Paramparam', 5)"
   ]
  },
  {
   "cell_type": "markdown",
   "id": "06f43148",
   "metadata": {},
   "source": [
    "Реализуйте функцию is_contains_char(), которая проверяет с учётом регистра, содержит ли строка указанную букву. Функция принимает два параметра:\n",
    "\n",
    "    Строка\n",
    "    Буква для поиска\n"
   ]
  },
  {
   "cell_type": "code",
   "execution_count": 54,
   "id": "80410180",
   "metadata": {},
   "outputs": [
    {
     "data": {
      "text/plain": [
       "True"
      ]
     },
     "execution_count": 54,
     "metadata": {},
     "output_type": "execute_result"
    }
   ],
   "source": [
    "def is_contains_char(text,chr):\n",
    "    for letter in text:\n",
    "        if letter == chr:\n",
    "            return True\n",
    "    return False\n",
    "\n",
    "is_contains_char('Hexlet', 'H')"
   ]
  },
  {
   "cell_type": "code",
   "execution_count": 52,
   "id": "a0fdc136",
   "metadata": {},
   "outputs": [],
   "source": [
    "\n",
    "\n",
    "def test1(capsys):\n",
    "\n",
    "    assert index.is_contains_char('Hexlet', 'H')\n",
    "\n",
    "    assert not index.is_contains_char('Hexlet', 'h')\n",
    "\n",
    "    assert index.is_contains_char('Awesomeness', 'm')\n",
    "\n",
    "    assert not index.is_contains_char('Awesomeness', 'd')\n",
    "\n",
    "    assert index.is_contains_char('Awesomeness', 'o')\n"
   ]
  },
  {
   "cell_type": "code",
   "execution_count": 1,
   "id": "66004783",
   "metadata": {},
   "outputs": [
    {
     "data": {
      "text/plain": [
       "True"
      ]
     },
     "execution_count": 1,
     "metadata": {},
     "output_type": "execute_result"
    }
   ],
   "source": [
    "def is_contains_char(string, char):\n",
    "    index = 0\n",
    "    while index < len(string):\n",
    "        if string[index] == char:\n",
    "            return True\n",
    "        index += 1\n",
    "    return False\n",
    "\n",
    "is_contains_char('Awesomeness', 'o')"
   ]
  },
  {
   "cell_type": "markdown",
   "id": "ebe63f76",
   "metadata": {},
   "source": [
    "s = 'abcdefghijk'\n",
    "v = [x for x in s[::2]]\n",
    "print(v) "
   ]
  },
  {
   "cell_type": "code",
   "execution_count": 1,
   "id": "bf34e69b",
   "metadata": {},
   "outputs": [
    {
     "name": "stdout",
     "output_type": "stream",
     "text": [
      "(0, 'a') (2, 'c') (4, 'e') (6, 'g') (8, 'i') (10, 'k')\n",
      "[(0, 'a'), (2, 'c'), (4, 'e'), (6, 'g'), (8, 'i'), (10, 'k')]\n",
      "acegik"
     ]
    }
   ],
   "source": [
    "s = 'abcdefghijk'\n",
    "v = [(x,y) for x, y in enumerate(s) if x % 2 == 0]\n",
    "print(*v) \n",
    "print(v)\n",
    "for i,j in v:\n",
    "    print(j,end='')"
   ]
  },
  {
   "cell_type": "markdown",
   "id": "bf133abf",
   "metadata": {},
   "source": [
    "Даны два натуральных числа A и B. Требуется найти их наименьшее общее кратное (НОК). "
   ]
  },
  {
   "cell_type": "code",
   "execution_count": 5,
   "id": "734de794",
   "metadata": {},
   "outputs": [
    {
     "name": "stdout",
     "output_type": "stream",
     "text": [
      "30\n"
     ]
    }
   ],
   "source": [
    "a, b = [int(i) for i in input().split()]\n",
    "count = 2\n",
    "if a > b:\n",
    "    a, b = b, a\n",
    "while True:\n",
    "    if b * count % a == 0:\n",
    "       print(b * count)\n",
    "       break\n",
    "    count += 1"
   ]
  },
  {
   "cell_type": "markdown",
   "id": "47c723fc",
   "metadata": {},
   "source": [
    "Давайте переберем все числа от а до b включительно и будем их выводить на экран, при этом нужно выполнить следующие условия:\n",
    "\n",
    "пропускать (не выводить) числа, которые делятся на 2 или на 3\n",
    "если встречаете число, кратное 777, необходимо принудительно закончить цикл, само это число не выводить"
   ]
  },
  {
   "cell_type": "code",
   "execution_count": 6,
   "id": "f5e740c8",
   "metadata": {},
   "outputs": [
    {
     "name": "stdout",
     "output_type": "stream",
     "text": [
      "773\n",
      "775\n"
     ]
    }
   ],
   "source": [
    "a = int(input())\n",
    "b = int(input())\n",
    "count = a \n",
    "while count <= b:\n",
    "    if count == 777:\n",
    "        break\n",
    "    elif count % 2 == 0 or count % 3 == 0:\n",
    "        count += 1\n",
    "    else:\n",
    "        print(count)\n",
    "        count += 1"
   ]
  },
  {
   "cell_type": "code",
   "execution_count": null,
   "id": "568d07db",
   "metadata": {},
   "outputs": [],
   "source": [
    "a, b = int(input()), int(input()) + 1\n",
    "while a < b:\n",
    "    if a == 777:\n",
    "        break\n",
    "    if a % 2 and a % 3:# если одно из условий правда печать, если ложь проуск\n",
    "        print(a)\n",
    "    a += 1"
   ]
  },
  {
   "cell_type": "markdown",
   "id": "650e59b1",
   "metadata": {},
   "source": [
    "Вам на вход поступает слово и ваша задача в цикле while обойти все его буквы и распечатать их в формате фразы:\n",
    "\n",
    "«Текущая буква: <letter>».\n",
    "\n",
    "Как только вы встретите строчные английские буквы «e» или «a» нужно вывести фразу «Ага! Нашлась», перестать печатать буквы и принудительно выйти из цикла.\n",
    "\n",
    "В случае, если в слове не оказалось букв «e» или «a» необходимо вывести фразу «Распечатали все буквы»"
   ]
  },
  {
   "cell_type": "code",
   "execution_count": 13,
   "id": "2846ffd4",
   "metadata": {},
   "outputs": [
    {
     "name": "stdout",
     "output_type": "stream",
     "text": [
      "Текущая буква: p\n",
      "Текущая буква: h\n",
      "Текущая буква: r\n",
      "Ага! Нашлась\n"
     ]
    },
    {
     "name": "stderr",
     "output_type": "stream",
     "text": [
      "<>:5: SyntaxWarning: \"is\" with a literal. Did you mean \"==\"?\n",
      "<>:5: SyntaxWarning: \"is\" with a literal. Did you mean \"==\"?\n",
      "<>:5: SyntaxWarning: \"is\" with a literal. Did you mean \"==\"?\n",
      "<>:5: SyntaxWarning: \"is\" with a literal. Did you mean \"==\"?\n",
      "C:\\Users\\Admin\\AppData\\Local\\Temp\\ipykernel_9184\\634540256.py:5: SyntaxWarning: \"is\" with a literal. Did you mean \"==\"?\n",
      "  if w[i] is 'a' or w[i] is 'e':\n",
      "C:\\Users\\Admin\\AppData\\Local\\Temp\\ipykernel_9184\\634540256.py:5: SyntaxWarning: \"is\" with a literal. Did you mean \"==\"?\n",
      "  if w[i] is 'a' or w[i] is 'e':\n"
     ]
    }
   ],
   "source": [
    "w = 'phrase'\n",
    "i = 0\n",
    "s = []\n",
    "while i < len(w):\n",
    "    if w[i] is 'a' or w[i] is 'e':\n",
    "        print(f\"Ага! Нашлась\")\n",
    "        break\n",
    "    else:\n",
    "        s.append(w[i])\n",
    "        print(f\"Текущая буква: {w[i]}\")\n",
    "        i += 1\n",
    "else:\n",
    "    print(\"Распечатали все буквы\")\n",
    "\n"
   ]
  }
 ],
 "metadata": {
  "kernelspec": {
   "display_name": "Python 3.9.13 ('env': venv)",
   "language": "python",
   "name": "python3"
  },
  "language_info": {
   "codemirror_mode": {
    "name": "ipython",
    "version": 3
   },
   "file_extension": ".py",
   "mimetype": "text/x-python",
   "name": "python",
   "nbconvert_exporter": "python",
   "pygments_lexer": "ipython3",
   "version": "3.9.13"
  },
  "vscode": {
   "interpreter": {
    "hash": "713c5f5b1c06c1c09e1e39ce8a970317c0d96c3b2a0e9676cb325435c8df9c5c"
   }
  }
 },
 "nbformat": 4,
 "nbformat_minor": 5
}
