{
 "cells": [
  {
   "cell_type": "code",
   "execution_count": null,
   "metadata": {},
   "outputs": [],
   "source": [
    "def reverse_string(text):\n",
    "    # Начальное значение\n",
    "    result = ''\n",
    "    # char - переменная, в которую записывается текущий символ\n",
    "    for char in text:\n",
    "        # Соединяем в обратном порядке\n",
    "        result = char + result\n",
    "    # Цикл заканчивается когда пройдена вся строка\n",
    "    return result\n",
    "\n",
    "\n",
    "reverse_string('go!') # '!og'"
   ]
  },
  {
   "cell_type": "markdown",
   "metadata": {},
   "source": [
    "В одном из предыдущих уроков мы уже написали функцию filter_string(). Напомним, она принимает на вход строку и символ и возвращает новую строку, в которой удалён переданный символ во всех его позициях. На этот раз реализуйте эту функцию с помощью цикла for. Дополнительное условие: регистр исключаемого символа не имеет значения."
   ]
  },
  {
   "cell_type": "code",
   "execution_count": 2,
   "metadata": {},
   "outputs": [
    {
     "data": {
      "text/plain": [
       "'f  look forward  am wn'"
      ]
     },
     "execution_count": 2,
     "metadata": {},
     "output_type": "execute_result"
    }
   ],
   "source": [
    "def filter_string(text,chr):\n",
    "    n_str = '' # Создаем пустую строку,куда мы будем добавлять элементы\n",
    "    for i in text:\n",
    "        cur_chr = i # текущий проверяемый элемент\n",
    "        if cur_chr.upper() != chr.upper():\n",
    "            n_str = f'{n_str}{cur_chr}' # если условие выполнено,то каждый раз  добавляем текущий проверяемый элемент в строку\n",
    "    return(n_str)\n",
    "filter_string('If I look forward I am win','I')"
   ]
  },
  {
   "cell_type": "code",
   "execution_count": 1,
   "metadata": {},
   "outputs": [],
   "source": [
    "def test1():\n",
    "\n",
    "    text = 'If I look forward I am win'\n",
    "\n",
    "    assert filter_string(text, 'z') == 'If I look forward I am win'\n",
    "\n",
    "    assert filter_string(text, 'I') == 'f  look forward  am wn'\n",
    "\n",
    "    assert filter_string('zz zorro', 'z') == ' orro'"
   ]
  },
  {
   "cell_type": "code",
   "execution_count": null,
   "metadata": {},
   "outputs": [],
   "source": []
  }
 ],
 "metadata": {
  "kernelspec": {
   "display_name": "Python 3.10.0 64-bit ('3.10.0')",
   "language": "python",
   "name": "python3"
  },
  "language_info": {
   "codemirror_mode": {
    "name": "ipython",
    "version": 3
   },
   "file_extension": ".py",
   "mimetype": "text/x-python",
   "name": "python",
   "nbconvert_exporter": "python",
   "pygments_lexer": "ipython3",
   "version": "3.10.0"
  },
  "orig_nbformat": 4,
  "vscode": {
   "interpreter": {
    "hash": "20c1fe21645debee36d8e4152e79d4beab4f5df091f9e21e355db43c9b84c467"
   }
  }
 },
 "nbformat": 4,
 "nbformat_minor": 2
}
