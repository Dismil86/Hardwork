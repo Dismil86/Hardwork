{
 "cells": [
  {
   "cell_type": "code",
   "execution_count": null,
   "metadata": {},
   "outputs": [],
   "source": [
    "def reverse_string(text):\n",
    "    # Начальное значение\n",
    "    result = ''\n",
    "    # char - переменная, в которую записывается текущий символ\n",
    "    for char in text:\n",
    "        # Соединяем в обратном порядке\n",
    "        result = char + result\n",
    "    # Цикл заканчивается когда пройдена вся строка\n",
    "    return result\n",
    "\n",
    "\n",
    "reverse_string('go!') # '!og'"
   ]
  },
  {
   "cell_type": "markdown",
   "metadata": {},
   "source": [
    "В одном из предыдущих уроков мы уже написали функцию filter_string(). Напомним, она принимает на вход строку и символ и возвращает новую строку, в которой удалён переданный символ во всех его позициях. На этот раз реализуйте эту функцию с помощью цикла for. Дополнительное условие: регистр исключаемого символа не имеет значения."
   ]
  },
  {
   "cell_type": "code",
   "execution_count": 2,
   "metadata": {},
   "outputs": [
    {
     "data": {
      "text/plain": [
       "'f  look forward  am wn'"
      ]
     },
     "execution_count": 2,
     "metadata": {},
     "output_type": "execute_result"
    }
   ],
   "source": [
    "def filter_string(text,chr):\n",
    "    n_str = '' # Создаем пустую строку,куда мы будем добавлять элементы\n",
    "    for i in text:\n",
    "        cur_chr = i # текущий проверяемый элемент\n",
    "        if cur_chr.upper() != chr.upper():\n",
    "            n_str = f'{n_str}{cur_chr}' # если условие выполнено,то каждый раз  добавляем текущий проверяемый элемент в строку\n",
    "    return(n_str)\n",
    "filter_string('If I look forward I am win','I')"
   ]
  },
  {
   "cell_type": "code",
   "execution_count": 1,
   "metadata": {},
   "outputs": [],
   "source": [
    "def test1():\n",
    "\n",
    "    text = 'If I look forward I am win'\n",
    "\n",
    "    assert filter_string(text, 'z') == 'If I look forward I am win'\n",
    "\n",
    "    assert filter_string(text, 'I') == 'f  look forward  am wn'\n",
    "\n",
    "    assert filter_string('zz zorro', 'z') == ' orro'"
   ]
  },
  {
   "cell_type": "code",
   "execution_count": 5,
   "metadata": {},
   "outputs": [
    {
     "name": "stdout",
     "output_type": "stream",
     "text": [
      "<map object at 0x0000022301C9BD60>\n",
      "[73, 32, 108, 111, 118, 101, 32, 83, 112, 97, 114, 116, 97, 107, 32, 77, 111, 115, 99, 111, 119]\n",
      "1965\n"
     ]
    }
   ],
   "source": [
    "s = \"I love Spartak Moscow\"\n",
    "print(map(ord,s))\n",
    "n = map(ord,s)\n",
    "print(list(n))\n",
    "v = [ord(i) for i in s]\n",
    "print(sum(v))"
   ]
  },
  {
   "cell_type": "markdown",
   "metadata": {},
   "source": [
    "Напишите программу, которая считывает два натуральных числа a и b (гарантируется, что a<b), после чего для всех чисел от a до b включительно выводит:\n",
    "\n",
    "“Fizz”, если это число делится на 3;\n",
    "“Buzz”, если это число делится на 5;\n",
    "“FizzBuzz”, если выполнены оба предыдущих условия;\n",
    "само это число в остальных случаях."
   ]
  },
  {
   "cell_type": "code",
   "execution_count": null,
   "metadata": {},
   "outputs": [],
   "source": [
    "a, b = (int(input()) for n in range(2))\n",
    "for x in range(a, b + 1):\n",
    "    s = (x % 3 == 0) * 'Fizz' + (x % 5 == 0) * 'Buzz' # Если выражение верно то оно равно True. Умножаем на строку получаем строку, если False * str = ''\n",
    "    if not s:\n",
    "        s = x\n",
    "    print(s)"
   ]
  },
  {
   "cell_type": "markdown",
   "metadata": {},
   "source": []
  },
  {
   "cell_type": "code",
   "execution_count": 3,
   "metadata": {},
   "outputs": [
    {
     "name": "stdout",
     "output_type": "stream",
     "text": [
      "24001875\n"
     ]
    }
   ],
   "source": [
    "s = [x ** 3 for x in range(50,101)]\n",
    "print(sum(s))"
   ]
  },
  {
   "cell_type": "markdown",
   "metadata": {},
   "source": [
    "Найти факториал числа\n"
   ]
  },
  {
   "cell_type": "code",
   "execution_count": 6,
   "metadata": {},
   "outputs": [
    {
     "name": "stdout",
     "output_type": "stream",
     "text": [
      "6\n"
     ]
    }
   ],
   "source": [
    "def factorial(n):\n",
    "    fac = 1\n",
    "    for i in range(1, n + 1):\n",
    "        fac *= i\n",
    "    print(fac)\n",
    "factorial(int(input()))"
   ]
  },
  {
   "cell_type": "code",
   "execution_count": 37,
   "metadata": {},
   "outputs": [
    {
     "name": "stdout",
     "output_type": "stream",
     "text": [
      "Friendship is magic!^^\n"
     ]
    }
   ],
   "source": [
    "n = int(input())\n",
    "count_m = 0\n",
    "count_k = 0\n",
    "for i in range(n):\n",
    "    a, b = [int(i) for i in input().split()]\n",
    "    if a > b:\n",
    "        count_m += 1\n",
    "    if a < b:\n",
    "        count_k += 1\n",
    "print(\"Mishka\" if count_m > count_k else \"Kris\" if count_m < count_k else \"Friendship is magic!^^\")"
   ]
  },
  {
   "cell_type": "markdown",
   "metadata": {},
   "source": [
    "Найдите, в каких строках из введённых и в каком месте упоминается \"рок\", причем регистр букв не важен.\n",
    "\n",
    "Вместо явного цикла прохода по строке в цикле используйте подходящий метод строки.\n",
    "Для каждой строки, в которой есть сочетание символов «рок», нужно вывести (в порядке появления таких строк) номер этой строки (нумерация начинается с единицы) и номер символа, с которого начинается первое вхождение этой подстроки (нумерация символов также с единицы)."
   ]
  },
  {
   "cell_type": "code",
   "execution_count": 5,
   "metadata": {},
   "outputs": [
    {
     "name": "stdout",
     "output_type": "stream",
     "text": [
      "1 3\n",
      "2 4\n",
      "3 3\n"
     ]
    }
   ],
   "source": [
    "n = int(input())\n",
    "for i in range(1, n + 1):\n",
    "    s = input().lower()\n",
    "    if 'рок' in s:\n",
    "        print(i, s.find('рок') + 1)\n"
   ]
  },
  {
   "cell_type": "markdown",
   "metadata": {},
   "source": [
    "Входные данные\n",
    "Программа получает на вход в одной строке элементы списка - целые числа, разделенные пробелом. Количество элементов произвольное\n",
    "\n",
    "И на следующей строке вводится одно число r - значение поиска\n",
    "\n",
    "Выходные данные\n",
    "Ваша задача реализовать линейный алгоритм поиска введенного значения r. В случае успеха - выведите порядковый номер(индекс) первого найденного элемента в списке при условии, что индексация начинается с единицы. Если данный элемент отсутствует - необходимо вывести строку ErrorValue "
   ]
  },
  {
   "cell_type": "code",
   "execution_count": 12,
   "metadata": {},
   "outputs": [
    {
     "name": "stdout",
     "output_type": "stream",
     "text": [
      "4\n"
     ]
    }
   ],
   "source": [
    "s = [int(i) for i in input().split()]\n",
    "r = int(input())\n",
    "for i, j in enumerate(s, 1):\n",
    "    if j == r:\n",
    "        print(i)\n",
    "        break\n",
    "else:\n",
    "    print(\"ErrorValue\")"
   ]
  },
  {
   "cell_type": "code",
   "execution_count": 18,
   "metadata": {},
   "outputs": [
    {
     "name": "stdout",
     "output_type": "stream",
     "text": [
      "<enumerate object at 0x000001D74D26FEC0>\n",
      "{1: 8, 2: 11, 3: 45, 4: 32, 5: 543, 6: 65}\n"
     ]
    }
   ],
   "source": [
    "s = [int(i) for i in input().split()]\n",
    "print(enumerate(s,1))\n",
    "print(dict(enumerate(s,1)))"
   ]
  },
  {
   "cell_type": "markdown",
   "metadata": {},
   "source": [
    "Давайте на практике применим метод подсчета\n",
    "\n",
    "На вход вашей программе поступает положительное целое число n, а ваша задача вывести в порядке возрастания все цифры, которые встречались в этом числе, и напротив каждого также необходимо вывести сколько раз данная цифра встречалась в числе n"
   ]
  },
  {
   "cell_type": "code",
   "execution_count": 22,
   "metadata": {},
   "outputs": [
    {
     "name": "stdout",
     "output_type": "stream",
     "text": [
      "4 2\n",
      "5 2\n",
      "6 1\n"
     ]
    }
   ],
   "source": [
    "n = int(input())\n",
    "s = []\n",
    "while n:\n",
    "    x = n % 10\n",
    "    s.append(x)\n",
    "    n = n // 10\n",
    "w = [0] * (max(s) + 1)\n",
    "for i in s:\n",
    "    w[i] += 1\n",
    "for i , j in enumerate(w):\n",
    "    if j > 0:\n",
    "        print(i, j)"
   ]
  },
  {
   "cell_type": "code",
   "execution_count": 3,
   "metadata": {},
   "outputs": [
    {
     "name": "stdout",
     "output_type": "stream",
     "text": [
      "[4, 5, 6, 5, 4]\n"
     ]
    }
   ],
   "source": [
    "n = [int(i) for i in input()]\n",
    "print(n)"
   ]
  },
  {
   "cell_type": "markdown",
   "metadata": {},
   "source": [
    "редположим, вы переписываете у друга рецепты в блокнотик, но вам не нравится \"соль\". Переписывайте без этого слова.\n",
    "\n",
    "Формат ввода\n",
    "На первой строке вводится натуральное число N — количество пунктов рецепта.\n",
    "Далее следуют N строк — пункты рецепта.\n",
    "\n",
    "Формат вывода\n",
    "Одна строка — пункты рецепта, разделённые запятой и пробелом, без пунктов с упоминанием слова \"соль\" (то есть таких, в которых нет подстроки \"соль\" в нижнем регистре)."
   ]
  },
  {
   "cell_type": "code",
   "execution_count": 1,
   "metadata": {},
   "outputs": [
    {
     "name": "stdout",
     "output_type": "stream",
     "text": [
      "[] , [] , [] , [] ,\n"
     ]
    }
   ],
   "source": [
    "n = int(input())\n",
    "recept = []\n",
    "rec = ''\n",
    "for i in range(n):\n",
    "    items =[x for x in input().lower().split()]\n",
    "    if 'соль' not in items:\n",
    "        recept.append(items)\n",
    "        recept.append(',')\n",
    "        rec = rec + ' '.join(items) + ',' + ' '\n",
    "print(rec.rstrip(',  '))  "
   ]
  },
  {
   "cell_type": "code",
   "execution_count": null,
   "metadata": {},
   "outputs": [],
   "source": [
    "n = int(input())\n",
    "s = []\n",
    "for i in range(n):\n",
    "    ns = input()\n",
    "    if 'соль' not in ns:\n",
    "        s.append(ns)\n",
    "print(*s, sep=', ')\n",
    "    "
   ]
  },
  {
   "cell_type": "markdown",
   "metadata": {},
   "source": [
    "Как видно из названия задачи, вам необходимо отсортировать список, состоящий только из чисел в пределах от -100 до 100 включительно, сортировкой подсчетом.\n",
    "\n",
    "Программа получает на вход число n - количество элементов в списке, затем сами элементы списка\n",
    "\n",
    "Вам необходимо вывести отсортированный список\n",
    "\n",
    "P.S. не пользуйтесь встроенной функцией sorted или методом sort"
   ]
  },
  {
   "cell_type": "code",
   "execution_count": 33,
   "metadata": {},
   "outputs": [
    {
     "name": "stdout",
     "output_type": "stream",
     "text": [
      "2 7 8 8 9 "
     ]
    }
   ],
   "source": [
    "n = int(input())\n",
    "s = [int(i) for i in input().split()]\n",
    "w = [0] * 201\n",
    "x = []\n",
    "for i in s:\n",
    "    w[i] += 1\n",
    "for i in range(-100, 101):\n",
    "    if w[i] > 0: \n",
    "        print((str(i) + ' ') * int(w[i]) , end='')\n"
   ]
  },
  {
   "cell_type": "markdown",
   "metadata": {},
   "source": [
    "Напишите программу, которая находит рекордное количество вхождений (не обязательно подряд) символа в строку.\n",
    "\n",
    "Формат ввода\n",
    "Вводится одна строка.\n",
    "\n",
    "Формат вывода\n",
    "Выводится одно целое число — максимальное количество раз, которое встречается какая-либо буква (без учёта регистра) или иной символ во введённой строке."
   ]
  },
  {
   "cell_type": "code",
   "execution_count": null,
   "metadata": {},
   "outputs": [],
   "source": [
    "s = [i for i in input().lower()]\n",
    "max = 1\n",
    "for i in s:\n",
    "    if s.count(i) > max:\n",
    "        max = s.count(i)\n",
    "print(max)"
   ]
  },
  {
   "cell_type": "markdown",
   "metadata": {},
   "source": [
    "Найдите сумму всех четырехзначных чисел, сумма цифр каждого из которых равна 20."
   ]
  },
  {
   "cell_type": "code",
   "execution_count": 14,
   "metadata": {},
   "outputs": [
    {
     "name": "stdout",
     "output_type": "stream",
     "text": [
      "3489675\n"
     ]
    }
   ],
   "source": [
    "sum = 0\n",
    "for i in range(1000,10000):\n",
    "    s = 0\n",
    "    x = i\n",
    "    while x > 0:\n",
    "        n = x % 10\n",
    "        s += n\n",
    "        x //= 10\n",
    "    if s == 20:\n",
    "        sum += i\n",
    "print(sum)\n"
   ]
  },
  {
   "cell_type": "code",
   "execution_count": 12,
   "metadata": {},
   "outputs": [
    {
     "name": "stdout",
     "output_type": "stream",
     "text": [
      "3489675\n"
     ]
    }
   ],
   "source": [
    "total = 0\n",
    "for i in range(1000, 10000): # Создаем арифметическую прогрессию чисел от 1000 до 9999. range object\n",
    "    n = sum([int(x) for x in str(i)])# создаем список из цифр числа i и находим их сумму\n",
    "    if n == 20:# Если сумма цифр числа i равна 20\n",
    "        total += i# Тогда прибаляем это число i к переменной total\n",
    "print(total)"
   ]
  },
  {
   "cell_type": "markdown",
   "metadata": {},
   "source": [
    "В этой задаче вам предстоит построить лесенку из чисел. Программа принимает на вход целое положительное число n (n<=15) - количество уровней, ваша задача вывести n уровней, в каждом из которых стоят числа от 1 до значения уровня."
   ]
  },
  {
   "cell_type": "code",
   "execution_count": 15,
   "metadata": {},
   "outputs": [
    {
     "name": "stdout",
     "output_type": "stream",
     "text": [
      "1\n",
      "1 2\n"
     ]
    }
   ],
   "source": [
    "n = int(input())\n",
    "for i in range(1,n + 1):\n",
    "    print(*range(1, i + 1))\n",
    "        "
   ]
  },
  {
   "cell_type": "code",
   "execution_count": 22,
   "metadata": {},
   "outputs": [
    {
     "name": "stdout",
     "output_type": "stream",
     "text": [
      "0 1 2 3 4\n",
      "0 1 2 3 4\n",
      "0 1 2 3 4\n",
      "0 1 2 3 4\n",
      "0 1 2 3 4\n"
     ]
    }
   ],
   "source": [
    "x = [ x for x in range(5)]\n",
    "for i in x:\n",
    "    print(*x)"
   ]
  },
  {
   "cell_type": "markdown",
   "metadata": {},
   "source": [
    "Для делимости числа на 11 необходимо, чтобы разность между суммой цифр, стоящих на четных местах, и суммой цифр, стоящих на нечетных местах, делилась на 11.\n",
    "\n",
    "Требуется написать программу, которая проверит делимость заданного числа на 11.\n",
    "\n",
    "Входные данные\n",
    "Программа получает на вход одно натуральное число N, делимость которого надо проверить (1 ≤ N ≤ 1010000).\n",
    "\n",
    "Выходные данные\n",
    "Выведите “YES”, если число делится на 11, или “NO” иначе."
   ]
  },
  {
   "cell_type": "code",
   "execution_count": null,
   "metadata": {},
   "outputs": [],
   "source": [
    "n = [int(i) for i in input()] # создаем список из введенной строки(итерируемый объект) и каждый элемент строки преобразуем к тиру int(i)\n",
    "print('NO' if (sum(n[0::2])) - (sum(n[1::2])) % 11 else 'YES')"
   ]
  },
  {
   "cell_type": "markdown",
   "metadata": {},
   "source": [
    "а вход программе подается строка, состоящая из различных символов: буквы, цифры, знаки препинания и т.д.\n",
    "\n",
    "Ваша задача определить сколько символов в данной строке являются цифрами и также найти сумму всех этих цифр. Например, в строке \"Комната 1408\" содержится 4 цифры и их сумма равна 13.\n",
    "\n",
    "В качестве ответа необходимо через пробел вывести 2 числа - количество цифр в введенной строке и их сумму"
   ]
  },
  {
   "cell_type": "code",
   "execution_count": 3,
   "metadata": {},
   "outputs": [
    {
     "name": "stdout",
     "output_type": "stream",
     "text": [
      "2 4\n"
     ]
    }
   ],
   "source": [
    "a = [int(i) for i in input() if i.isdigit()]\n",
    "print(len(a),sum(a))"
   ]
  },
  {
   "cell_type": "code",
   "execution_count": 1,
   "metadata": {},
   "outputs": [
    {
     "name": "stdout",
     "output_type": "stream",
     "text": [
      "['C', 'a', 'l', 'o', 't', 'f', 'l', 'o', 'e', 'w', 'i', 't', 's']\n"
     ]
    }
   ],
   "source": [
    "st = 'Create a list of the first letters of every word in this string'\n",
    "s = [word[0] for word in st.split()]\n",
    "print(s)\n"
   ]
  },
  {
   "cell_type": "code",
   "execution_count": null,
   "metadata": {},
   "outputs": [],
   "source": []
  }
 ],
 "metadata": {
  "kernelspec": {
   "display_name": "Python 3.10.0 64-bit ('3.10.0')",
   "language": "python",
   "name": "python3"
  },
  "language_info": {
   "codemirror_mode": {
    "name": "ipython",
    "version": 3
   },
   "file_extension": ".py",
   "mimetype": "text/x-python",
   "name": "python",
   "nbconvert_exporter": "python",
   "pygments_lexer": "ipython3",
   "version": "3.10.0"
  },
  "orig_nbformat": 4,
  "vscode": {
   "interpreter": {
    "hash": "20c1fe21645debee36d8e4152e79d4beab4f5df091f9e21e355db43c9b84c467"
   }
  }
 },
 "nbformat": 4,
 "nbformat_minor": 2
}
