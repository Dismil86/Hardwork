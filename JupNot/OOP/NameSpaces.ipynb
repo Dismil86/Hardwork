{
 "cells": [
  {
   "cell_type": "markdown",
   "id": "5f3c8909-f761-41c8-ab4b-a3c0ccb3b0c0",
   "metadata": {},
   "source": [
    "Особенности:\n",
    "1) сначала поиск идет в локальном пространстве имен, максимально близко к использованию имени и далее идет снизу-вверх, \n",
    "изнутри-наружу к глобальному пространству имен\n",
    "\n",
    "2) после локального пространства имен интерпретатор посмотрит в enclosing, \n",
    "то есть в функцию, которая содержит текущую (если она есть) и далее проверит глобальное пространство имен\n",
    "\n",
    "3) последним шагом будут проверены имена в модуле builtins (встроенные функции)\n",
    "\n",
    "4) если на любом этапе имя найдено, то далее поиск не идет. Если все этапы неудачны то выбрасывается NameError\n",
    "\n",
    "5) важно понимать что даже если мы используем встроенную функцию, типа max/min/sum/print,\n",
    "то интерпретатор сначала проведет поиск по всем скоупам. Вот почему крайне важно НИКОГДА не давать своим переменным, \n",
    "функциям, модулям имена встроенных функций или библиотек (самые частые фейлы это имена типа len, list, sum, json, dict)"
   ]
  },
  {
   "cell_type": "code",
   "execution_count": 36,
   "id": "cb8f2ff0-8f6d-4f88-8c96-c42317652659",
   "metadata": {
    "tags": []
   },
   "outputs": [
    {
     "name": "stdout",
     "output_type": "stream",
     "text": [
      "после локального присваивания test spam\n",
      "после не локального присваивания nonlocal spam\n",
      "после глобального присваивания nonlocal spam\n",
      "в глобальной видимости global spam\n"
     ]
    }
   ],
   "source": [
    "def do_local():\n",
    "    \"\"\"\n",
    "    область видимости локальная, \n",
    "    тоесть только внутри функции\n",
    "    \"\"\"\n",
    "    spam = 'Я прописан в модуле'\n",
    "    print(spam)\n",
    "    #spam_do_module = \"я прописан в модуле\"\n",
    "\n",
    "def do_local2():\n",
    "    \"\"\"\n",
    "    область видимости локальная, \n",
    "    тоесть только внутри функции\n",
    "    \"\"\"\n",
    "    #spam = 'Я прописан в модуле'\n",
    "    spam_do_module = \"я прописан в модуле\"\n",
    "    return spam_do_module\n",
    "    \n",
    "def scope_test():\n",
    "    \n",
    "    def do_local():\n",
    "        spam = \"lacal spam\"# local переманная,видна только внутри этой функции\n",
    "        \n",
    "# Имена, перечисленные в nonlocalинструкции, в отличие от имен,\n",
    "# перечисленных в globalинструкции, \n",
    "# должны ссылаться на ранее существовавшие привязки во включающей области \n",
    "# (область, в которой должна быть создана новая привязка, \n",
    "# не может быть определена однозначно).  Ниже в функции scope_test осущуствилась привязка \"spam  = 'global spam'    \n",
    "    def do_nonlocal():\n",
    "        \"\"\" Оснавная задача инкапсулировать и \n",
    "            многократно проделывать код привязок\n",
    "        \"\"\"\n",
    "        nonlocal spam # прежде чем \n",
    "        spam = \"nonlocal spam\"\n",
    "        \n",
    "\n",
    "    def do_global():\n",
    "        global spam\n",
    "        spam = \"global spam\"\n",
    "        \n",
    "    spam = \"test spam\" # для функции scope_test это локальная переменная\n",
    "    \n",
    "    do_local()\n",
    "    print(\"после локального присваивания\", spam)\n",
    "    do_nonlocal()\n",
    "    print(\"после не локального присваивания\", spam)\n",
    "    do_global()\n",
    "    print(\"после глобального присваивания\", spam)\n",
    "    \n",
    "    \n",
    "scope_test()\n",
    "print(\"в глобальной видимости\", spam)\n"
   ]
  },
  {
   "cell_type": "code",
   "execution_count": null,
   "id": "3f767282-ff71-41ba-b1e6-af3d5ed1e6bc",
   "metadata": {},
   "outputs": [],
   "source": []
  },
  {
   "cell_type": "markdown",
   "id": "6a55d0b9-208e-40cf-b2f1-15299802e98c",
   "metadata": {},
   "source": [
    "local и nonlocal используются во вложенный функциях"
   ]
  },
  {
   "cell_type": "code",
   "execution_count": 33,
   "id": "17b2ef18-8c1f-482b-8296-788f03d1f0f4",
   "metadata": {},
   "outputs": [
    {
     "name": "stdout",
     "output_type": "stream",
     "text": [
      "Я прописан в модуле\n",
      "в модуле global spam\n"
     ]
    }
   ],
   "source": [
    "do_local()# Сначала отработала функция и принтанула переменную spam,созданную внутри функции\n",
    "print(\"в модуле\" ,spam)# spam ссылка на глобальную область имен\n"
   ]
  },
  {
   "cell_type": "code",
   "execution_count": 14,
   "id": "e5da8113-7ef3-40e2-a8c3-eccf11ecd655",
   "metadata": {},
   "outputs": [
    {
     "data": {
      "text/plain": [
       "'global spam'"
      ]
     },
     "execution_count": 14,
     "metadata": {},
     "output_type": "execute_result"
    }
   ],
   "source": [
    "spam # Здесь это глобальная переменная, на которую будут ссылаться во всем модуле"
   ]
  },
  {
   "cell_type": "code",
   "execution_count": 28,
   "id": "56292c08-decc-400a-843b-ce505751b574",
   "metadata": {},
   "outputs": [
    {
     "ename": "NameError",
     "evalue": "name 'spam_do_module' is not defined",
     "output_type": "error",
     "traceback": [
      "\u001b[1;31m---------------------------------------------------------------------------\u001b[0m",
      "\u001b[1;31mNameError\u001b[0m                                 Traceback (most recent call last)",
      "Input \u001b[1;32mIn [28]\u001b[0m, in \u001b[0;36m<cell line: 3>\u001b[1;34m()\u001b[0m\n\u001b[0;32m      1\u001b[0m do_local2()\n\u001b[0;32m      2\u001b[0m \u001b[38;5;66;03m# Изменим имя переменной на spam_do_module)\u001b[39;00m\n\u001b[1;32m----> 3\u001b[0m \u001b[38;5;28mprint\u001b[39m(\u001b[38;5;124m\"\u001b[39m\u001b[38;5;124mв модуле\u001b[39m\u001b[38;5;124m\"\u001b[39m ,\u001b[43mspam_do_module\u001b[49m)\n",
      "\u001b[1;31mNameError\u001b[0m: name 'spam_do_module' is not defined"
     ]
    }
   ],
   "source": [
    "do_local2()\n",
    "# Изменим имя переменной на spam_do_module)\n",
    "print(\"в модуле\" ,spam_do_module)\n"
   ]
  },
  {
   "cell_type": "code",
   "execution_count": 29,
   "id": "e61c16c9-0a52-4806-9844-21db01154da5",
   "metadata": {},
   "outputs": [
    {
     "data": {
      "text/plain": [
       "'я прописан в модуле'"
      ]
     },
     "execution_count": 29,
     "metadata": {},
     "output_type": "execute_result"
    }
   ],
   "source": [
    "do_local2()\n",
    "# Изменим имя переменной на spam_do_module\n",
    "\n",
    "\n"
   ]
  },
  {
   "cell_type": "markdown",
   "id": "579a001e-bd5c-47f5-b207-51963817b345",
   "metadata": {},
   "source": [
    "Вообще ни одна переменная, созданная внутри \n",
    "функции (в том числе и параметры), извне не доступна. Данная техника называется инкапсуляцией.\n",
    "\n",
    " Она помогает сохранить независимость отдельных фрагментов кода. Параметры и возвращаемые значения используются,\n",
    "чтобы передавать важную информацию и игнорировать все прочее. За \n",
    "значениями переменных, созданных внутри функции, не нужно следить во \n",
    "всем остальном коде, что очень удобно. И чем больше программа, тем более \n",
    "заметно это преимущество. "
   ]
  },
  {
   "cell_type": "markdown",
   "id": "c2fdff1b-4d79-4965-8746-b579e915d484",
   "metadata": {},
   "source": [
    "Инкапсуляция данных. Тоесть данные внутри функции закрыты от внешних объектов.\n",
    "Вообще ни одна переменная, созданная внутри \n",
    "функции (в том числе и параметры), извне не доступна."
   ]
  },
  {
   "cell_type": "code",
   "execution_count": 20,
   "id": "8908b90e-da3e-4dd4-8263-fd3eee03547c",
   "metadata": {},
   "outputs": [
    {
     "name": "stdout",
     "output_type": "stream",
     "text": [
      "enclosed\n"
     ]
    }
   ],
   "source": [
    "scope = 'global'\n",
    "\n",
    "def outside():\n",
    "    scope = 'enclosed'\n",
    "    #print(scope)\n",
    "\n",
    "    \n",
    "    def inside():\n",
    "        #scope = 'local'\n",
    "        print(scope)\n",
    "        \n",
    "    inside()\n",
    "    \n",
    "    \n",
    "\n",
    "outside()      \n",
    "\n",
    "        "
   ]
  },
  {
   "cell_type": "code",
   "execution_count": null,
   "id": "0687226e-2bb6-4a6b-8184-bb9bfc2aabed",
   "metadata": {},
   "outputs": [],
   "source": []
  }
 ],
 "metadata": {
  "kernelspec": {
   "display_name": "Python 3.10.0 64-bit ('3.10.0')",
   "language": "python",
   "name": "python3"
  },
  "language_info": {
   "codemirror_mode": {
    "name": "ipython",
    "version": 3
   },
   "file_extension": ".py",
   "mimetype": "text/x-python",
   "name": "python",
   "nbconvert_exporter": "python",
   "pygments_lexer": "ipython3",
   "version": "3.10.0"
  },
  "vscode": {
   "interpreter": {
    "hash": "20c1fe21645debee36d8e4152e79d4beab4f5df091f9e21e355db43c9b84c467"
   }
  }
 },
 "nbformat": 4,
 "nbformat_minor": 5
}
