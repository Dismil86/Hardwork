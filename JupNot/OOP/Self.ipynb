{
 "cells": [
  {
   "cell_type": "markdown",
   "id": "299cf366-c85a-43e4-a2df-2bc93f8d8b90",
   "metadata": {},
   "source": [
    "Цели понимания self:\n",
    "Должны происходить вещи:\n",
    "\n",
    " -Моментальное считывание.\n",
    "\n",
    "- Найти могу.\n",
    "\n",
    "- Понимание что такое self?\n",
    "\n",
    "- Зачем self вообще?\n",
    "\n",
    "- Принципы использования в коде.\n",
    "\n",
    "Self указывает на область пямяти. Для класса нет области памяти в начале. При создании нового класса создается пространство имен. Self нам дает возможность в том числе и разместить метод в область пямяти этого класса,автоматически."
   ]
  },
  {
   "cell_type": "markdown",
   "id": "9f21dc6f",
   "metadata": {},
   "source": []
  }
 ],
 "metadata": {
  "kernelspec": {
   "display_name": "Python 3 (ipykernel)",
   "language": "python",
   "name": "python3"
  },
  "language_info": {
   "codemirror_mode": {
    "name": "ipython",
    "version": 3
   },
   "file_extension": ".py",
   "mimetype": "text/x-python",
   "name": "python",
   "nbconvert_exporter": "python",
   "pygments_lexer": "ipython3",
   "version": "3.10.0"
  },
  "vscode": {
   "interpreter": {
    "hash": "60320100e61b6abca5e8fa8813d7fca326eec3cbf4dd3d414f82d819f5069e7b"
   }
  }
 },
 "nbformat": 4,
 "nbformat_minor": 5
}
