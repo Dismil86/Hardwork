{
 "cells": [
  {
   "cell_type": "markdown",
   "id": "45c5d1e7-876a-42e7-a878-6dfdf30c1997",
   "metadata": {
    "tags": []
   },
   "source": [
    "###Оператор ```global``` представляет собой объявление, которое выполняется для всего текущего блока кода. Это означает, \n",
    "\n",
    "###что перечисленные идентификаторы должны интерпретироваться как глобальные. \n",
    "\n",
    "###Было бы невозможно присвоить глобальной переменной без global, \n",
    "\n",
    "###хотя свободные переменные могут ссылаться на глобальные переменные, не будучи объявленными глобальными.\n",
    "\n",
    "###Имена, перечисленные в globalинструкции, не должны использоваться в том же блоке кода, \n",
    "\n",
    "###текстуально предшествующем этой globalинструкции.\n",
    "\n",
    "###Имена, перечисленные в globalинструкции, не должны определяться как формальные параметры или \n",
    "\n",
    "###как цели в withоператорах или exceptпредложениях, или в списке forцелей, c\n",
    "\n",
    "###lassопределении, определении функции, importинструкции или аннотации переменной.   "
   ]
  },
  {
   "cell_type": "code",
   "execution_count": 4,
   "id": "38211adf-6fd7-4742-8552-14197970c8d5",
   "metadata": {},
   "outputs": [
    {
     "name": "stdout",
     "output_type": "stream",
     "text": [
      "после локального присваивания test spam\n",
      "после не локального присваивания nonlocal spam\n",
      "после глобального присваивания nonlocal spam\n",
      "в глобальной видимости global spam\n"
     ]
    }
   ],
   "source": [
    "def scope_test():\n",
    "    \n",
    "    def do_local():\n",
    "        spam = \"lacal spam\"\n",
    "        \n",
    "        \n",
    "    def do_nonlocal():\n",
    "        nonlocal spam\n",
    "        spam = \"nonlocal spam\"\n",
    "        \n",
    "    def do_global():\n",
    "        global spam\n",
    "        spam = \"global spam\"\n",
    "        \n",
    "    spam = \"test spam\" \n",
    "    \n",
    "    do_local()\n",
    "    print(\"после локального присваивания\", spam)\n",
    "    do_nonlocal()\n",
    "    print(\"после не локального присваивания\", spam)\n",
    "    do_global()\n",
    "    print(\"после глобального присваивания\", spam)\n",
    "    \n",
    "    \n",
    "scope_test()\n",
    "print(\"в глобальной видимости\", spam)"
   ]
  },
  {
   "cell_type": "code",
   "execution_count": 5,
   "id": "5ed8b9e4-8eb7-4a93-8391-2e3b047ed12b",
   "metadata": {},
   "outputs": [
    {
     "data": {
      "text/plain": [
       "'global spam'"
      ]
     },
     "execution_count": 5,
     "metadata": {},
     "output_type": "execute_result"
    }
   ],
   "source": [
    "spam"
   ]
  },
  {
   "cell_type": "code",
   "execution_count": 6,
   "id": "28802a01-258d-48c0-a091-defec4175068",
   "metadata": {},
   "outputs": [
    {
     "data": {
      "text/plain": [
       "'g'"
      ]
     },
     "execution_count": 6,
     "metadata": {},
     "output_type": "execute_result"
    }
   ],
   "source": [
    "spam[0]"
   ]
  },
  {
   "cell_type": "code",
   "execution_count": 30,
   "id": "8aff3985-e5d6-4388-b183-d146eec704d8",
   "metadata": {},
   "outputs": [],
   "source": [
    "global_scope1 = [\"Яблоки\"]\n",
    "\n",
    "def listfun():\n",
    "    global global_scope1\n",
    "    global_scope1 = ['Огурцы','Помидоры']\n",
    "    return global_scope1"
   ]
  },
  {
   "cell_type": "code",
   "execution_count": 17,
   "id": "c001e02e-6914-456e-ba7c-2056e08818c3",
   "metadata": {},
   "outputs": [
    {
     "name": "stdout",
     "output_type": "stream",
     "text": [
      "вызвали функцию <function listfun at 0x00000166A85E7310>\n",
      "Пытались вызвать переменную ['Огурцы', 'Помидоры']\n"
     ]
    }
   ],
   "source": [
    "listfun()\n",
    "print(\"вызвали функцию\", listfun)\n",
    "print(\"Пытались вызвать переменную\",global_scope1)"
   ]
  },
  {
   "cell_type": "code",
   "execution_count": 18,
   "id": "7616c3d2-4902-428c-b0fe-d5a5d2bd998f",
   "metadata": {},
   "outputs": [
    {
     "name": "stdout",
     "output_type": "stream",
     "text": [
      "Пытались вызвать переменную ['Огурцы', 'Помидоры']\n",
      "вызвали функцию <function listfun at 0x00000166A85E7310>\n"
     ]
    }
   ],
   "source": [
    "print(\"Пытались вызвать переменную\",global_scope1)\n",
    "listfun()\n",
    "print(\"вызвали функцию\", listfun)\n"
   ]
  },
  {
   "cell_type": "code",
   "execution_count": 43,
   "id": "8a9c879c-a474-4438-ad68-e790fd36a4a4",
   "metadata": {},
   "outputs": [],
   "source": [
    "# закомментируем строку глобальной переменной\n",
    "global_scope1 = [\"Яблоки\"]\n",
    "\n",
    "def listfun():\n",
    "    #global global_scope1\n",
    "    global_scope1 = ['Огурцы','Помидоры']\n",
    "    return global_scope1"
   ]
  },
  {
   "cell_type": "code",
   "execution_count": 34,
   "id": "4f771e9c-6e2a-4995-a900-73f4a10a3428",
   "metadata": {},
   "outputs": [
    {
     "name": "stdout",
     "output_type": "stream",
     "text": [
      "Пытались вызвать переменную ['Яблоки']\n",
      "вызвали функцию ['Огурцы', 'Помидоры']\n"
     ]
    }
   ],
   "source": [
    "print(\"Пытались вызвать переменную\",global_scope1)\n",
    "listfun()\n",
    "print(\"вызвали функцию\", listfun())"
   ]
  },
  {
   "cell_type": "code",
   "execution_count": 41,
   "id": "f588f0a6-efde-4cc1-9845-288c6abe9501",
   "metadata": {},
   "outputs": [],
   "source": [
    "# раскомментируем строку глобальной переменной\n",
    "global_scope2 = [\"Яблоки\"]\n",
    "\n",
    "def listfun():\n",
    "    global global_scope2\n",
    "    global_scope2 = ['Огурцы','Помидоры']\n",
    "    return global_scope1"
   ]
  },
  {
   "cell_type": "code",
   "execution_count": 46,
   "id": "dacfc00f-00f1-4b1b-b75f-126fee8db553",
   "metadata": {},
   "outputs": [
    {
     "name": "stdout",
     "output_type": "stream",
     "text": [
      "['Дыня', 'Дыня', 'Дыня', 'Дыня', 'Огурцы', 'Помидоры']\n"
     ]
    }
   ],
   "source": [
    "listfun()\n",
    "global_scope2.insert(0,'Дыня')\n",
    "print(global_scope2)"
   ]
  },
  {
   "cell_type": "code",
   "execution_count": 48,
   "id": "facde57f-810b-4a89-ba2c-ae67279e93d0",
   "metadata": {},
   "outputs": [],
   "source": [
    "mainstr = 'b'"
   ]
  },
  {
   "cell_type": "code",
   "execution_count": 49,
   "id": "a07922ce-ffee-41ae-bced-340d2ccc029c",
   "metadata": {},
   "outputs": [],
   "source": [
    "def funstr():\n",
    "    m = 'a' + mainstr\n",
    "    return m"
   ]
  },
  {
   "cell_type": "code",
   "execution_count": 50,
   "id": "302f6b97-a1eb-42d5-bb29-dbb12780c06f",
   "metadata": {},
   "outputs": [
    {
     "data": {
      "text/plain": [
       "'ab'"
      ]
     },
     "execution_count": 50,
     "metadata": {},
     "output_type": "execute_result"
    }
   ],
   "source": [
    "funstr()"
   ]
  },
  {
   "cell_type": "code",
   "execution_count": 52,
   "id": "10db96b7-8b00-4a55-a8f7-f20f932b9501",
   "metadata": {},
   "outputs": [
    {
     "ename": "NameError",
     "evalue": "name 'm' is not defined",
     "output_type": "error",
     "traceback": [
      "\u001b[1;31m---------------------------------------------------------------------------\u001b[0m",
      "\u001b[1;31mNameError\u001b[0m                                 Traceback (most recent call last)",
      "Input \u001b[1;32mIn [52]\u001b[0m, in \u001b[0;36m<cell line: 1>\u001b[1;34m()\u001b[0m\n\u001b[1;32m----> 1\u001b[0m \u001b[43mm\u001b[49m\n",
      "\u001b[1;31mNameError\u001b[0m: name 'm' is not defined"
     ]
    }
   ],
   "source": [
    "m"
   ]
  },
  {
   "cell_type": "code",
   "execution_count": 57,
   "id": "13dcfe03-7049-4b16-a49a-5d1d5ec13b19",
   "metadata": {},
   "outputs": [],
   "source": [
    "def funstr1():\n",
    "    mainstr1 = 'b'\n",
    "    m = 'a' + mainstr1\n",
    "    return m"
   ]
  },
  {
   "cell_type": "code",
   "execution_count": 58,
   "id": "04386af0-2775-423e-b59f-c53404119a9a",
   "metadata": {},
   "outputs": [
    {
     "data": {
      "text/plain": [
       "'ab'"
      ]
     },
     "execution_count": 58,
     "metadata": {},
     "output_type": "execute_result"
    }
   ],
   "source": [
    "funstr1()"
   ]
  },
  {
   "cell_type": "code",
   "execution_count": 61,
   "id": "ac139e51-dba1-4a60-ba75-85b441cc254d",
   "metadata": {},
   "outputs": [
    {
     "ename": "NameError",
     "evalue": "name 'mainstr1' is not defined",
     "output_type": "error",
     "traceback": [
      "\u001b[1;31m---------------------------------------------------------------------------\u001b[0m",
      "\u001b[1;31mNameError\u001b[0m                                 Traceback (most recent call last)",
      "Input \u001b[1;32mIn [61]\u001b[0m, in \u001b[0;36m<cell line: 1>\u001b[1;34m()\u001b[0m\n\u001b[1;32m----> 1\u001b[0m \u001b[43mmainstr1\u001b[49m\n",
      "\u001b[1;31mNameError\u001b[0m: name 'mainstr1' is not defined"
     ]
    }
   ],
   "source": [
    " mainstr1"
   ]
  },
  {
   "cell_type": "code",
   "execution_count": null,
   "id": "3f786de1-63e3-4c47-8bcf-130c820b5b99",
   "metadata": {},
   "outputs": [],
   "source": []
  }
 ],
 "metadata": {
  "kernelspec": {
   "display_name": "Python 3 (ipykernel)",
   "language": "python",
   "name": "python3"
  },
  "language_info": {
   "codemirror_mode": {
    "name": "ipython",
    "version": 3
   },
   "file_extension": ".py",
   "mimetype": "text/x-python",
   "name": "python",
   "nbconvert_exporter": "python",
   "pygments_lexer": "ipython3",
   "version": "3.9.13"
  }
 },
 "nbformat": 4,
 "nbformat_minor": 5
}
