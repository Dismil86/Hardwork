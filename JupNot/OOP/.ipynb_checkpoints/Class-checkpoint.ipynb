{
 "cells": [
  {
   "cell_type": "markdown",
   "id": "289abf8f-e006-404a-bf4e-dfefc408c9bc",
   "metadata": {
    "tags": []
   },
   "source": [
    "В первую очередь классы это объекты и все что в классе происходит это тоже объекты. А если объект значит он имеет место в памяти. Значит мы можем его вызвать, изменить и так далее.\n",
    "\n",
    "Что такое класс?\n",
    "\n",
    "Класс - это особый тип объекта, созданный при выполнении оператора класса. Объекты классов используются в качестве шаблонов для создания объектов экземпляров, которые воплощают как данные (атрибуты), так и код (методы), специфичные для типа данных.\n",
    "\n",
    "Класс может быть основан на одном или нескольких других классах, называемых его базовыми классами. Затем он наследует атрибуты и методы своих базовых классов. Это позволяет последовательно уточнять объектную модель путем наследования. У вас может быть общий Mailbox класс, который предоставляет базовые методы доступа для почтового ящика и подклассы, такие как MboxMailbox, MaildirMailbox, OutlookMailbox которые обрабатывают различные специфические форматы почтовых ящиков. Что такое метод?\n",
    "\n",
    "Метод - это функция некоторого объекта x что вы обычно называете как x.name(arguments...). Методы определяются как функции внутри определения класса:\n",
    "\n",
    "class C: def meth(self, arg): return arg * 2 + self.attribute\n",
    "\n",
    "Что такое self?\n",
    "\n",
    "Self - это просто условное имя для первого аргумента метода. Метод, определенный как meth(self, a, b, c) следует называть как x.meth(a, b, c) для некоторых случаев xкласса, в котором происходит определение; вызываемый метод будет думать, что он вызван как meth(x, a, b, c).\n",
    "\n",
    "Атрибут — это характеристика типа или его членов (или других конструкций языка), которая содержит описательную информацию. Хотя наиболее распространенные атрибуты предопределены и имеют определенный формат в метаданных, пользовательские атрибуты также могут быть добавлены к метаданным.\n",
    "\n",
    "Класс - это некий шаблон, который предоставляет абстрактный вид любого объекта. Объект или Экземпляр класса - это уже конкретная сущность которая сделана по шаблону класса.\n",
    "\n",
    "Как переадётся информация в классе? Объекты-классы Объекты-классы поддерживают два вида операций: ссылки на атрибуты и создание экземпляра.\n",
    "\n",
    "Класс - это некий шаблон, который предоставляет абстрактный вид любого объекта. Объект или Экземпляр класса - это уже конкретная сущность которая сделана по шаблону класса.\n",
    "\n",
    "Атрибуты класса делятся среди всех объектов класса, в то время как атрибуты экземпляров являются собственностью экземпляра.\n",
    "Помните, что экземпляр — это просто альтернативное название объекта.\n",
    "\n",
    "Атрибуты экземпляра объявляются внутри любого метода, в то время как атрибуты класса объявляются вне любого метода."
   ]
  },
  {
   "cell_type": "markdown",
   "id": "888820f0-a674-47c6-97fb-f2213d511979",
   "metadata": {
    "jupyter": {
     "outputs_hidden": true
    },
    "tags": []
   },
   "source": [
    "class ClassName:\n",
    "    <statament-1>\n",
    "    \n",
    "    \n",
    "    <statement-n>\n",
    "     "
   ]
  },
  {
   "cell_type": "code",
   "execution_count": 1,
   "id": "43480cf3-2ff8-4ad3-964e-986336472d3a",
   "metadata": {},
   "outputs": [],
   "source": [
    "class MyClass:\n",
    "    \"\"\"A simple example class\"\"\"\n",
    "    i = 12345\n",
    "    def f(self):\n",
    "        return 'hello world'"
   ]
  },
  {
   "cell_type": "code",
   "execution_count": 2,
   "id": "2eefbf05-412e-4bc8-97a5-fd9316458757",
   "metadata": {},
   "outputs": [
    {
     "data": {
      "text/plain": [
       "12345"
      ]
     },
     "execution_count": 2,
     "metadata": {},
     "output_type": "execute_result"
    }
   ],
   "source": [
    "MyClass.i"
   ]
  },
  {
   "cell_type": "code",
   "execution_count": 3,
   "id": "f6bda256-691c-4990-8ea0-2802efd70494",
   "metadata": {},
   "outputs": [
    {
     "data": {
      "text/plain": [
       "<function int.__dir__()>"
      ]
     },
     "execution_count": 3,
     "metadata": {},
     "output_type": "execute_result"
    }
   ],
   "source": [
    "MyClass.i.__dir__"
   ]
  },
  {
   "cell_type": "code",
   "execution_count": 4,
   "id": "ffb60adb-b390-44de-8cdd-e8d38d9e3de6",
   "metadata": {
    "collapsed": true,
    "jupyter": {
     "outputs_hidden": true
    },
    "tags": []
   },
   "outputs": [
    {
     "data": {
      "text/plain": [
       "['__class__',\n",
       " '__delattr__',\n",
       " '__dict__',\n",
       " '__dir__',\n",
       " '__doc__',\n",
       " '__eq__',\n",
       " '__format__',\n",
       " '__ge__',\n",
       " '__getattribute__',\n",
       " '__gt__',\n",
       " '__hash__',\n",
       " '__init__',\n",
       " '__init_subclass__',\n",
       " '__le__',\n",
       " '__lt__',\n",
       " '__module__',\n",
       " '__ne__',\n",
       " '__new__',\n",
       " '__reduce__',\n",
       " '__reduce_ex__',\n",
       " '__repr__',\n",
       " '__setattr__',\n",
       " '__sizeof__',\n",
       " '__str__',\n",
       " '__subclasshook__',\n",
       " '__weakref__',\n",
       " 'f',\n",
       " 'i']"
      ]
     },
     "execution_count": 4,
     "metadata": {},
     "output_type": "execute_result"
    }
   ],
   "source": [
    "dir(MyClass)"
   ]
  },
  {
   "cell_type": "code",
   "execution_count": 5,
   "id": "13f03b37-7df8-436a-9cb3-b0f3f28c3e0f",
   "metadata": {
    "collapsed": true,
    "jupyter": {
     "outputs_hidden": true
    },
    "tags": []
   },
   "outputs": [
    {
     "data": {
      "text/plain": [
       "['__abs__',\n",
       " '__add__',\n",
       " '__and__',\n",
       " '__bool__',\n",
       " '__ceil__',\n",
       " '__class__',\n",
       " '__delattr__',\n",
       " '__dir__',\n",
       " '__divmod__',\n",
       " '__doc__',\n",
       " '__eq__',\n",
       " '__float__',\n",
       " '__floor__',\n",
       " '__floordiv__',\n",
       " '__format__',\n",
       " '__ge__',\n",
       " '__getattribute__',\n",
       " '__getnewargs__',\n",
       " '__gt__',\n",
       " '__hash__',\n",
       " '__index__',\n",
       " '__init__',\n",
       " '__init_subclass__',\n",
       " '__int__',\n",
       " '__invert__',\n",
       " '__le__',\n",
       " '__lshift__',\n",
       " '__lt__',\n",
       " '__mod__',\n",
       " '__mul__',\n",
       " '__ne__',\n",
       " '__neg__',\n",
       " '__new__',\n",
       " '__or__',\n",
       " '__pos__',\n",
       " '__pow__',\n",
       " '__radd__',\n",
       " '__rand__',\n",
       " '__rdivmod__',\n",
       " '__reduce__',\n",
       " '__reduce_ex__',\n",
       " '__repr__',\n",
       " '__rfloordiv__',\n",
       " '__rlshift__',\n",
       " '__rmod__',\n",
       " '__rmul__',\n",
       " '__ror__',\n",
       " '__round__',\n",
       " '__rpow__',\n",
       " '__rrshift__',\n",
       " '__rshift__',\n",
       " '__rsub__',\n",
       " '__rtruediv__',\n",
       " '__rxor__',\n",
       " '__setattr__',\n",
       " '__sizeof__',\n",
       " '__str__',\n",
       " '__sub__',\n",
       " '__subclasshook__',\n",
       " '__truediv__',\n",
       " '__trunc__',\n",
       " '__xor__',\n",
       " 'as_integer_ratio',\n",
       " 'bit_length',\n",
       " 'conjugate',\n",
       " 'denominator',\n",
       " 'from_bytes',\n",
       " 'imag',\n",
       " 'numerator',\n",
       " 'real',\n",
       " 'to_bytes']"
      ]
     },
     "execution_count": 5,
     "metadata": {},
     "output_type": "execute_result"
    }
   ],
   "source": [
    "dir(MyClass.i)"
   ]
  },
  {
   "cell_type": "code",
   "execution_count": 6,
   "id": "77c6e573-1c9d-47ba-a91a-877e00330f8e",
   "metadata": {},
   "outputs": [
    {
     "data": {
      "text/plain": [
       "<method-wrapper '__setattr__' of int object at 0x000001B5B43AA810>"
      ]
     },
     "execution_count": 6,
     "metadata": {},
     "output_type": "execute_result"
    }
   ],
   "source": [
    "#Метод атрибута,который показывает ссылку на этот атрибут в памяти \n",
    "MyClass.i.__setattr__"
   ]
  },
  {
   "cell_type": "code",
   "execution_count": 7,
   "id": "7bbb1eaf-4a06-4388-beaa-37ec6bf92f93",
   "metadata": {},
   "outputs": [
    {
     "data": {
      "text/plain": [
       "'A simple example class'"
      ]
     },
     "execution_count": 7,
     "metadata": {},
     "output_type": "execute_result"
    }
   ],
   "source": [
    "#object\n",
    "MyClass.__doc__"
   ]
  },
  {
   "cell_type": "code",
   "execution_count": 8,
   "id": "ae7875d8-4e46-4b92-977d-3624304afc45",
   "metadata": {},
   "outputs": [],
   "source": [
    "#Экземпляр класса\n",
    "#ССылка на атрибуты и создание экземпляра.\n",
    "\"\"\"\n",
    "class MyClass:\n",
    "    A simple example class\n",
    "    i = 12345\n",
    "    def f(self):\n",
    "        return 'hello world'\n",
    "\"\"\"\n",
    "x = MyClass()"
   ]
  },
  {
   "cell_type": "code",
   "execution_count": 9,
   "id": "7f265de3-72f8-4699-8d86-96777348e3f5",
   "metadata": {},
   "outputs": [
    {
     "data": {
      "text/plain": [
       "'hello world'"
      ]
     },
     "execution_count": 9,
     "metadata": {},
     "output_type": "execute_result"
    }
   ],
   "source": [
    "x.f()"
   ]
  },
  {
   "cell_type": "code",
   "execution_count": 10,
   "id": "d8bf6451-33cf-4626-ace6-9a91265c3f88",
   "metadata": {},
   "outputs": [
    {
     "data": {
      "text/plain": [
       "12345"
      ]
     },
     "execution_count": 10,
     "metadata": {},
     "output_type": "execute_result"
    }
   ],
   "source": [
    "x.i"
   ]
  },
  {
   "cell_type": "code",
   "execution_count": 11,
   "id": "14c1ea89-ea56-4515-a19a-6ea98de6af12",
   "metadata": {
    "collapsed": true,
    "jupyter": {
     "outputs_hidden": true
    },
    "tags": []
   },
   "outputs": [
    {
     "data": {
      "text/plain": [
       "['__class__',\n",
       " '__delattr__',\n",
       " '__dict__',\n",
       " '__dir__',\n",
       " '__doc__',\n",
       " '__eq__',\n",
       " '__format__',\n",
       " '__ge__',\n",
       " '__getattribute__',\n",
       " '__gt__',\n",
       " '__hash__',\n",
       " '__init__',\n",
       " '__init_subclass__',\n",
       " '__le__',\n",
       " '__lt__',\n",
       " '__module__',\n",
       " '__ne__',\n",
       " '__new__',\n",
       " '__reduce__',\n",
       " '__reduce_ex__',\n",
       " '__repr__',\n",
       " '__setattr__',\n",
       " '__sizeof__',\n",
       " '__str__',\n",
       " '__subclasshook__',\n",
       " '__weakref__',\n",
       " 'f',\n",
       " 'i']"
      ]
     },
     "execution_count": 11,
     "metadata": {},
     "output_type": "execute_result"
    }
   ],
   "source": [
    "dir(x)"
   ]
  },
  {
   "cell_type": "code",
   "execution_count": 12,
   "id": "7145baaa-710a-4cdf-82e4-5c1b2b6cb732",
   "metadata": {},
   "outputs": [
    {
     "data": {
      "text/plain": [
       "<method-wrapper '__getattribute__' of int object at 0x000001B5B43AA810>"
      ]
     },
     "execution_count": 12,
     "metadata": {},
     "output_type": "execute_result"
    }
   ],
   "source": [
    "x.i.__getattribute__"
   ]
  },
  {
   "cell_type": "markdown",
   "id": "46cb0325-4688-45de-937a-fdbf27033082",
   "metadata": {},
   "source": [
    "Атрибуты класса делятся среди всех объектов класса, в то время как атрибуты экземпляров являются собственностью экземпляра.\n",
    "Помните, что экземпляр — это просто альтернативное название объекта.\n",
    "\n",
    "Атрибуты экземпляра объявляются внутри любого метода, в то время как атрибуты класса объявляются вне любого метода.\n",
    "etattr() - возвращает значенце атрибута по его названию, которое ука\u0002зывается в виде строки\n",
    "• setattr() - устанавливает значение атрибута. Название атрибута задает\u0002ся в виде строки\n",
    "• delattr() - удаляет атрибут, название, как обычно, задается в виде строки\n",
    "• hasattr() - проверяет наличие указанного атрибута. Если атрибут суще\u0002ствует, возвращается Trne"
   ]
  },
  {
   "cell_type": "code",
   "execution_count": 13,
   "id": "938b4735-09a9-4a29-9d5b-5c0fdde24bbc",
   "metadata": {},
   "outputs": [
    {
     "data": {
      "text/plain": [
       "12345"
      ]
     },
     "execution_count": 13,
     "metadata": {},
     "output_type": "execute_result"
    }
   ],
   "source": [
    "getattr(x, \"i\")"
   ]
  },
  {
   "cell_type": "code",
   "execution_count": 14,
   "id": "7dc7c17a-5e70-495c-8534-f834cea0c734",
   "metadata": {},
   "outputs": [
    {
     "data": {
      "text/plain": [
       "True"
      ]
     },
     "execution_count": 14,
     "metadata": {},
     "output_type": "execute_result"
    }
   ],
   "source": [
    "hasattr(x,\"i\")"
   ]
  },
  {
   "cell_type": "code",
   "execution_count": 15,
   "id": "ec8b69e4-4168-4937-9ef9-5c4606e8ea99",
   "metadata": {},
   "outputs": [],
   "source": [
    "setattr(x,\"name\",\"Dima\")"
   ]
  },
  {
   "cell_type": "code",
   "execution_count": 16,
   "id": "b3f1e9b3-00cd-489a-9661-f7952eac3a7a",
   "metadata": {},
   "outputs": [
    {
     "data": {
      "text/plain": [
       "'Dima'"
      ]
     },
     "execution_count": 16,
     "metadata": {},
     "output_type": "execute_result"
    }
   ],
   "source": [
    "getattr(x,\"name\")"
   ]
  },
  {
   "cell_type": "code",
   "execution_count": 17,
   "id": "d8b2ab06-a339-4272-a944-c1af8b705cac",
   "metadata": {
    "collapsed": true,
    "jupyter": {
     "outputs_hidden": true
    },
    "tags": []
   },
   "outputs": [
    {
     "name": "stdout",
     "output_type": "stream",
     "text": [
      "Help on MyClass in module __main__ object:\n",
      "\n",
      "class MyClass(builtins.object)\n",
      " |  A simple example class\n",
      " |  \n",
      " |  Methods defined here:\n",
      " |  \n",
      " |  f(self)\n",
      " |  \n",
      " |  ----------------------------------------------------------------------\n",
      " |  Data descriptors defined here:\n",
      " |  \n",
      " |  __dict__\n",
      " |      dictionary for instance variables (if defined)\n",
      " |  \n",
      " |  __weakref__\n",
      " |      list of weak references to the object (if defined)\n",
      " |  \n",
      " |  ----------------------------------------------------------------------\n",
      " |  Data and other attributes defined here:\n",
      " |  \n",
      " |  i = 12345\n",
      "\n"
     ]
    }
   ],
   "source": [
    "help(x)"
   ]
  },
  {
   "cell_type": "markdown",
   "id": "249d61f5-8d21-42c3-87fe-eb6244cf3b5d",
   "metadata": {},
   "source": [
    "1 коротко повторим\n",
    "\n",
    "2 Рассмотрим __init__ в примере на сайте.\n",
    "\n",
    "3 Принципиальную работу__init__ и __new__\n",
    "\n",
    "3а. Новые классы.\n",
    "\n",
    "4 Расширим,проработаем методы"
   ]
  },
  {
   "cell_type": "code",
   "execution_count": 27,
   "id": "c8949f4a-9901-4a8c-b8ee-e0506bf3bb96",
   "metadata": {},
   "outputs": [],
   "source": [
    "class MainClass:\n",
    "    var = \"variable\"\n",
    "     \n",
    "    def method2(self):\n",
    "        var = 7\n",
    "        return var\n",
    "#Объекты-классов поддерживают два вида операций:\n",
    "#Ccылки на атрибуты и создание экземпляра"
   ]
  },
  {
   "cell_type": "markdown",
   "id": "03ab5d23-7250-4bde-b071-8c2a8a3f2943",
   "metadata": {},
   "source": [
    "При вводе определения класса создаётся новое пространство\n",
    "\n",
    "имён, которое и используется в качестве локальной \n",
    "\n",
    "области видимости. Таким образом, все присваивания \n",
    "\n",
    "локальным переменным происходят в этом новом \n",
    "\n",
    "пространстве имён. В частности, определения \n",
    "\n",
    "функций связываются здесь с именами новых функций."
   ]
  },
  {
   "cell_type": "code",
   "execution_count": 28,
   "id": "3e79dc4c-d62c-46ff-8842-41568ee60016",
   "metadata": {},
   "outputs": [],
   "source": [
    "mainclass2 = MainClass()\n"
   ]
  },
  {
   "cell_type": "code",
   "execution_count": 29,
   "id": "d0a9a9ba-f042-48f9-a1dd-f74e1768b971",
   "metadata": {},
   "outputs": [
    {
     "ename": "NameError",
     "evalue": "name 'method2' is not defined",
     "output_type": "error",
     "traceback": [
      "\u001b[1;31m---------------------------------------------------------------------------\u001b[0m",
      "\u001b[1;31mNameError\u001b[0m                                 Traceback (most recent call last)",
      "Input \u001b[1;32mIn [29]\u001b[0m, in \u001b[0;36m<cell line: 1>\u001b[1;34m()\u001b[0m\n\u001b[1;32m----> 1\u001b[0m \u001b[43mmethod2\u001b[49m()\n",
      "\u001b[1;31mNameError\u001b[0m: name 'method2' is not defined"
     ]
    }
   ],
   "source": [
    "method2() "
   ]
  },
  {
   "cell_type": "code",
   "execution_count": 30,
   "id": "83a2b9f3-8f06-430d-8b32-89cfb39fd26c",
   "metadata": {},
   "outputs": [],
   "source": [
    "\"\"\"Атрибуты - Значение, связанное с объектом, на который ссылаются по имени, \n",
    "используя точечные выражения. Например, если объект о имеет атрибут а,\n",
    "то на него будет сделана ссылка как o.a.\n",
    "\"\"\"\n",
    "class MainClass:\n",
    "    var = \"variable\"\n",
    "     \n",
    "    def method2(self):\n",
    "        var = 7\n",
    "        return var"
   ]
  },
  {
   "cell_type": "code",
   "execution_count": 31,
   "id": "39ac8e42-8a48-41b2-b430-5b5a627f9fa7",
   "metadata": {},
   "outputs": [
    {
     "ename": "TypeError",
     "evalue": "method2() missing 1 required positional argument: 'self'",
     "output_type": "error",
     "traceback": [
      "\u001b[1;31m---------------------------------------------------------------------------\u001b[0m",
      "\u001b[1;31mTypeError\u001b[0m                                 Traceback (most recent call last)",
      "Input \u001b[1;32mIn [31]\u001b[0m, in \u001b[0;36m<cell line: 2>\u001b[1;34m()\u001b[0m\n\u001b[0;32m      1\u001b[0m MainClass\u001b[38;5;241m.\u001b[39mvar\n\u001b[1;32m----> 2\u001b[0m \u001b[43mMainClass\u001b[49m\u001b[38;5;241;43m.\u001b[39;49m\u001b[43mmethod2\u001b[49m\u001b[43m(\u001b[49m\u001b[43m)\u001b[49m\n",
      "\u001b[1;31mTypeError\u001b[0m: method2() missing 1 required positional argument: 'self'"
     ]
    }
   ],
   "source": [
    "MainClass.var\n",
    "MainClass.method2()"
   ]
  },
  {
   "cell_type": "code",
   "execution_count": 33,
   "id": "1b55647b-0b33-40b3-b7e6-e825405c3c1a",
   "metadata": {},
   "outputs": [
    {
     "data": {
      "text/plain": [
       "7"
      ]
     },
     "execution_count": 33,
     "metadata": {},
     "output_type": "execute_result"
    }
   ],
   "source": [
    "mainclass2.method2()"
   ]
  },
  {
   "cell_type": "code",
   "execution_count": null,
   "id": "ccd19125-06d2-4d5b-9081-93884a3f2816",
   "metadata": {},
   "outputs": [],
   "source": []
  }
 ],
 "metadata": {
  "kernelspec": {
   "display_name": "Python 3 (ipykernel)",
   "language": "python",
   "name": "python3"
  },
  "language_info": {
   "codemirror_mode": {
    "name": "ipython",
    "version": 3
   },
   "file_extension": ".py",
   "mimetype": "text/x-python",
   "name": "python",
   "nbconvert_exporter": "python",
   "pygments_lexer": "ipython3",
   "version": "3.9.13"
  }
 },
 "nbformat": 4,
 "nbformat_minor": 5
}
