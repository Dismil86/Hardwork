{
 "cells": [
  {
   "cell_type": "code",
   "execution_count": 2,
   "id": "cb8f2ff0-8f6d-4f88-8c96-c42317652659",
   "metadata": {},
   "outputs": [
    {
     "name": "stdout",
     "output_type": "stream",
     "text": [
      "после локального присваивания test spam\n",
      "после не локального присваивания nonlocal spam\n",
      "после глобального присваивания nonlocal spam\n",
      "в глобальной видимости global spam\n"
     ]
    }
   ],
   "source": [
    "def scope_test():\n",
    "    \n",
    "    def do_local():\n",
    "        spam = \"lacal spam\"\n",
    "        \n",
    "        \n",
    "    def do_nonlocal():\n",
    "        nonlocal spam\n",
    "        spam = \"nonlocal spam\"\n",
    "        \n",
    "    def do_global():\n",
    "        global spam\n",
    "        spam = \"global spam\"\n",
    "        \n",
    "    spam = \"test spam\" \n",
    "    \n",
    "    do_local()\n",
    "    print(\"после локального присваивания\", spam)\n",
    "    do_nonlocal()\n",
    "    print(\"после не локального присваивания\", spam)\n",
    "    do_global()\n",
    "    print(\"после глобального присваивания\", spam)\n",
    "    \n",
    "    \n",
    "scope_test()\n",
    "print(\"в глобальной видимости\", spam)"
   ]
  },
  {
   "cell_type": "code",
   "execution_count": null,
   "id": "792f4a5d-06c1-457e-a755-aad5f5fe1a5c",
   "metadata": {},
   "outputs": [],
   "source": []
  }
 ],
 "metadata": {
  "kernelspec": {
   "display_name": "Python 3 (ipykernel)",
   "language": "python",
   "name": "python3"
  },
  "language_info": {
   "codemirror_mode": {
    "name": "ipython",
    "version": 3
   },
   "file_extension": ".py",
   "mimetype": "text/x-python",
   "name": "python",
   "nbconvert_exporter": "python",
   "pygments_lexer": "ipython3",
   "version": "3.9.13"
  }
 },
 "nbformat": 4,
 "nbformat_minor": 5
}
