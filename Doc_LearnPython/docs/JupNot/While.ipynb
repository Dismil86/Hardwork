{
 "cells": [
  {
   "cell_type": "markdown",
   "id": "4c74f114-bd39-442e-bb02-f7eba5026c68",
   "metadata": {},
   "source": [
    "####Цикл While означает,что делай пока условие истина\n"
   ]
  },
  {
   "cell_type": "code",
   "execution_count": 15,
   "id": "8220fd62-d47c-421c-ac70-d58bde0d7a3b",
   "metadata": {},
   "outputs": [
    {
     "name": "stdout",
     "output_type": "stream",
     "text": [
      "5\n",
      "4\n",
      "3\n",
      "2\n",
      "1\n",
      "finished!\n"
     ]
    }
   ],
   "source": [
    " def print_numbers(num):\n",
    "        i = num\n",
    "        while i >= 1:\n",
    "            print(i)\n",
    "            i -= 1\n",
    "        print(\"finished!\")\n",
    "print_numbers(5)"
   ]
  },
  {
   "cell_type": "code",
   "execution_count": 16,
   "id": "deeaeffd-7e79-4121-9156-cf3a1dc2da43",
   "metadata": {},
   "outputs": [
    {
     "name": "stdout",
     "output_type": "stream",
     "text": [
      "Congratulates, 0000 you are log in!\n"
     ]
    }
   ],
   "source": [
    " def input_pass():\n",
    "        x = ''\n",
    "        while not x:\n",
    "            x = input(\"Введите ваш логин: \")\n",
    "            \n",
    "        print(f\"Congratulates, {x.title()} you are log in!\")\n",
    "input_pass()"
   ]
  },
  {
   "cell_type": "code",
   "execution_count": 17,
   "id": "1d4b222f-abd1-4177-aa7f-5172b5d5ef4a",
   "metadata": {},
   "outputs": [
    {
     "name": "stdout",
     "output_type": "stream",
     "text": [
      "вы выбрали USD !\n"
     ]
    }
   ],
   "source": [
    "\n",
    "    \"\"\"Конвертирует валюту\n",
    "    \"\"\"\n",
    "    a = ['USD','RUB','EUR','GBR']\n",
    "    x = True\n",
    "    while x:\n",
    "        x = input(f'Введите валюту из списка {a}, котоую хотите обменять: ').upper()\n",
    "        print(f\"вы выбрали {x.upper()} !\")\n",
    "        if x in a:\n",
    "            x = False\n",
    "    \n",
    "        else: \n",
    "            print(\"вы ввели валюту, которая отсуствует в списке! Попробуйте еще раз\")"
   ]
  },
  {
   "cell_type": "markdown",
   "id": "0b7f880a",
   "metadata": {},
   "source": [
    "Представьте себе функцию, которая считает, сколько раз входит буква в предложение. Пример её работы:"
   ]
  },
  {
   "cell_type": "code",
   "execution_count": 21,
   "id": "016feea2-f3f2-4d95-aeff-24f8fe144a39",
   "metadata": {},
   "outputs": [
    {
     "name": "stdout",
     "output_type": "stream",
     "text": [
      "2\n"
     ]
    }
   ],
   "source": [
    "def character_counter(text,char):\n",
    "    \"\"\" Функция принимает в качестве аргумента предложение(str)\n",
    "        и элемент строки, который надо посчитать\n",
    "    \"\"\"\n",
    "    index = 0 # Задаем начальную точку отсчета для итерирования коллекции, последовательности(str)\n",
    "    count = 0 # Счетчик колличесва вхождений субстроки(sub) в посдедоватьность\n",
    "    while index < len(text): # Создаем цикл с условием делать до того пока условие: индекс элемента последовательности меньше длины последовательности \n",
    "        if text[index] == char:#Если элемент строки(sub) равен заданному элементу(sub): ..\n",
    "            count += 1#  ....прибаляем к нашему счетчику 1\n",
    "        index += 1\n",
    "    return count # возвращаем подсчитанное колличество\n",
    "\n",
    "print(character_counter(' We lOve spartak moscow','o'))"
   ]
  },
  {
   "cell_type": "code",
   "execution_count": 19,
   "id": "96079788",
   "metadata": {},
   "outputs": [
    {
     "name": "stdout",
     "output_type": "stream",
     "text": [
      "3\n"
     ]
    }
   ],
   "source": [
    "# Сделали тоже самое, только применили цикл ``for``  см.6.1. Написание питоновских циклов \"Chisty_Python__Den_Beyder\"\n",
    "x = 'We love spartak moscow'\n",
    "count = 0\n",
    "for letter in x: # Цикл ``for`` работае по приципу \"Для каждого\"\n",
    "    if letter == 'o':\n",
    "        count += 1\n",
    "print(count)"
   ]
  },
  {
   "cell_type": "markdown",
   "id": "06fee3b8",
   "metadata": {},
   "source": [
    "функция из теории учитывает регистр букв. То есть 'A' и 'a' с её точки зрения разные символы. \n",
    "Реализуйте вариант этой же функции, так чтобы регистр букв был не важен:"
   ]
  },
  {
   "cell_type": "code",
   "execution_count": 35,
   "id": "f1b72a81",
   "metadata": {},
   "outputs": [
    {
     "name": "stdout",
     "output_type": "stream",
     "text": [
      "3\n"
     ]
    }
   ],
   "source": [
    "def character_counter(text,char):\n",
    "    \"\"\" Функция принимает в качестве аргумента предложение(str)\n",
    "        и элемент строки, который надо посчитать\n",
    "    \"\"\"\n",
    "    index = 0 \n",
    "    count = 0\n",
    "    while index < len(text): \n",
    "        if text[index].lower() == char.lower(): # Теперь, с помощью методов строки переводим проверяемые элементы последовательности в нижний регистр\n",
    "            count += 1\n",
    "        index += 1\n",
    "    return count \n",
    "\n",
    "print(character_counter(' We lOve spartak moscow','o'))"
   ]
  },
  {
   "cell_type": "code",
   "execution_count": 34,
   "id": "672efabe",
   "metadata": {},
   "outputs": [
    {
     "data": {
      "text/plain": [
       "3"
      ]
     },
     "execution_count": 34,
     "metadata": {},
     "output_type": "execute_result"
    }
   ],
   "source": [
    "# А теперь с применением цикла ``for``\n",
    "def count_chars(text,sub):\n",
    "    \"\"\"Счетчик вхождения элемента в строку.\n",
    "    Args:\n",
    "    text(str): Проверяемая стрка\n",
    "    suv(str): Что будем искать в строке\n",
    "    \"\"\"\n",
    "    count = 0 \n",
    "    for letter in text:\n",
    "        if letter.lower() == sub.lower():\n",
    "            count += 1\n",
    "    return count\n",
    "count_chars('Never give up','E')"
   ]
  },
  {
   "cell_type": "markdown",
   "id": "4fec52e1",
   "metadata": {},
   "source": [
    "Переворот строки (запись её задом-наперёд) — простейшая алгоритмическая задача, которую иногда задают на собеседованиях."
   ]
  },
  {
   "cell_type": "code",
   "execution_count": 30,
   "id": "bcf740e5",
   "metadata": {},
   "outputs": [
    {
     "data": {
      "text/plain": [
       "'gnirts'"
      ]
     },
     "execution_count": 30,
     "metadata": {},
     "output_type": "execute_result"
    }
   ],
   "source": [
    "# Решение с помощью цикла ``for`` с помощью метода словаря ``join``\n",
    "def reverse_string(string):\n",
    "    new_string = []\n",
    "    for i in string[::-1]:\n",
    "        new_string.append(i)\n",
    "    x = ''.join(new_string)\n",
    "    return x\n",
    "reverse_string('string')"
   ]
  },
  {
   "cell_type": "code",
   "execution_count": 39,
   "id": "9dd1471f",
   "metadata": {},
   "outputs": [
    {
     "data": {
      "text/plain": [
       "'gnirts'"
      ]
     },
     "execution_count": 39,
     "metadata": {},
     "output_type": "execute_result"
    }
   ],
   "source": [
    "# Цикл ``While`` с помощью метода словаря ``join``\n",
    "def reverse_string(string):\n",
    "    index = len(string) - 1\n",
    "    rstring = []\n",
    "    while index >= 0:\n",
    "        rstring.append(string[index])\n",
    "        index -= 1\n",
    "    return ''.join(rstring)\n",
    "        \n",
    "reverse_string('string')"
   ]
  },
  {
   "cell_type": "code",
   "execution_count": 45,
   "id": "fbd8ef5a",
   "metadata": {},
   "outputs": [
    {
     "data": {
      "text/plain": [
       "'gnirts'"
      ]
     },
     "execution_count": 45,
     "metadata": {},
     "output_type": "execute_result"
    }
   ],
   "source": [
    "# решение с применнением цикла ``while`` путем создание новой строки и интерполяции(сложения) конкатенации сиволов строки\n",
    "def reverse_string(string):\n",
    "    index = len(string) - 1 \n",
    "    r_string = ''\n",
    "    while index >= 0:\n",
    "       cur_chr = string[index] \n",
    "       r_string = f'{r_string}{cur_chr}' \n",
    "       index -= 1\n",
    "    return r_string\n",
    "\n",
    "reverse_string('string')"
   ]
  },
  {
   "cell_type": "markdown",
   "id": "38930e36",
   "metadata": {},
   "source": [
    "Реализуйте функцию my_substr(), которая извлекает из строки подстроку указанной длины. Она принимает на вход два аргумента: строку и длину, и возвращает подстроку, начиная с первого символа:"
   ]
  },
  {
   "cell_type": "code",
   "execution_count": 46,
   "id": "1310c727",
   "metadata": {},
   "outputs": [
    {
     "data": {
      "text/plain": [
       "'Param'"
      ]
     },
     "execution_count": 46,
     "metadata": {},
     "output_type": "execute_result"
    }
   ],
   "source": [
    "def my_substr(text, num):\n",
    "    \"\"\"Args\n",
    "    \"\"\"\n",
    "    nstr = text[:num]\n",
    "    return nstr\n",
    "\n",
    "my_substr('Paramparam', 5)"
   ]
  },
  {
   "cell_type": "code",
   "execution_count": 48,
   "id": "bb1e0b0e",
   "metadata": {},
   "outputs": [
    {
     "data": {
      "text/plain": [
       "'Param'"
      ]
     },
     "execution_count": 48,
     "metadata": {},
     "output_type": "execute_result"
    }
   ],
   "source": [
    "# Теперь с применением цикла while и  интерполяции\n",
    "def my_substr(text, num):\n",
    "    index = 0\n",
    "    nstr = ''\n",
    "    while index <= num - 1:\n",
    "        cur_chr = text[index]\n",
    "        nstr = f'{nstr}{cur_chr}'\n",
    "        index += 1\n",
    "    return nstr\n",
    "my_substr('Paramparam', 5)"
   ]
  },
  {
   "cell_type": "markdown",
   "id": "06f43148",
   "metadata": {},
   "source": [
    "Реализуйте функцию is_contains_char(), которая проверяет с учётом регистра, содержит ли строка указанную букву. Функция принимает два параметра:\n",
    "\n",
    "    Строка\n",
    "    Буква для поиска\n"
   ]
  },
  {
   "cell_type": "code",
   "execution_count": 54,
   "id": "80410180",
   "metadata": {},
   "outputs": [
    {
     "data": {
      "text/plain": [
       "True"
      ]
     },
     "execution_count": 54,
     "metadata": {},
     "output_type": "execute_result"
    }
   ],
   "source": [
    "def is_contains_char(text,chr):\n",
    "    for letter in text:\n",
    "        if letter == chr:\n",
    "            return True\n",
    "    return False\n",
    "\n",
    "is_contains_char('Hexlet', 'H')"
   ]
  },
  {
   "cell_type": "code",
   "execution_count": 52,
   "id": "a0fdc136",
   "metadata": {},
   "outputs": [],
   "source": [
    "\n",
    "\n",
    "def test1(capsys):\n",
    "\n",
    "    assert index.is_contains_char('Hexlet', 'H')\n",
    "\n",
    "    assert not index.is_contains_char('Hexlet', 'h')\n",
    "\n",
    "    assert index.is_contains_char('Awesomeness', 'm')\n",
    "\n",
    "    assert not index.is_contains_char('Awesomeness', 'd')\n",
    "\n",
    "    assert index.is_contains_char('Awesomeness', 'o')\n"
   ]
  },
  {
   "cell_type": "code",
   "execution_count": 1,
   "id": "66004783",
   "metadata": {},
   "outputs": [
    {
     "data": {
      "text/plain": [
       "True"
      ]
     },
     "execution_count": 1,
     "metadata": {},
     "output_type": "execute_result"
    }
   ],
   "source": [
    "def is_contains_char(string, char):\n",
    "    index = 0\n",
    "    while index < len(string):\n",
    "        if string[index] == char:\n",
    "            return True\n",
    "        index += 1\n",
    "    return False\n",
    "\n",
    "is_contains_char('Awesomeness', 'o')"
   ]
  },
  {
   "cell_type": "code",
   "execution_count": null,
   "id": "f432322f",
   "metadata": {},
   "outputs": [],
   "source": []
  }
 ],
 "metadata": {
  "kernelspec": {
   "display_name": "Python 3 (ipykernel)",
   "language": "python",
   "name": "python3"
  },
  "language_info": {
   "codemirror_mode": {
    "name": "ipython",
    "version": 3
   },
   "file_extension": ".py",
   "mimetype": "text/x-python",
   "name": "python",
   "nbconvert_exporter": "python",
   "pygments_lexer": "ipython3",
   "version": "3.10.0"
  },
  "vscode": {
   "interpreter": {
    "hash": "20c1fe21645debee36d8e4152e79d4beab4f5df091f9e21e355db43c9b84c467"
   }
  }
 },
 "nbformat": 4,
 "nbformat_minor": 5
}
